{
 "cells": [
  {
   "cell_type": "markdown",
   "id": "c8defd01",
   "metadata": {
    "papermill": {
     "duration": 0.01138,
     "end_time": "2025-05-29T20:12:23.037835",
     "exception": false,
     "start_time": "2025-05-29T20:12:23.026455",
     "status": "completed"
    },
    "tags": []
   },
   "source": [
    "# Import and Data Preprocessing"
   ]
  },
  {
   "cell_type": "code",
   "execution_count": 1,
   "id": "1d9d3c25",
   "metadata": {
    "_cell_guid": "b1076dfc-b9ad-4769-8c92-a6c4dae69d19",
    "_uuid": "8f2839f25d086af736a60e9eeb907d3b93b6e0e5",
    "execution": {
     "iopub.execute_input": "2025-05-29T20:12:23.058572Z",
     "iopub.status.busy": "2025-05-29T20:12:23.058266Z",
     "iopub.status.idle": "2025-05-29T20:12:25.249587Z",
     "shell.execute_reply": "2025-05-29T20:12:25.248424Z"
    },
    "papermill": {
     "duration": 2.20362,
     "end_time": "2025-05-29T20:12:25.251358",
     "exception": false,
     "start_time": "2025-05-29T20:12:23.047738",
     "status": "completed"
    },
    "tags": []
   },
   "outputs": [],
   "source": [
    "import pandas as pd"
   ]
  },
  {
   "cell_type": "code",
   "execution_count": 2,
   "id": "88100626",
   "metadata": {
    "execution": {
     "iopub.execute_input": "2025-05-29T20:12:25.271367Z",
     "iopub.status.busy": "2025-05-29T20:12:25.270940Z",
     "iopub.status.idle": "2025-05-29T20:12:28.648341Z",
     "shell.execute_reply": "2025-05-29T20:12:28.647173Z"
    },
    "papermill": {
     "duration": 3.389746,
     "end_time": "2025-05-29T20:12:28.650330",
     "exception": false,
     "start_time": "2025-05-29T20:12:25.260584",
     "status": "completed"
    },
    "tags": []
   },
   "outputs": [],
   "source": [
    "data = pd.read_csv(\"/kaggle/input/vehicle-sales-data/car_prices.csv\")"
   ]
  },
  {
   "cell_type": "code",
   "execution_count": 3,
   "id": "3b611320",
   "metadata": {
    "execution": {
     "iopub.execute_input": "2025-05-29T20:12:28.672368Z",
     "iopub.status.busy": "2025-05-29T20:12:28.672061Z",
     "iopub.status.idle": "2025-05-29T20:12:28.708786Z",
     "shell.execute_reply": "2025-05-29T20:12:28.707854Z"
    },
    "papermill": {
     "duration": 0.049914,
     "end_time": "2025-05-29T20:12:28.710339",
     "exception": false,
     "start_time": "2025-05-29T20:12:28.660425",
     "status": "completed"
    },
    "tags": []
   },
   "outputs": [
    {
     "data": {
      "text/html": [
       "<div>\n",
       "<style scoped>\n",
       "    .dataframe tbody tr th:only-of-type {\n",
       "        vertical-align: middle;\n",
       "    }\n",
       "\n",
       "    .dataframe tbody tr th {\n",
       "        vertical-align: top;\n",
       "    }\n",
       "\n",
       "    .dataframe thead th {\n",
       "        text-align: right;\n",
       "    }\n",
       "</style>\n",
       "<table border=\"1\" class=\"dataframe\">\n",
       "  <thead>\n",
       "    <tr style=\"text-align: right;\">\n",
       "      <th></th>\n",
       "      <th>year</th>\n",
       "      <th>make</th>\n",
       "      <th>model</th>\n",
       "      <th>trim</th>\n",
       "      <th>body</th>\n",
       "      <th>transmission</th>\n",
       "      <th>vin</th>\n",
       "      <th>state</th>\n",
       "      <th>condition</th>\n",
       "      <th>odometer</th>\n",
       "      <th>color</th>\n",
       "      <th>interior</th>\n",
       "      <th>seller</th>\n",
       "      <th>mmr</th>\n",
       "      <th>sellingprice</th>\n",
       "      <th>saledate</th>\n",
       "    </tr>\n",
       "  </thead>\n",
       "  <tbody>\n",
       "    <tr>\n",
       "      <th>0</th>\n",
       "      <td>2015</td>\n",
       "      <td>Kia</td>\n",
       "      <td>Sorento</td>\n",
       "      <td>LX</td>\n",
       "      <td>SUV</td>\n",
       "      <td>automatic</td>\n",
       "      <td>5xyktca69fg566472</td>\n",
       "      <td>ca</td>\n",
       "      <td>5.0</td>\n",
       "      <td>16639.0</td>\n",
       "      <td>white</td>\n",
       "      <td>black</td>\n",
       "      <td>kia motors america  inc</td>\n",
       "      <td>20500.0</td>\n",
       "      <td>21500.0</td>\n",
       "      <td>Tue Dec 16 2014 12:30:00 GMT-0800 (PST)</td>\n",
       "    </tr>\n",
       "    <tr>\n",
       "      <th>1</th>\n",
       "      <td>2015</td>\n",
       "      <td>Kia</td>\n",
       "      <td>Sorento</td>\n",
       "      <td>LX</td>\n",
       "      <td>SUV</td>\n",
       "      <td>automatic</td>\n",
       "      <td>5xyktca69fg561319</td>\n",
       "      <td>ca</td>\n",
       "      <td>5.0</td>\n",
       "      <td>9393.0</td>\n",
       "      <td>white</td>\n",
       "      <td>beige</td>\n",
       "      <td>kia motors america  inc</td>\n",
       "      <td>20800.0</td>\n",
       "      <td>21500.0</td>\n",
       "      <td>Tue Dec 16 2014 12:30:00 GMT-0800 (PST)</td>\n",
       "    </tr>\n",
       "    <tr>\n",
       "      <th>2</th>\n",
       "      <td>2014</td>\n",
       "      <td>BMW</td>\n",
       "      <td>3 Series</td>\n",
       "      <td>328i SULEV</td>\n",
       "      <td>Sedan</td>\n",
       "      <td>automatic</td>\n",
       "      <td>wba3c1c51ek116351</td>\n",
       "      <td>ca</td>\n",
       "      <td>45.0</td>\n",
       "      <td>1331.0</td>\n",
       "      <td>gray</td>\n",
       "      <td>black</td>\n",
       "      <td>financial services remarketing (lease)</td>\n",
       "      <td>31900.0</td>\n",
       "      <td>30000.0</td>\n",
       "      <td>Thu Jan 15 2015 04:30:00 GMT-0800 (PST)</td>\n",
       "    </tr>\n",
       "    <tr>\n",
       "      <th>3</th>\n",
       "      <td>2015</td>\n",
       "      <td>Volvo</td>\n",
       "      <td>S60</td>\n",
       "      <td>T5</td>\n",
       "      <td>Sedan</td>\n",
       "      <td>automatic</td>\n",
       "      <td>yv1612tb4f1310987</td>\n",
       "      <td>ca</td>\n",
       "      <td>41.0</td>\n",
       "      <td>14282.0</td>\n",
       "      <td>white</td>\n",
       "      <td>black</td>\n",
       "      <td>volvo na rep/world omni</td>\n",
       "      <td>27500.0</td>\n",
       "      <td>27750.0</td>\n",
       "      <td>Thu Jan 29 2015 04:30:00 GMT-0800 (PST)</td>\n",
       "    </tr>\n",
       "    <tr>\n",
       "      <th>4</th>\n",
       "      <td>2014</td>\n",
       "      <td>BMW</td>\n",
       "      <td>6 Series Gran Coupe</td>\n",
       "      <td>650i</td>\n",
       "      <td>Sedan</td>\n",
       "      <td>automatic</td>\n",
       "      <td>wba6b2c57ed129731</td>\n",
       "      <td>ca</td>\n",
       "      <td>43.0</td>\n",
       "      <td>2641.0</td>\n",
       "      <td>gray</td>\n",
       "      <td>black</td>\n",
       "      <td>financial services remarketing (lease)</td>\n",
       "      <td>66000.0</td>\n",
       "      <td>67000.0</td>\n",
       "      <td>Thu Dec 18 2014 12:30:00 GMT-0800 (PST)</td>\n",
       "    </tr>\n",
       "    <tr>\n",
       "      <th>5</th>\n",
       "      <td>2015</td>\n",
       "      <td>Nissan</td>\n",
       "      <td>Altima</td>\n",
       "      <td>2.5 S</td>\n",
       "      <td>Sedan</td>\n",
       "      <td>automatic</td>\n",
       "      <td>1n4al3ap1fn326013</td>\n",
       "      <td>ca</td>\n",
       "      <td>1.0</td>\n",
       "      <td>5554.0</td>\n",
       "      <td>gray</td>\n",
       "      <td>black</td>\n",
       "      <td>enterprise vehicle exchange / tra / rental / t...</td>\n",
       "      <td>15350.0</td>\n",
       "      <td>10900.0</td>\n",
       "      <td>Tue Dec 30 2014 12:00:00 GMT-0800 (PST)</td>\n",
       "    </tr>\n",
       "    <tr>\n",
       "      <th>6</th>\n",
       "      <td>2014</td>\n",
       "      <td>BMW</td>\n",
       "      <td>M5</td>\n",
       "      <td>Base</td>\n",
       "      <td>Sedan</td>\n",
       "      <td>automatic</td>\n",
       "      <td>wbsfv9c51ed593089</td>\n",
       "      <td>ca</td>\n",
       "      <td>34.0</td>\n",
       "      <td>14943.0</td>\n",
       "      <td>black</td>\n",
       "      <td>black</td>\n",
       "      <td>the hertz corporation</td>\n",
       "      <td>69000.0</td>\n",
       "      <td>65000.0</td>\n",
       "      <td>Wed Dec 17 2014 12:30:00 GMT-0800 (PST)</td>\n",
       "    </tr>\n",
       "    <tr>\n",
       "      <th>7</th>\n",
       "      <td>2014</td>\n",
       "      <td>Chevrolet</td>\n",
       "      <td>Cruze</td>\n",
       "      <td>1LT</td>\n",
       "      <td>Sedan</td>\n",
       "      <td>automatic</td>\n",
       "      <td>1g1pc5sb2e7128460</td>\n",
       "      <td>ca</td>\n",
       "      <td>2.0</td>\n",
       "      <td>28617.0</td>\n",
       "      <td>black</td>\n",
       "      <td>black</td>\n",
       "      <td>enterprise vehicle exchange / tra / rental / t...</td>\n",
       "      <td>11900.0</td>\n",
       "      <td>9800.0</td>\n",
       "      <td>Tue Dec 16 2014 13:00:00 GMT-0800 (PST)</td>\n",
       "    </tr>\n",
       "    <tr>\n",
       "      <th>8</th>\n",
       "      <td>2014</td>\n",
       "      <td>Audi</td>\n",
       "      <td>A4</td>\n",
       "      <td>2.0T Premium Plus quattro</td>\n",
       "      <td>Sedan</td>\n",
       "      <td>automatic</td>\n",
       "      <td>wauffafl3en030343</td>\n",
       "      <td>ca</td>\n",
       "      <td>42.0</td>\n",
       "      <td>9557.0</td>\n",
       "      <td>white</td>\n",
       "      <td>black</td>\n",
       "      <td>audi mission viejo</td>\n",
       "      <td>32100.0</td>\n",
       "      <td>32250.0</td>\n",
       "      <td>Thu Dec 18 2014 12:00:00 GMT-0800 (PST)</td>\n",
       "    </tr>\n",
       "    <tr>\n",
       "      <th>9</th>\n",
       "      <td>2014</td>\n",
       "      <td>Chevrolet</td>\n",
       "      <td>Camaro</td>\n",
       "      <td>LT</td>\n",
       "      <td>Convertible</td>\n",
       "      <td>automatic</td>\n",
       "      <td>2g1fb3d37e9218789</td>\n",
       "      <td>ca</td>\n",
       "      <td>3.0</td>\n",
       "      <td>4809.0</td>\n",
       "      <td>red</td>\n",
       "      <td>black</td>\n",
       "      <td>d/m auto sales inc</td>\n",
       "      <td>26300.0</td>\n",
       "      <td>17500.0</td>\n",
       "      <td>Tue Jan 20 2015 04:00:00 GMT-0800 (PST)</td>\n",
       "    </tr>\n",
       "  </tbody>\n",
       "</table>\n",
       "</div>"
      ],
      "text/plain": [
       "   year       make                model                       trim  \\\n",
       "0  2015        Kia              Sorento                         LX   \n",
       "1  2015        Kia              Sorento                         LX   \n",
       "2  2014        BMW             3 Series                 328i SULEV   \n",
       "3  2015      Volvo                  S60                         T5   \n",
       "4  2014        BMW  6 Series Gran Coupe                       650i   \n",
       "5  2015     Nissan               Altima                      2.5 S   \n",
       "6  2014        BMW                   M5                       Base   \n",
       "7  2014  Chevrolet                Cruze                        1LT   \n",
       "8  2014       Audi                   A4  2.0T Premium Plus quattro   \n",
       "9  2014  Chevrolet               Camaro                         LT   \n",
       "\n",
       "          body transmission                vin state  condition  odometer  \\\n",
       "0          SUV    automatic  5xyktca69fg566472    ca        5.0   16639.0   \n",
       "1          SUV    automatic  5xyktca69fg561319    ca        5.0    9393.0   \n",
       "2        Sedan    automatic  wba3c1c51ek116351    ca       45.0    1331.0   \n",
       "3        Sedan    automatic  yv1612tb4f1310987    ca       41.0   14282.0   \n",
       "4        Sedan    automatic  wba6b2c57ed129731    ca       43.0    2641.0   \n",
       "5        Sedan    automatic  1n4al3ap1fn326013    ca        1.0    5554.0   \n",
       "6        Sedan    automatic  wbsfv9c51ed593089    ca       34.0   14943.0   \n",
       "7        Sedan    automatic  1g1pc5sb2e7128460    ca        2.0   28617.0   \n",
       "8        Sedan    automatic  wauffafl3en030343    ca       42.0    9557.0   \n",
       "9  Convertible    automatic  2g1fb3d37e9218789    ca        3.0    4809.0   \n",
       "\n",
       "   color interior                                             seller      mmr  \\\n",
       "0  white    black                            kia motors america  inc  20500.0   \n",
       "1  white    beige                            kia motors america  inc  20800.0   \n",
       "2   gray    black             financial services remarketing (lease)  31900.0   \n",
       "3  white    black                            volvo na rep/world omni  27500.0   \n",
       "4   gray    black             financial services remarketing (lease)  66000.0   \n",
       "5   gray    black  enterprise vehicle exchange / tra / rental / t...  15350.0   \n",
       "6  black    black                              the hertz corporation  69000.0   \n",
       "7  black    black  enterprise vehicle exchange / tra / rental / t...  11900.0   \n",
       "8  white    black                                 audi mission viejo  32100.0   \n",
       "9    red    black                                 d/m auto sales inc  26300.0   \n",
       "\n",
       "   sellingprice                                 saledate  \n",
       "0       21500.0  Tue Dec 16 2014 12:30:00 GMT-0800 (PST)  \n",
       "1       21500.0  Tue Dec 16 2014 12:30:00 GMT-0800 (PST)  \n",
       "2       30000.0  Thu Jan 15 2015 04:30:00 GMT-0800 (PST)  \n",
       "3       27750.0  Thu Jan 29 2015 04:30:00 GMT-0800 (PST)  \n",
       "4       67000.0  Thu Dec 18 2014 12:30:00 GMT-0800 (PST)  \n",
       "5       10900.0  Tue Dec 30 2014 12:00:00 GMT-0800 (PST)  \n",
       "6       65000.0  Wed Dec 17 2014 12:30:00 GMT-0800 (PST)  \n",
       "7        9800.0  Tue Dec 16 2014 13:00:00 GMT-0800 (PST)  \n",
       "8       32250.0  Thu Dec 18 2014 12:00:00 GMT-0800 (PST)  \n",
       "9       17500.0  Tue Jan 20 2015 04:00:00 GMT-0800 (PST)  "
      ]
     },
     "execution_count": 3,
     "metadata": {},
     "output_type": "execute_result"
    }
   ],
   "source": [
    "data.head(10)"
   ]
  },
  {
   "cell_type": "code",
   "execution_count": 4,
   "id": "2aa978a7",
   "metadata": {
    "execution": {
     "iopub.execute_input": "2025-05-29T20:12:28.732090Z",
     "iopub.status.busy": "2025-05-29T20:12:28.731780Z",
     "iopub.status.idle": "2025-05-29T20:12:29.077677Z",
     "shell.execute_reply": "2025-05-29T20:12:29.076451Z"
    },
    "papermill": {
     "duration": 0.359227,
     "end_time": "2025-05-29T20:12:29.079881",
     "exception": false,
     "start_time": "2025-05-29T20:12:28.720654",
     "status": "completed"
    },
    "tags": []
   },
   "outputs": [
    {
     "name": "stdout",
     "output_type": "stream",
     "text": [
      "<class 'pandas.core.frame.DataFrame'>\n",
      "RangeIndex: 558837 entries, 0 to 558836\n",
      "Data columns (total 16 columns):\n",
      " #   Column        Non-Null Count   Dtype  \n",
      "---  ------        --------------   -----  \n",
      " 0   year          558837 non-null  int64  \n",
      " 1   make          548536 non-null  object \n",
      " 2   model         548438 non-null  object \n",
      " 3   trim          548186 non-null  object \n",
      " 4   body          545642 non-null  object \n",
      " 5   transmission  493485 non-null  object \n",
      " 6   vin           558833 non-null  object \n",
      " 7   state         558837 non-null  object \n",
      " 8   condition     547017 non-null  float64\n",
      " 9   odometer      558743 non-null  float64\n",
      " 10  color         558088 non-null  object \n",
      " 11  interior      558088 non-null  object \n",
      " 12  seller        558837 non-null  object \n",
      " 13  mmr           558799 non-null  float64\n",
      " 14  sellingprice  558825 non-null  float64\n",
      " 15  saledate      558825 non-null  object \n",
      "dtypes: float64(4), int64(1), object(11)\n",
      "memory usage: 68.2+ MB\n"
     ]
    }
   ],
   "source": [
    "data.info()"
   ]
  },
  {
   "cell_type": "code",
   "execution_count": 5,
   "id": "14007865",
   "metadata": {
    "execution": {
     "iopub.execute_input": "2025-05-29T20:12:29.102196Z",
     "iopub.status.busy": "2025-05-29T20:12:29.101896Z",
     "iopub.status.idle": "2025-05-29T20:12:29.420321Z",
     "shell.execute_reply": "2025-05-29T20:12:29.419362Z"
    },
    "papermill": {
     "duration": 0.330997,
     "end_time": "2025-05-29T20:12:29.422139",
     "exception": false,
     "start_time": "2025-05-29T20:12:29.091142",
     "status": "completed"
    },
    "tags": []
   },
   "outputs": [
    {
     "data": {
      "text/plain": [
       "year                0\n",
       "make            10301\n",
       "model           10399\n",
       "trim            10651\n",
       "body            13195\n",
       "transmission    65352\n",
       "vin                 4\n",
       "state               0\n",
       "condition       11820\n",
       "odometer           94\n",
       "color             749\n",
       "interior          749\n",
       "seller              0\n",
       "mmr                38\n",
       "sellingprice       12\n",
       "saledate           12\n",
       "dtype: int64"
      ]
     },
     "execution_count": 5,
     "metadata": {},
     "output_type": "execute_result"
    }
   ],
   "source": [
    "data.isnull().sum()"
   ]
  },
  {
   "cell_type": "code",
   "execution_count": 6,
   "id": "723d96fc",
   "metadata": {
    "execution": {
     "iopub.execute_input": "2025-05-29T20:12:29.444359Z",
     "iopub.status.busy": "2025-05-29T20:12:29.443597Z",
     "iopub.status.idle": "2025-05-29T20:12:29.791689Z",
     "shell.execute_reply": "2025-05-29T20:12:29.790785Z"
    },
    "papermill": {
     "duration": 0.362264,
     "end_time": "2025-05-29T20:12:29.794200",
     "exception": false,
     "start_time": "2025-05-29T20:12:29.431936",
     "status": "completed"
    },
    "tags": []
   },
   "outputs": [
    {
     "name": "stderr",
     "output_type": "stream",
     "text": [
      "/usr/local/lib/python3.11/dist-packages/pandas/io/formats/format.py:1458: RuntimeWarning: invalid value encountered in greater\n",
      "  has_large_values = (abs_vals > 1e6).any()\n",
      "/usr/local/lib/python3.11/dist-packages/pandas/io/formats/format.py:1459: RuntimeWarning: invalid value encountered in less\n",
      "  has_small_values = ((abs_vals < 10 ** (-self.digits)) & (abs_vals > 0)).any()\n",
      "/usr/local/lib/python3.11/dist-packages/pandas/io/formats/format.py:1459: RuntimeWarning: invalid value encountered in greater\n",
      "  has_small_values = ((abs_vals < 10 ** (-self.digits)) & (abs_vals > 0)).any()\n"
     ]
    },
    {
     "data": {
      "text/html": [
       "<div>\n",
       "<style scoped>\n",
       "    .dataframe tbody tr th:only-of-type {\n",
       "        vertical-align: middle;\n",
       "    }\n",
       "\n",
       "    .dataframe tbody tr th {\n",
       "        vertical-align: top;\n",
       "    }\n",
       "\n",
       "    .dataframe thead th {\n",
       "        text-align: right;\n",
       "    }\n",
       "</style>\n",
       "<table border=\"1\" class=\"dataframe\">\n",
       "  <thead>\n",
       "    <tr style=\"text-align: right;\">\n",
       "      <th></th>\n",
       "      <th>year</th>\n",
       "      <th>make</th>\n",
       "      <th>model</th>\n",
       "      <th>trim</th>\n",
       "      <th>body</th>\n",
       "      <th>transmission</th>\n",
       "      <th>vin</th>\n",
       "      <th>state</th>\n",
       "      <th>condition</th>\n",
       "      <th>odometer</th>\n",
       "      <th>color</th>\n",
       "      <th>interior</th>\n",
       "      <th>seller</th>\n",
       "      <th>mmr</th>\n",
       "      <th>sellingprice</th>\n",
       "      <th>saledate</th>\n",
       "    </tr>\n",
       "  </thead>\n",
       "  <tbody>\n",
       "    <tr>\n",
       "      <th>14</th>\n",
       "      <td>2014</td>\n",
       "      <td>Chevrolet</td>\n",
       "      <td>Cruze</td>\n",
       "      <td>2LT</td>\n",
       "      <td>Sedan</td>\n",
       "      <td>automatic</td>\n",
       "      <td>1g1pe5sbxe7120097</td>\n",
       "      <td>ca</td>\n",
       "      <td>NaN</td>\n",
       "      <td>15686.0</td>\n",
       "      <td>blue</td>\n",
       "      <td>black</td>\n",
       "      <td>avis rac/san leandro</td>\n",
       "      <td>13900.0</td>\n",
       "      <td>10600.0</td>\n",
       "      <td>Tue Dec 16 2014 12:00:00 GMT-0800 (PST)</td>\n",
       "    </tr>\n",
       "    <tr>\n",
       "      <th>16</th>\n",
       "      <td>2015</td>\n",
       "      <td>Hyundai</td>\n",
       "      <td>Sonata</td>\n",
       "      <td>SE</td>\n",
       "      <td>Sedan</td>\n",
       "      <td>automatic</td>\n",
       "      <td>5npe24af4fh001562</td>\n",
       "      <td>ca</td>\n",
       "      <td>NaN</td>\n",
       "      <td>8311.0</td>\n",
       "      <td>red</td>\n",
       "      <td>—</td>\n",
       "      <td>avis tra</td>\n",
       "      <td>15200.0</td>\n",
       "      <td>4200.0</td>\n",
       "      <td>Tue Dec 16 2014 13:00:00 GMT-0800 (PST)</td>\n",
       "    </tr>\n",
       "    <tr>\n",
       "      <th>22</th>\n",
       "      <td>2014</td>\n",
       "      <td>Chevrolet</td>\n",
       "      <td>Camaro</td>\n",
       "      <td>LT</td>\n",
       "      <td>Convertible</td>\n",
       "      <td>automatic</td>\n",
       "      <td>2g1fb3d31e9134662</td>\n",
       "      <td>ca</td>\n",
       "      <td>NaN</td>\n",
       "      <td>33450.0</td>\n",
       "      <td>black</td>\n",
       "      <td>black</td>\n",
       "      <td>avis rac/san leandro</td>\n",
       "      <td>20100.0</td>\n",
       "      <td>14700.0</td>\n",
       "      <td>Tue Dec 16 2014 12:00:00 GMT-0800 (PST)</td>\n",
       "    </tr>\n",
       "    <tr>\n",
       "      <th>25</th>\n",
       "      <td>2015</td>\n",
       "      <td>Hyundai</td>\n",
       "      <td>Sonata</td>\n",
       "      <td>SE</td>\n",
       "      <td>Sedan</td>\n",
       "      <td>automatic</td>\n",
       "      <td>5npe24af4fh038482</td>\n",
       "      <td>ca</td>\n",
       "      <td>NaN</td>\n",
       "      <td>9281.0</td>\n",
       "      <td>silver</td>\n",
       "      <td>gray</td>\n",
       "      <td>enterprise vehicle exchange / tra / rental / t...</td>\n",
       "      <td>15150.0</td>\n",
       "      <td>8500.0</td>\n",
       "      <td>Tue Dec 16 2014 13:00:00 GMT-0800 (PST)</td>\n",
       "    </tr>\n",
       "    <tr>\n",
       "      <th>28</th>\n",
       "      <td>2014</td>\n",
       "      <td>BMW</td>\n",
       "      <td>X5</td>\n",
       "      <td>sDrive35i</td>\n",
       "      <td>SUV</td>\n",
       "      <td>automatic</td>\n",
       "      <td>5uxkr2c52e0h33130</td>\n",
       "      <td>ca</td>\n",
       "      <td>NaN</td>\n",
       "      <td>11278.0</td>\n",
       "      <td>gray</td>\n",
       "      <td>black</td>\n",
       "      <td>avis rac/san leandro</td>\n",
       "      <td>50400.0</td>\n",
       "      <td>34000.0</td>\n",
       "      <td>Tue Dec 16 2014 13:00:00 GMT-0800 (PST)</td>\n",
       "    </tr>\n",
       "    <tr>\n",
       "      <th>...</th>\n",
       "      <td>...</td>\n",
       "      <td>...</td>\n",
       "      <td>...</td>\n",
       "      <td>...</td>\n",
       "      <td>...</td>\n",
       "      <td>...</td>\n",
       "      <td>...</td>\n",
       "      <td>...</td>\n",
       "      <td>...</td>\n",
       "      <td>...</td>\n",
       "      <td>...</td>\n",
       "      <td>...</td>\n",
       "      <td>...</td>\n",
       "      <td>...</td>\n",
       "      <td>...</td>\n",
       "      <td>...</td>\n",
       "    </tr>\n",
       "    <tr>\n",
       "      <th>558814</th>\n",
       "      <td>2014</td>\n",
       "      <td>Dodge</td>\n",
       "      <td>Charger</td>\n",
       "      <td>SE</td>\n",
       "      <td>Sedan</td>\n",
       "      <td>NaN</td>\n",
       "      <td>2c3cdxbg3eh324197</td>\n",
       "      <td>va</td>\n",
       "      <td>43.0</td>\n",
       "      <td>20485.0</td>\n",
       "      <td>white</td>\n",
       "      <td>black</td>\n",
       "      <td>hertz corporation/gdp</td>\n",
       "      <td>16350.0</td>\n",
       "      <td>16100.0</td>\n",
       "      <td>Wed Jul 08 2015 07:15:00 GMT-0700 (PDT)</td>\n",
       "    </tr>\n",
       "    <tr>\n",
       "      <th>558820</th>\n",
       "      <td>2014</td>\n",
       "      <td>Dodge</td>\n",
       "      <td>Charger</td>\n",
       "      <td>SE</td>\n",
       "      <td>Sedan</td>\n",
       "      <td>NaN</td>\n",
       "      <td>2c3cdxbg9eh324236</td>\n",
       "      <td>va</td>\n",
       "      <td>42.0</td>\n",
       "      <td>22744.0</td>\n",
       "      <td>white</td>\n",
       "      <td>black</td>\n",
       "      <td>hertz corporation/gdp</td>\n",
       "      <td>16250.0</td>\n",
       "      <td>15900.0</td>\n",
       "      <td>Wed Jul 08 2015 07:15:00 GMT-0700 (PDT)</td>\n",
       "    </tr>\n",
       "    <tr>\n",
       "      <th>558829</th>\n",
       "      <td>2012</td>\n",
       "      <td>Hyundai</td>\n",
       "      <td>Elantra</td>\n",
       "      <td>Limited</td>\n",
       "      <td>Sedan</td>\n",
       "      <td>NaN</td>\n",
       "      <td>5npdh4ae7ch106397</td>\n",
       "      <td>pa</td>\n",
       "      <td>4.0</td>\n",
       "      <td>66720.0</td>\n",
       "      <td>gray</td>\n",
       "      <td>gray</td>\n",
       "      <td>champion mazda</td>\n",
       "      <td>10250.0</td>\n",
       "      <td>10400.0</td>\n",
       "      <td>Wed Jul 08 2015 07:30:00 GMT-0700 (PDT)</td>\n",
       "    </tr>\n",
       "    <tr>\n",
       "      <th>558830</th>\n",
       "      <td>2012</td>\n",
       "      <td>Nissan</td>\n",
       "      <td>Sentra</td>\n",
       "      <td>2.0 SR</td>\n",
       "      <td>Sedan</td>\n",
       "      <td>NaN</td>\n",
       "      <td>3n1ab6ap3cl622485</td>\n",
       "      <td>tn</td>\n",
       "      <td>26.0</td>\n",
       "      <td>35858.0</td>\n",
       "      <td>white</td>\n",
       "      <td>gray</td>\n",
       "      <td>nissan-infiniti lt</td>\n",
       "      <td>9950.0</td>\n",
       "      <td>10400.0</td>\n",
       "      <td>Wed Jul 08 2015 17:15:00 GMT-0700 (PDT)</td>\n",
       "    </tr>\n",
       "    <tr>\n",
       "      <th>558832</th>\n",
       "      <td>2015</td>\n",
       "      <td>Kia</td>\n",
       "      <td>K900</td>\n",
       "      <td>Luxury</td>\n",
       "      <td>Sedan</td>\n",
       "      <td>NaN</td>\n",
       "      <td>knalw4d4xf6019304</td>\n",
       "      <td>in</td>\n",
       "      <td>45.0</td>\n",
       "      <td>18255.0</td>\n",
       "      <td>silver</td>\n",
       "      <td>black</td>\n",
       "      <td>avis corporation</td>\n",
       "      <td>35300.0</td>\n",
       "      <td>33000.0</td>\n",
       "      <td>Thu Jul 09 2015 07:00:00 GMT-0700 (PDT)</td>\n",
       "    </tr>\n",
       "  </tbody>\n",
       "</table>\n",
       "<p>86512 rows × 16 columns</p>\n",
       "</div>"
      ],
      "text/plain": [
       "        year       make    model       trim         body transmission  \\\n",
       "14      2014  Chevrolet    Cruze        2LT        Sedan    automatic   \n",
       "16      2015    Hyundai   Sonata         SE        Sedan    automatic   \n",
       "22      2014  Chevrolet   Camaro         LT  Convertible    automatic   \n",
       "25      2015    Hyundai   Sonata         SE        Sedan    automatic   \n",
       "28      2014        BMW       X5  sDrive35i          SUV    automatic   \n",
       "...      ...        ...      ...        ...          ...          ...   \n",
       "558814  2014      Dodge  Charger         SE        Sedan          NaN   \n",
       "558820  2014      Dodge  Charger         SE        Sedan          NaN   \n",
       "558829  2012    Hyundai  Elantra    Limited        Sedan          NaN   \n",
       "558830  2012     Nissan   Sentra     2.0 SR        Sedan          NaN   \n",
       "558832  2015        Kia     K900     Luxury        Sedan          NaN   \n",
       "\n",
       "                      vin state  condition  odometer   color interior  \\\n",
       "14      1g1pe5sbxe7120097    ca        NaN   15686.0    blue    black   \n",
       "16      5npe24af4fh001562    ca        NaN    8311.0     red        —   \n",
       "22      2g1fb3d31e9134662    ca        NaN   33450.0   black    black   \n",
       "25      5npe24af4fh038482    ca        NaN    9281.0  silver     gray   \n",
       "28      5uxkr2c52e0h33130    ca        NaN   11278.0    gray    black   \n",
       "...                   ...   ...        ...       ...     ...      ...   \n",
       "558814  2c3cdxbg3eh324197    va       43.0   20485.0   white    black   \n",
       "558820  2c3cdxbg9eh324236    va       42.0   22744.0   white    black   \n",
       "558829  5npdh4ae7ch106397    pa        4.0   66720.0    gray     gray   \n",
       "558830  3n1ab6ap3cl622485    tn       26.0   35858.0   white     gray   \n",
       "558832  knalw4d4xf6019304    in       45.0   18255.0  silver    black   \n",
       "\n",
       "                                                   seller      mmr  \\\n",
       "14                                   avis rac/san leandro  13900.0   \n",
       "16                                               avis tra  15200.0   \n",
       "22                                   avis rac/san leandro  20100.0   \n",
       "25      enterprise vehicle exchange / tra / rental / t...  15150.0   \n",
       "28                                   avis rac/san leandro  50400.0   \n",
       "...                                                   ...      ...   \n",
       "558814                              hertz corporation/gdp  16350.0   \n",
       "558820                              hertz corporation/gdp  16250.0   \n",
       "558829                                     champion mazda  10250.0   \n",
       "558830                                 nissan-infiniti lt   9950.0   \n",
       "558832                                   avis corporation  35300.0   \n",
       "\n",
       "        sellingprice                                 saledate  \n",
       "14           10600.0  Tue Dec 16 2014 12:00:00 GMT-0800 (PST)  \n",
       "16            4200.0  Tue Dec 16 2014 13:00:00 GMT-0800 (PST)  \n",
       "22           14700.0  Tue Dec 16 2014 12:00:00 GMT-0800 (PST)  \n",
       "25            8500.0  Tue Dec 16 2014 13:00:00 GMT-0800 (PST)  \n",
       "28           34000.0  Tue Dec 16 2014 13:00:00 GMT-0800 (PST)  \n",
       "...              ...                                      ...  \n",
       "558814       16100.0  Wed Jul 08 2015 07:15:00 GMT-0700 (PDT)  \n",
       "558820       15900.0  Wed Jul 08 2015 07:15:00 GMT-0700 (PDT)  \n",
       "558829       10400.0  Wed Jul 08 2015 07:30:00 GMT-0700 (PDT)  \n",
       "558830       10400.0  Wed Jul 08 2015 17:15:00 GMT-0700 (PDT)  \n",
       "558832       33000.0  Thu Jul 09 2015 07:00:00 GMT-0700 (PDT)  \n",
       "\n",
       "[86512 rows x 16 columns]"
      ]
     },
     "execution_count": 6,
     "metadata": {},
     "output_type": "execute_result"
    }
   ],
   "source": [
    "data[data.isnull().any(axis=1)]"
   ]
  },
  {
   "cell_type": "code",
   "execution_count": 7,
   "id": "9ebefc38",
   "metadata": {
    "execution": {
     "iopub.execute_input": "2025-05-29T20:12:29.817854Z",
     "iopub.status.busy": "2025-05-29T20:12:29.817487Z",
     "iopub.status.idle": "2025-05-29T20:12:30.782446Z",
     "shell.execute_reply": "2025-05-29T20:12:30.780376Z"
    },
    "papermill": {
     "duration": 0.979417,
     "end_time": "2025-05-29T20:12:30.784958",
     "exception": false,
     "start_time": "2025-05-29T20:12:29.805541",
     "status": "completed"
    },
    "tags": []
   },
   "outputs": [
    {
     "name": "stdout",
     "output_type": "stream",
     "text": [
      "year            0\n",
      "make            0\n",
      "model           0\n",
      "trim            0\n",
      "body            0\n",
      "transmission    0\n",
      "vin             0\n",
      "state           0\n",
      "condition       0\n",
      "odometer        0\n",
      "color           0\n",
      "interior        0\n",
      "seller          0\n",
      "mmr             0\n",
      "sellingprice    0\n",
      "saledate        0\n",
      "dtype: int64 \n",
      "\n",
      "<class 'pandas.core.frame.DataFrame'>\n",
      "Index: 472325 entries, 0 to 558836\n",
      "Data columns (total 16 columns):\n",
      " #   Column        Non-Null Count   Dtype  \n",
      "---  ------        --------------   -----  \n",
      " 0   year          472325 non-null  int64  \n",
      " 1   make          472325 non-null  object \n",
      " 2   model         472325 non-null  object \n",
      " 3   trim          472325 non-null  object \n",
      " 4   body          472325 non-null  object \n",
      " 5   transmission  472325 non-null  object \n",
      " 6   vin           472325 non-null  object \n",
      " 7   state         472325 non-null  object \n",
      " 8   condition     472325 non-null  float64\n",
      " 9   odometer      472325 non-null  float64\n",
      " 10  color         472325 non-null  object \n",
      " 11  interior      472325 non-null  object \n",
      " 12  seller        472325 non-null  object \n",
      " 13  mmr           472325 non-null  float64\n",
      " 14  sellingprice  472325 non-null  float64\n",
      " 15  saledate      472325 non-null  object \n",
      "dtypes: float64(4), int64(1), object(11)\n",
      "memory usage: 61.3+ MB\n",
      "None\n"
     ]
    }
   ],
   "source": [
    "cleaned = data.dropna()\n",
    "print(cleaned.isnull().sum(),\"\\n\")\n",
    "print(cleaned.info())"
   ]
  },
  {
   "cell_type": "markdown",
   "id": "41adac28",
   "metadata": {
    "papermill": {
     "duration": 0.014873,
     "end_time": "2025-05-29T20:12:30.810343",
     "exception": false,
     "start_time": "2025-05-29T20:12:30.795470",
     "status": "completed"
    },
    "tags": []
   },
   "source": [
    "# Stat Desc"
   ]
  },
  {
   "cell_type": "code",
   "execution_count": 8,
   "id": "caf21057",
   "metadata": {
    "execution": {
     "iopub.execute_input": "2025-05-29T20:12:30.836293Z",
     "iopub.status.busy": "2025-05-29T20:12:30.835964Z",
     "iopub.status.idle": "2025-05-29T20:12:30.971971Z",
     "shell.execute_reply": "2025-05-29T20:12:30.970424Z"
    },
    "papermill": {
     "duration": 0.151933,
     "end_time": "2025-05-29T20:12:30.974041",
     "exception": false,
     "start_time": "2025-05-29T20:12:30.822108",
     "status": "completed"
    },
    "tags": []
   },
   "outputs": [
    {
     "data": {
      "text/html": [
       "<div>\n",
       "<style scoped>\n",
       "    .dataframe tbody tr th:only-of-type {\n",
       "        vertical-align: middle;\n",
       "    }\n",
       "\n",
       "    .dataframe tbody tr th {\n",
       "        vertical-align: top;\n",
       "    }\n",
       "\n",
       "    .dataframe thead th {\n",
       "        text-align: right;\n",
       "    }\n",
       "</style>\n",
       "<table border=\"1\" class=\"dataframe\">\n",
       "  <thead>\n",
       "    <tr style=\"text-align: right;\">\n",
       "      <th></th>\n",
       "      <th>year</th>\n",
       "      <th>condition</th>\n",
       "      <th>odometer</th>\n",
       "      <th>mmr</th>\n",
       "      <th>sellingprice</th>\n",
       "    </tr>\n",
       "  </thead>\n",
       "  <tbody>\n",
       "    <tr>\n",
       "      <th>count</th>\n",
       "      <td>472325.000000</td>\n",
       "      <td>472325.000000</td>\n",
       "      <td>472325.000000</td>\n",
       "      <td>472325.000000</td>\n",
       "      <td>472325.000000</td>\n",
       "    </tr>\n",
       "    <tr>\n",
       "      <th>mean</th>\n",
       "      <td>2010.210980</td>\n",
       "      <td>30.774177</td>\n",
       "      <td>66701.732040</td>\n",
       "      <td>13837.058964</td>\n",
       "      <td>13690.512058</td>\n",
       "    </tr>\n",
       "    <tr>\n",
       "      <th>std</th>\n",
       "      <td>3.822151</td>\n",
       "      <td>13.286866</td>\n",
       "      <td>51939.586894</td>\n",
       "      <td>9532.229273</td>\n",
       "      <td>9613.033738</td>\n",
       "    </tr>\n",
       "    <tr>\n",
       "      <th>min</th>\n",
       "      <td>1990.000000</td>\n",
       "      <td>1.000000</td>\n",
       "      <td>1.000000</td>\n",
       "      <td>25.000000</td>\n",
       "      <td>1.000000</td>\n",
       "    </tr>\n",
       "    <tr>\n",
       "      <th>25%</th>\n",
       "      <td>2008.000000</td>\n",
       "      <td>24.000000</td>\n",
       "      <td>28137.000000</td>\n",
       "      <td>7425.000000</td>\n",
       "      <td>7200.000000</td>\n",
       "    </tr>\n",
       "    <tr>\n",
       "      <th>50%</th>\n",
       "      <td>2012.000000</td>\n",
       "      <td>35.000000</td>\n",
       "      <td>51085.000000</td>\n",
       "      <td>12300.000000</td>\n",
       "      <td>12200.000000</td>\n",
       "    </tr>\n",
       "    <tr>\n",
       "      <th>75%</th>\n",
       "      <td>2013.000000</td>\n",
       "      <td>41.000000</td>\n",
       "      <td>96590.000000</td>\n",
       "      <td>18300.000000</td>\n",
       "      <td>18200.000000</td>\n",
       "    </tr>\n",
       "    <tr>\n",
       "      <th>max</th>\n",
       "      <td>2015.000000</td>\n",
       "      <td>49.000000</td>\n",
       "      <td>999999.000000</td>\n",
       "      <td>182000.000000</td>\n",
       "      <td>230000.000000</td>\n",
       "    </tr>\n",
       "  </tbody>\n",
       "</table>\n",
       "</div>"
      ],
      "text/plain": [
       "                year      condition       odometer            mmr  \\\n",
       "count  472325.000000  472325.000000  472325.000000  472325.000000   \n",
       "mean     2010.210980      30.774177   66701.732040   13837.058964   \n",
       "std         3.822151      13.286866   51939.586894    9532.229273   \n",
       "min      1990.000000       1.000000       1.000000      25.000000   \n",
       "25%      2008.000000      24.000000   28137.000000    7425.000000   \n",
       "50%      2012.000000      35.000000   51085.000000   12300.000000   \n",
       "75%      2013.000000      41.000000   96590.000000   18300.000000   \n",
       "max      2015.000000      49.000000  999999.000000  182000.000000   \n",
       "\n",
       "        sellingprice  \n",
       "count  472325.000000  \n",
       "mean    13690.512058  \n",
       "std      9613.033738  \n",
       "min         1.000000  \n",
       "25%      7200.000000  \n",
       "50%     12200.000000  \n",
       "75%     18200.000000  \n",
       "max    230000.000000  "
      ]
     },
     "execution_count": 8,
     "metadata": {},
     "output_type": "execute_result"
    }
   ],
   "source": [
    "cleaned.describe()"
   ]
  },
  {
   "cell_type": "code",
   "execution_count": 9,
   "id": "b69da144",
   "metadata": {
    "execution": {
     "iopub.execute_input": "2025-05-29T20:12:30.998637Z",
     "iopub.status.busy": "2025-05-29T20:12:30.998229Z",
     "iopub.status.idle": "2025-05-29T20:12:31.018616Z",
     "shell.execute_reply": "2025-05-29T20:12:31.017552Z"
    },
    "papermill": {
     "duration": 0.034766,
     "end_time": "2025-05-29T20:12:31.020393",
     "exception": false,
     "start_time": "2025-05-29T20:12:30.985627",
     "status": "completed"
    },
    "tags": []
   },
   "outputs": [
    {
     "data": {
      "text/html": [
       "<div>\n",
       "<style scoped>\n",
       "    .dataframe tbody tr th:only-of-type {\n",
       "        vertical-align: middle;\n",
       "    }\n",
       "\n",
       "    .dataframe tbody tr th {\n",
       "        vertical-align: top;\n",
       "    }\n",
       "\n",
       "    .dataframe thead th {\n",
       "        text-align: right;\n",
       "    }\n",
       "</style>\n",
       "<table border=\"1\" class=\"dataframe\">\n",
       "  <thead>\n",
       "    <tr style=\"text-align: right;\">\n",
       "      <th></th>\n",
       "      <th>vin</th>\n",
       "    </tr>\n",
       "  </thead>\n",
       "  <tbody>\n",
       "    <tr>\n",
       "      <th>0</th>\n",
       "      <td>5xyktca69fg566472</td>\n",
       "    </tr>\n",
       "    <tr>\n",
       "      <th>1</th>\n",
       "      <td>5xyktca69fg561319</td>\n",
       "    </tr>\n",
       "    <tr>\n",
       "      <th>2</th>\n",
       "      <td>wba3c1c51ek116351</td>\n",
       "    </tr>\n",
       "    <tr>\n",
       "      <th>3</th>\n",
       "      <td>yv1612tb4f1310987</td>\n",
       "    </tr>\n",
       "    <tr>\n",
       "      <th>4</th>\n",
       "      <td>wba6b2c57ed129731</td>\n",
       "    </tr>\n",
       "    <tr>\n",
       "      <th>...</th>\n",
       "      <td>...</td>\n",
       "    </tr>\n",
       "    <tr>\n",
       "      <th>558831</th>\n",
       "      <td>wbafr1c53bc744672</td>\n",
       "    </tr>\n",
       "    <tr>\n",
       "      <th>558833</th>\n",
       "      <td>3c6td5et6cg112407</td>\n",
       "    </tr>\n",
       "    <tr>\n",
       "      <th>558834</th>\n",
       "      <td>5uxzw0c58cl668465</td>\n",
       "    </tr>\n",
       "    <tr>\n",
       "      <th>558835</th>\n",
       "      <td>1n4al3ap0fc216050</td>\n",
       "    </tr>\n",
       "    <tr>\n",
       "      <th>558836</th>\n",
       "      <td>1ftfw1et2eke87277</td>\n",
       "    </tr>\n",
       "  </tbody>\n",
       "</table>\n",
       "<p>472325 rows × 1 columns</p>\n",
       "</div>"
      ],
      "text/plain": [
       "                      vin\n",
       "0       5xyktca69fg566472\n",
       "1       5xyktca69fg561319\n",
       "2       wba3c1c51ek116351\n",
       "3       yv1612tb4f1310987\n",
       "4       wba6b2c57ed129731\n",
       "...                   ...\n",
       "558831  wbafr1c53bc744672\n",
       "558833  3c6td5et6cg112407\n",
       "558834  5uxzw0c58cl668465\n",
       "558835  1n4al3ap0fc216050\n",
       "558836  1ftfw1et2eke87277\n",
       "\n",
       "[472325 rows x 1 columns]"
      ]
     },
     "execution_count": 9,
     "metadata": {},
     "output_type": "execute_result"
    }
   ],
   "source": [
    "cleaned.iloc[:,[6]]"
   ]
  },
  {
   "cell_type": "code",
   "execution_count": 10,
   "id": "ef2daa08",
   "metadata": {
    "execution": {
     "iopub.execute_input": "2025-05-29T20:12:31.044208Z",
     "iopub.status.busy": "2025-05-29T20:12:31.043794Z",
     "iopub.status.idle": "2025-05-29T20:12:31.063265Z",
     "shell.execute_reply": "2025-05-29T20:12:31.062042Z"
    },
    "papermill": {
     "duration": 0.032888,
     "end_time": "2025-05-29T20:12:31.064772",
     "exception": false,
     "start_time": "2025-05-29T20:12:31.031884",
     "status": "completed"
    },
    "tags": []
   },
   "outputs": [
    {
     "data": {
      "text/html": [
       "<div>\n",
       "<style scoped>\n",
       "    .dataframe tbody tr th:only-of-type {\n",
       "        vertical-align: middle;\n",
       "    }\n",
       "\n",
       "    .dataframe tbody tr th {\n",
       "        vertical-align: top;\n",
       "    }\n",
       "\n",
       "    .dataframe thead th {\n",
       "        text-align: right;\n",
       "    }\n",
       "</style>\n",
       "<table border=\"1\" class=\"dataframe\">\n",
       "  <thead>\n",
       "    <tr style=\"text-align: right;\">\n",
       "      <th></th>\n",
       "      <th>year</th>\n",
       "      <th>make</th>\n",
       "      <th>model</th>\n",
       "      <th>trim</th>\n",
       "      <th>body</th>\n",
       "      <th>transmission</th>\n",
       "      <th>vin</th>\n",
       "      <th>state</th>\n",
       "      <th>condition</th>\n",
       "      <th>odometer</th>\n",
       "      <th>color</th>\n",
       "      <th>interior</th>\n",
       "      <th>seller</th>\n",
       "      <th>mmr</th>\n",
       "      <th>sellingprice</th>\n",
       "      <th>saledate</th>\n",
       "    </tr>\n",
       "  </thead>\n",
       "  <tbody>\n",
       "    <tr>\n",
       "      <th>0</th>\n",
       "      <td>2015</td>\n",
       "      <td>Kia</td>\n",
       "      <td>Sorento</td>\n",
       "      <td>LX</td>\n",
       "      <td>SUV</td>\n",
       "      <td>automatic</td>\n",
       "      <td>5xyktca69fg566472</td>\n",
       "      <td>ca</td>\n",
       "      <td>5.0</td>\n",
       "      <td>16639.0</td>\n",
       "      <td>white</td>\n",
       "      <td>black</td>\n",
       "      <td>kia motors america  inc</td>\n",
       "      <td>20500.0</td>\n",
       "      <td>21500.0</td>\n",
       "      <td>Tue Dec 16 2014 12:30:00 GMT-0800 (PST)</td>\n",
       "    </tr>\n",
       "    <tr>\n",
       "      <th>1</th>\n",
       "      <td>2015</td>\n",
       "      <td>Kia</td>\n",
       "      <td>Sorento</td>\n",
       "      <td>LX</td>\n",
       "      <td>SUV</td>\n",
       "      <td>automatic</td>\n",
       "      <td>5xyktca69fg561319</td>\n",
       "      <td>ca</td>\n",
       "      <td>5.0</td>\n",
       "      <td>9393.0</td>\n",
       "      <td>white</td>\n",
       "      <td>beige</td>\n",
       "      <td>kia motors america  inc</td>\n",
       "      <td>20800.0</td>\n",
       "      <td>21500.0</td>\n",
       "      <td>Tue Dec 16 2014 12:30:00 GMT-0800 (PST)</td>\n",
       "    </tr>\n",
       "    <tr>\n",
       "      <th>2</th>\n",
       "      <td>2014</td>\n",
       "      <td>BMW</td>\n",
       "      <td>3 Series</td>\n",
       "      <td>328i SULEV</td>\n",
       "      <td>Sedan</td>\n",
       "      <td>automatic</td>\n",
       "      <td>wba3c1c51ek116351</td>\n",
       "      <td>ca</td>\n",
       "      <td>45.0</td>\n",
       "      <td>1331.0</td>\n",
       "      <td>gray</td>\n",
       "      <td>black</td>\n",
       "      <td>financial services remarketing (lease)</td>\n",
       "      <td>31900.0</td>\n",
       "      <td>30000.0</td>\n",
       "      <td>Thu Jan 15 2015 04:30:00 GMT-0800 (PST)</td>\n",
       "    </tr>\n",
       "    <tr>\n",
       "      <th>3</th>\n",
       "      <td>2015</td>\n",
       "      <td>Volvo</td>\n",
       "      <td>S60</td>\n",
       "      <td>T5</td>\n",
       "      <td>Sedan</td>\n",
       "      <td>automatic</td>\n",
       "      <td>yv1612tb4f1310987</td>\n",
       "      <td>ca</td>\n",
       "      <td>41.0</td>\n",
       "      <td>14282.0</td>\n",
       "      <td>white</td>\n",
       "      <td>black</td>\n",
       "      <td>volvo na rep/world omni</td>\n",
       "      <td>27500.0</td>\n",
       "      <td>27750.0</td>\n",
       "      <td>Thu Jan 29 2015 04:30:00 GMT-0800 (PST)</td>\n",
       "    </tr>\n",
       "    <tr>\n",
       "      <th>4</th>\n",
       "      <td>2014</td>\n",
       "      <td>BMW</td>\n",
       "      <td>6 Series Gran Coupe</td>\n",
       "      <td>650i</td>\n",
       "      <td>Sedan</td>\n",
       "      <td>automatic</td>\n",
       "      <td>wba6b2c57ed129731</td>\n",
       "      <td>ca</td>\n",
       "      <td>43.0</td>\n",
       "      <td>2641.0</td>\n",
       "      <td>gray</td>\n",
       "      <td>black</td>\n",
       "      <td>financial services remarketing (lease)</td>\n",
       "      <td>66000.0</td>\n",
       "      <td>67000.0</td>\n",
       "      <td>Thu Dec 18 2014 12:30:00 GMT-0800 (PST)</td>\n",
       "    </tr>\n",
       "  </tbody>\n",
       "</table>\n",
       "</div>"
      ],
      "text/plain": [
       "   year   make                model        trim   body transmission  \\\n",
       "0  2015    Kia              Sorento          LX    SUV    automatic   \n",
       "1  2015    Kia              Sorento          LX    SUV    automatic   \n",
       "2  2014    BMW             3 Series  328i SULEV  Sedan    automatic   \n",
       "3  2015  Volvo                  S60          T5  Sedan    automatic   \n",
       "4  2014    BMW  6 Series Gran Coupe        650i  Sedan    automatic   \n",
       "\n",
       "                 vin state  condition  odometer  color interior  \\\n",
       "0  5xyktca69fg566472    ca        5.0   16639.0  white    black   \n",
       "1  5xyktca69fg561319    ca        5.0    9393.0  white    beige   \n",
       "2  wba3c1c51ek116351    ca       45.0    1331.0   gray    black   \n",
       "3  yv1612tb4f1310987    ca       41.0   14282.0  white    black   \n",
       "4  wba6b2c57ed129731    ca       43.0    2641.0   gray    black   \n",
       "\n",
       "                                   seller      mmr  sellingprice  \\\n",
       "0                 kia motors america  inc  20500.0       21500.0   \n",
       "1                 kia motors america  inc  20800.0       21500.0   \n",
       "2  financial services remarketing (lease)  31900.0       30000.0   \n",
       "3                 volvo na rep/world omni  27500.0       27750.0   \n",
       "4  financial services remarketing (lease)  66000.0       67000.0   \n",
       "\n",
       "                                  saledate  \n",
       "0  Tue Dec 16 2014 12:30:00 GMT-0800 (PST)  \n",
       "1  Tue Dec 16 2014 12:30:00 GMT-0800 (PST)  \n",
       "2  Thu Jan 15 2015 04:30:00 GMT-0800 (PST)  \n",
       "3  Thu Jan 29 2015 04:30:00 GMT-0800 (PST)  \n",
       "4  Thu Dec 18 2014 12:30:00 GMT-0800 (PST)  "
      ]
     },
     "execution_count": 10,
     "metadata": {},
     "output_type": "execute_result"
    }
   ],
   "source": [
    "cleaned.head()"
   ]
  },
  {
   "cell_type": "code",
   "execution_count": 11,
   "id": "4b9c1eef",
   "metadata": {
    "execution": {
     "iopub.execute_input": "2025-05-29T20:12:31.089994Z",
     "iopub.status.busy": "2025-05-29T20:12:31.089666Z",
     "iopub.status.idle": "2025-05-29T20:12:31.155759Z",
     "shell.execute_reply": "2025-05-29T20:12:31.154693Z"
    },
    "papermill": {
     "duration": 0.080403,
     "end_time": "2025-05-29T20:12:31.157674",
     "exception": false,
     "start_time": "2025-05-29T20:12:31.077271",
     "status": "completed"
    },
    "tags": []
   },
   "outputs": [
    {
     "data": {
      "text/html": [
       "<div>\n",
       "<style scoped>\n",
       "    .dataframe tbody tr th:only-of-type {\n",
       "        vertical-align: middle;\n",
       "    }\n",
       "\n",
       "    .dataframe tbody tr th {\n",
       "        vertical-align: top;\n",
       "    }\n",
       "\n",
       "    .dataframe thead th {\n",
       "        text-align: right;\n",
       "    }\n",
       "</style>\n",
       "<table border=\"1\" class=\"dataframe\">\n",
       "  <thead>\n",
       "    <tr style=\"text-align: right;\">\n",
       "      <th></th>\n",
       "      <th>year</th>\n",
       "      <th>make</th>\n",
       "      <th>model</th>\n",
       "      <th>trim</th>\n",
       "      <th>body</th>\n",
       "      <th>transmission</th>\n",
       "      <th>state</th>\n",
       "      <th>condition</th>\n",
       "      <th>odometer</th>\n",
       "      <th>color</th>\n",
       "      <th>interior</th>\n",
       "      <th>mmr</th>\n",
       "      <th>sellingprice</th>\n",
       "      <th>saledate</th>\n",
       "    </tr>\n",
       "  </thead>\n",
       "  <tbody>\n",
       "    <tr>\n",
       "      <th>0</th>\n",
       "      <td>2015</td>\n",
       "      <td>Kia</td>\n",
       "      <td>Sorento</td>\n",
       "      <td>LX</td>\n",
       "      <td>SUV</td>\n",
       "      <td>automatic</td>\n",
       "      <td>ca</td>\n",
       "      <td>5.0</td>\n",
       "      <td>16639.0</td>\n",
       "      <td>white</td>\n",
       "      <td>black</td>\n",
       "      <td>20500.0</td>\n",
       "      <td>21500.0</td>\n",
       "      <td>Tue Dec 16 2014 12:30:00 GMT-0800 (PST)</td>\n",
       "    </tr>\n",
       "    <tr>\n",
       "      <th>1</th>\n",
       "      <td>2015</td>\n",
       "      <td>Kia</td>\n",
       "      <td>Sorento</td>\n",
       "      <td>LX</td>\n",
       "      <td>SUV</td>\n",
       "      <td>automatic</td>\n",
       "      <td>ca</td>\n",
       "      <td>5.0</td>\n",
       "      <td>9393.0</td>\n",
       "      <td>white</td>\n",
       "      <td>beige</td>\n",
       "      <td>20800.0</td>\n",
       "      <td>21500.0</td>\n",
       "      <td>Tue Dec 16 2014 12:30:00 GMT-0800 (PST)</td>\n",
       "    </tr>\n",
       "    <tr>\n",
       "      <th>2</th>\n",
       "      <td>2014</td>\n",
       "      <td>BMW</td>\n",
       "      <td>3 Series</td>\n",
       "      <td>328i SULEV</td>\n",
       "      <td>Sedan</td>\n",
       "      <td>automatic</td>\n",
       "      <td>ca</td>\n",
       "      <td>45.0</td>\n",
       "      <td>1331.0</td>\n",
       "      <td>gray</td>\n",
       "      <td>black</td>\n",
       "      <td>31900.0</td>\n",
       "      <td>30000.0</td>\n",
       "      <td>Thu Jan 15 2015 04:30:00 GMT-0800 (PST)</td>\n",
       "    </tr>\n",
       "    <tr>\n",
       "      <th>3</th>\n",
       "      <td>2015</td>\n",
       "      <td>Volvo</td>\n",
       "      <td>S60</td>\n",
       "      <td>T5</td>\n",
       "      <td>Sedan</td>\n",
       "      <td>automatic</td>\n",
       "      <td>ca</td>\n",
       "      <td>41.0</td>\n",
       "      <td>14282.0</td>\n",
       "      <td>white</td>\n",
       "      <td>black</td>\n",
       "      <td>27500.0</td>\n",
       "      <td>27750.0</td>\n",
       "      <td>Thu Jan 29 2015 04:30:00 GMT-0800 (PST)</td>\n",
       "    </tr>\n",
       "    <tr>\n",
       "      <th>4</th>\n",
       "      <td>2014</td>\n",
       "      <td>BMW</td>\n",
       "      <td>6 Series Gran Coupe</td>\n",
       "      <td>650i</td>\n",
       "      <td>Sedan</td>\n",
       "      <td>automatic</td>\n",
       "      <td>ca</td>\n",
       "      <td>43.0</td>\n",
       "      <td>2641.0</td>\n",
       "      <td>gray</td>\n",
       "      <td>black</td>\n",
       "      <td>66000.0</td>\n",
       "      <td>67000.0</td>\n",
       "      <td>Thu Dec 18 2014 12:30:00 GMT-0800 (PST)</td>\n",
       "    </tr>\n",
       "  </tbody>\n",
       "</table>\n",
       "</div>"
      ],
      "text/plain": [
       "   year   make                model        trim   body transmission state  \\\n",
       "0  2015    Kia              Sorento          LX    SUV    automatic    ca   \n",
       "1  2015    Kia              Sorento          LX    SUV    automatic    ca   \n",
       "2  2014    BMW             3 Series  328i SULEV  Sedan    automatic    ca   \n",
       "3  2015  Volvo                  S60          T5  Sedan    automatic    ca   \n",
       "4  2014    BMW  6 Series Gran Coupe        650i  Sedan    automatic    ca   \n",
       "\n",
       "   condition  odometer  color interior      mmr  sellingprice  \\\n",
       "0        5.0   16639.0  white    black  20500.0       21500.0   \n",
       "1        5.0    9393.0  white    beige  20800.0       21500.0   \n",
       "2       45.0    1331.0   gray    black  31900.0       30000.0   \n",
       "3       41.0   14282.0  white    black  27500.0       27750.0   \n",
       "4       43.0    2641.0   gray    black  66000.0       67000.0   \n",
       "\n",
       "                                  saledate  \n",
       "0  Tue Dec 16 2014 12:30:00 GMT-0800 (PST)  \n",
       "1  Tue Dec 16 2014 12:30:00 GMT-0800 (PST)  \n",
       "2  Thu Jan 15 2015 04:30:00 GMT-0800 (PST)  \n",
       "3  Thu Jan 29 2015 04:30:00 GMT-0800 (PST)  \n",
       "4  Thu Dec 18 2014 12:30:00 GMT-0800 (PST)  "
      ]
     },
     "metadata": {},
     "output_type": "display_data"
    }
   ],
   "source": [
    "list_columns = [6, 12]\n",
    "columns = [cleaned.columns[i] for i in list_columns]\n",
    "cleaned1 = cleaned.drop(columns=columns)\n",
    "display(cleaned1.head())"
   ]
  },
  {
   "cell_type": "code",
   "execution_count": 12,
   "id": "a81b266a",
   "metadata": {
    "execution": {
     "iopub.execute_input": "2025-05-29T20:12:31.183486Z",
     "iopub.status.busy": "2025-05-29T20:12:31.183144Z",
     "iopub.status.idle": "2025-05-29T20:12:31.229241Z",
     "shell.execute_reply": "2025-05-29T20:12:31.227940Z"
    },
    "papermill": {
     "duration": 0.062,
     "end_time": "2025-05-29T20:12:31.231374",
     "exception": false,
     "start_time": "2025-05-29T20:12:31.169374",
     "status": "completed"
    },
    "tags": []
   },
   "outputs": [
    {
     "name": "stdout",
     "output_type": "stream",
     "text": [
      "            Brand  Count\n",
      "0            Ford  81013\n",
      "1       Chevrolet  54150\n",
      "2          Nissan  44043\n",
      "3          Toyota  35313\n",
      "4           Dodge  27181\n",
      "5           Honda  24781\n",
      "6         Hyundai  18659\n",
      "7             BMW  17509\n",
      "8             Kia  15828\n",
      "9        Chrysler  15133\n",
      "10       Infiniti  14011\n",
      "11  Mercedes-Benz  14008\n",
      "12           Jeep  12735\n",
      "13     Volkswagen  10780\n",
      "14          Lexus  10409\n",
      "15            GMC   9217\n",
      "16          Mazda   6930\n",
      "17       Cadillac   6315\n",
      "18        Lincoln   4926\n",
      "19           Audi   4802\n",
      "20          Acura   4503\n",
      "21          Buick   4470\n",
      "22         Subaru   4369\n",
      "23            Ram   4044\n",
      "24        Pontiac   4018\n",
      "25     Mitsubishi   3661\n",
      "26          Volvo   3082\n",
      "27           MINI   2946\n",
      "28         Saturn   2570\n",
      "29        Mercury   1571\n",
      "30          Scion   1545\n",
      "31     Land Rover   1322\n",
      "32         Jaguar   1257\n",
      "33        Porsche   1157\n",
      "34         Suzuki    977\n",
      "35         HUMMER    768\n",
      "36           FIAT    725\n",
      "37           Saab    416\n",
      "38          smart    343\n",
      "39     Oldsmobile    318\n",
      "40          Isuzu    179\n",
      "41       Maserati    109\n",
      "42        Bentley    105\n",
      "43   Aston Martin     24\n",
      "44          Tesla     23\n",
      "45        Ferrari     17\n",
      "46    Rolls-Royce     16\n",
      "47       Plymouth     16\n",
      "48            Geo     16\n",
      "49         Fisker      9\n",
      "50    Lamborghini      3\n",
      "51         Daewoo      2\n",
      "52          Lotus      1\n"
     ]
    }
   ],
   "source": [
    "make_counts = cleaned['make'].value_counts()\n",
    "\n",
    "make_counts = make_counts.reset_index()\n",
    "make_counts.columns = ['Brand', 'Count']\n",
    "\n",
    "with pd.option_context('display.max_rows', None, 'display.max_columns', None):\n",
    "    print(make_counts)"
   ]
  },
  {
   "cell_type": "markdown",
   "id": "38c50326",
   "metadata": {
    "papermill": {
     "duration": 0.011736,
     "end_time": "2025-05-29T20:12:31.255116",
     "exception": false,
     "start_time": "2025-05-29T20:12:31.243380",
     "status": "completed"
    },
    "tags": []
   },
   "source": [
    "# Time Series Forecasting"
   ]
  },
  {
   "cell_type": "markdown",
   "id": "e5429d2c",
   "metadata": {
    "papermill": {
     "duration": 0.011533,
     "end_time": "2025-05-29T20:12:31.279608",
     "exception": false,
     "start_time": "2025-05-29T20:12:31.268075",
     "status": "completed"
    },
    "tags": []
   },
   "source": [
    "## Time Series Preprocessing"
   ]
  },
  {
   "cell_type": "code",
   "execution_count": 13,
   "id": "6e7c064b",
   "metadata": {
    "execution": {
     "iopub.execute_input": "2025-05-29T20:12:31.369339Z",
     "iopub.status.busy": "2025-05-29T20:12:31.369003Z",
     "iopub.status.idle": "2025-05-29T20:12:31.887099Z",
     "shell.execute_reply": "2025-05-29T20:12:31.885894Z"
    },
    "papermill": {
     "duration": 0.597853,
     "end_time": "2025-05-29T20:12:31.888945",
     "exception": false,
     "start_time": "2025-05-29T20:12:31.291092",
     "status": "completed"
    },
    "tags": []
   },
   "outputs": [
    {
     "name": "stderr",
     "output_type": "stream",
     "text": [
      "/tmp/ipykernel_13/2819072319.py:1: SettingWithCopyWarning: \n",
      "A value is trying to be set on a copy of a slice from a DataFrame.\n",
      "Try using .loc[row_indexer,col_indexer] = value instead\n",
      "\n",
      "See the caveats in the documentation: https://pandas.pydata.org/pandas-docs/stable/user_guide/indexing.html#returning-a-view-versus-a-copy\n",
      "  cleaned['saledate_cleaned'] = cleaned['saledate'].str.replace(r' \\(PST\\)| \\(PDT\\)', '', regex=True)\n",
      "/tmp/ipykernel_13/2819072319.py:5: SettingWithCopyWarning: \n",
      "A value is trying to be set on a copy of a slice from a DataFrame.\n",
      "Try using .loc[row_indexer,col_indexer] = value instead\n",
      "\n",
      "See the caveats in the documentation: https://pandas.pydata.org/pandas-docs/stable/user_guide/indexing.html#returning-a-view-versus-a-copy\n",
      "  cleaned['saledate_dt'] = pd.to_datetime(cleaned['saledate_cleaned'], format=date_format, errors='coerce', utc=True)\n"
     ]
    }
   ],
   "source": [
    "cleaned['saledate_cleaned'] = cleaned['saledate'].str.replace(r' \\(PST\\)| \\(PDT\\)', '', regex=True)\n",
    "\n",
    "date_format = \"%a %b %d %Y %H:%M:%S GMT%z\"\n",
    "\n",
    "cleaned['saledate_dt'] = pd.to_datetime(cleaned['saledate_cleaned'], format=date_format, errors='coerce', utc=True)"
   ]
  },
  {
   "cell_type": "code",
   "execution_count": 14,
   "id": "08bea060",
   "metadata": {
    "execution": {
     "iopub.execute_input": "2025-05-29T20:12:31.913889Z",
     "iopub.status.busy": "2025-05-29T20:12:31.913495Z",
     "iopub.status.idle": "2025-05-29T20:12:32.120411Z",
     "shell.execute_reply": "2025-05-29T20:12:32.119438Z"
    },
    "papermill": {
     "duration": 0.221309,
     "end_time": "2025-05-29T20:12:32.122401",
     "exception": false,
     "start_time": "2025-05-29T20:12:31.901092",
     "status": "completed"
    },
    "tags": []
   },
   "outputs": [],
   "source": [
    "cleaned2 = cleaned.sort_values(by='saledate_dt')"
   ]
  },
  {
   "cell_type": "code",
   "execution_count": 15,
   "id": "b0c3f595",
   "metadata": {
    "execution": {
     "iopub.execute_input": "2025-05-29T20:12:32.148285Z",
     "iopub.status.busy": "2025-05-29T20:12:32.147974Z",
     "iopub.status.idle": "2025-05-29T20:12:32.519901Z",
     "shell.execute_reply": "2025-05-29T20:12:32.518771Z"
    },
    "papermill": {
     "duration": 0.386362,
     "end_time": "2025-05-29T20:12:32.521543",
     "exception": false,
     "start_time": "2025-05-29T20:12:32.135181",
     "status": "completed"
    },
    "tags": []
   },
   "outputs": [
    {
     "data": {
      "text/html": [
       "<div>\n",
       "<style scoped>\n",
       "    .dataframe tbody tr th:only-of-type {\n",
       "        vertical-align: middle;\n",
       "    }\n",
       "\n",
       "    .dataframe tbody tr th {\n",
       "        vertical-align: top;\n",
       "    }\n",
       "\n",
       "    .dataframe thead th {\n",
       "        text-align: right;\n",
       "    }\n",
       "</style>\n",
       "<table border=\"1\" class=\"dataframe\">\n",
       "  <thead>\n",
       "    <tr style=\"text-align: right;\">\n",
       "      <th></th>\n",
       "      <th>year</th>\n",
       "      <th>make</th>\n",
       "      <th>model</th>\n",
       "      <th>trim</th>\n",
       "      <th>body</th>\n",
       "      <th>transmission</th>\n",
       "      <th>vin</th>\n",
       "      <th>state</th>\n",
       "      <th>condition</th>\n",
       "      <th>odometer</th>\n",
       "      <th>color</th>\n",
       "      <th>interior</th>\n",
       "      <th>seller</th>\n",
       "      <th>mmr</th>\n",
       "      <th>sellingprice</th>\n",
       "      <th>saledate</th>\n",
       "      <th>saledate_cleaned</th>\n",
       "      <th>saledate_dt</th>\n",
       "    </tr>\n",
       "  </thead>\n",
       "  <tbody>\n",
       "    <tr>\n",
       "      <th>52310</th>\n",
       "      <td>False</td>\n",
       "      <td>False</td>\n",
       "      <td>False</td>\n",
       "      <td>False</td>\n",
       "      <td>False</td>\n",
       "      <td>False</td>\n",
       "      <td>False</td>\n",
       "      <td>False</td>\n",
       "      <td>False</td>\n",
       "      <td>False</td>\n",
       "      <td>False</td>\n",
       "      <td>False</td>\n",
       "      <td>False</td>\n",
       "      <td>False</td>\n",
       "      <td>False</td>\n",
       "      <td>False</td>\n",
       "      <td>False</td>\n",
       "      <td>False</td>\n",
       "    </tr>\n",
       "    <tr>\n",
       "      <th>67886</th>\n",
       "      <td>False</td>\n",
       "      <td>False</td>\n",
       "      <td>False</td>\n",
       "      <td>False</td>\n",
       "      <td>False</td>\n",
       "      <td>False</td>\n",
       "      <td>False</td>\n",
       "      <td>False</td>\n",
       "      <td>False</td>\n",
       "      <td>False</td>\n",
       "      <td>False</td>\n",
       "      <td>False</td>\n",
       "      <td>False</td>\n",
       "      <td>False</td>\n",
       "      <td>False</td>\n",
       "      <td>False</td>\n",
       "      <td>False</td>\n",
       "      <td>False</td>\n",
       "    </tr>\n",
       "    <tr>\n",
       "      <th>70475</th>\n",
       "      <td>False</td>\n",
       "      <td>False</td>\n",
       "      <td>False</td>\n",
       "      <td>False</td>\n",
       "      <td>False</td>\n",
       "      <td>False</td>\n",
       "      <td>False</td>\n",
       "      <td>False</td>\n",
       "      <td>False</td>\n",
       "      <td>False</td>\n",
       "      <td>False</td>\n",
       "      <td>False</td>\n",
       "      <td>False</td>\n",
       "      <td>False</td>\n",
       "      <td>False</td>\n",
       "      <td>False</td>\n",
       "      <td>False</td>\n",
       "      <td>False</td>\n",
       "    </tr>\n",
       "    <tr>\n",
       "      <th>52753</th>\n",
       "      <td>False</td>\n",
       "      <td>False</td>\n",
       "      <td>False</td>\n",
       "      <td>False</td>\n",
       "      <td>False</td>\n",
       "      <td>False</td>\n",
       "      <td>False</td>\n",
       "      <td>False</td>\n",
       "      <td>False</td>\n",
       "      <td>False</td>\n",
       "      <td>False</td>\n",
       "      <td>False</td>\n",
       "      <td>False</td>\n",
       "      <td>False</td>\n",
       "      <td>False</td>\n",
       "      <td>False</td>\n",
       "      <td>False</td>\n",
       "      <td>False</td>\n",
       "    </tr>\n",
       "    <tr>\n",
       "      <th>69201</th>\n",
       "      <td>False</td>\n",
       "      <td>False</td>\n",
       "      <td>False</td>\n",
       "      <td>False</td>\n",
       "      <td>False</td>\n",
       "      <td>False</td>\n",
       "      <td>False</td>\n",
       "      <td>False</td>\n",
       "      <td>False</td>\n",
       "      <td>False</td>\n",
       "      <td>False</td>\n",
       "      <td>False</td>\n",
       "      <td>False</td>\n",
       "      <td>False</td>\n",
       "      <td>False</td>\n",
       "      <td>False</td>\n",
       "      <td>False</td>\n",
       "      <td>False</td>\n",
       "    </tr>\n",
       "    <tr>\n",
       "      <th>...</th>\n",
       "      <td>...</td>\n",
       "      <td>...</td>\n",
       "      <td>...</td>\n",
       "      <td>...</td>\n",
       "      <td>...</td>\n",
       "      <td>...</td>\n",
       "      <td>...</td>\n",
       "      <td>...</td>\n",
       "      <td>...</td>\n",
       "      <td>...</td>\n",
       "      <td>...</td>\n",
       "      <td>...</td>\n",
       "      <td>...</td>\n",
       "      <td>...</td>\n",
       "      <td>...</td>\n",
       "      <td>...</td>\n",
       "      <td>...</td>\n",
       "      <td>...</td>\n",
       "    </tr>\n",
       "    <tr>\n",
       "      <th>521830</th>\n",
       "      <td>False</td>\n",
       "      <td>False</td>\n",
       "      <td>False</td>\n",
       "      <td>False</td>\n",
       "      <td>False</td>\n",
       "      <td>False</td>\n",
       "      <td>False</td>\n",
       "      <td>False</td>\n",
       "      <td>False</td>\n",
       "      <td>False</td>\n",
       "      <td>False</td>\n",
       "      <td>False</td>\n",
       "      <td>False</td>\n",
       "      <td>False</td>\n",
       "      <td>False</td>\n",
       "      <td>False</td>\n",
       "      <td>False</td>\n",
       "      <td>False</td>\n",
       "    </tr>\n",
       "    <tr>\n",
       "      <th>507186</th>\n",
       "      <td>False</td>\n",
       "      <td>False</td>\n",
       "      <td>False</td>\n",
       "      <td>False</td>\n",
       "      <td>False</td>\n",
       "      <td>False</td>\n",
       "      <td>False</td>\n",
       "      <td>False</td>\n",
       "      <td>False</td>\n",
       "      <td>False</td>\n",
       "      <td>False</td>\n",
       "      <td>False</td>\n",
       "      <td>False</td>\n",
       "      <td>False</td>\n",
       "      <td>False</td>\n",
       "      <td>False</td>\n",
       "      <td>False</td>\n",
       "      <td>False</td>\n",
       "    </tr>\n",
       "    <tr>\n",
       "      <th>498175</th>\n",
       "      <td>False</td>\n",
       "      <td>False</td>\n",
       "      <td>False</td>\n",
       "      <td>False</td>\n",
       "      <td>False</td>\n",
       "      <td>False</td>\n",
       "      <td>False</td>\n",
       "      <td>False</td>\n",
       "      <td>False</td>\n",
       "      <td>False</td>\n",
       "      <td>False</td>\n",
       "      <td>False</td>\n",
       "      <td>False</td>\n",
       "      <td>False</td>\n",
       "      <td>False</td>\n",
       "      <td>False</td>\n",
       "      <td>False</td>\n",
       "      <td>False</td>\n",
       "    </tr>\n",
       "    <tr>\n",
       "      <th>549556</th>\n",
       "      <td>False</td>\n",
       "      <td>False</td>\n",
       "      <td>False</td>\n",
       "      <td>False</td>\n",
       "      <td>False</td>\n",
       "      <td>False</td>\n",
       "      <td>False</td>\n",
       "      <td>False</td>\n",
       "      <td>False</td>\n",
       "      <td>False</td>\n",
       "      <td>False</td>\n",
       "      <td>False</td>\n",
       "      <td>False</td>\n",
       "      <td>False</td>\n",
       "      <td>False</td>\n",
       "      <td>False</td>\n",
       "      <td>False</td>\n",
       "      <td>False</td>\n",
       "    </tr>\n",
       "    <tr>\n",
       "      <th>200268</th>\n",
       "      <td>False</td>\n",
       "      <td>False</td>\n",
       "      <td>False</td>\n",
       "      <td>False</td>\n",
       "      <td>False</td>\n",
       "      <td>False</td>\n",
       "      <td>False</td>\n",
       "      <td>False</td>\n",
       "      <td>False</td>\n",
       "      <td>False</td>\n",
       "      <td>False</td>\n",
       "      <td>False</td>\n",
       "      <td>False</td>\n",
       "      <td>False</td>\n",
       "      <td>False</td>\n",
       "      <td>False</td>\n",
       "      <td>False</td>\n",
       "      <td>False</td>\n",
       "    </tr>\n",
       "  </tbody>\n",
       "</table>\n",
       "<p>472325 rows × 18 columns</p>\n",
       "</div>"
      ],
      "text/plain": [
       "         year   make  model   trim   body  transmission    vin  state  \\\n",
       "52310   False  False  False  False  False         False  False  False   \n",
       "67886   False  False  False  False  False         False  False  False   \n",
       "70475   False  False  False  False  False         False  False  False   \n",
       "52753   False  False  False  False  False         False  False  False   \n",
       "69201   False  False  False  False  False         False  False  False   \n",
       "...       ...    ...    ...    ...    ...           ...    ...    ...   \n",
       "521830  False  False  False  False  False         False  False  False   \n",
       "507186  False  False  False  False  False         False  False  False   \n",
       "498175  False  False  False  False  False         False  False  False   \n",
       "549556  False  False  False  False  False         False  False  False   \n",
       "200268  False  False  False  False  False         False  False  False   \n",
       "\n",
       "        condition  odometer  color  interior  seller    mmr  sellingprice  \\\n",
       "52310       False     False  False     False   False  False         False   \n",
       "67886       False     False  False     False   False  False         False   \n",
       "70475       False     False  False     False   False  False         False   \n",
       "52753       False     False  False     False   False  False         False   \n",
       "69201       False     False  False     False   False  False         False   \n",
       "...           ...       ...    ...       ...     ...    ...           ...   \n",
       "521830      False     False  False     False   False  False         False   \n",
       "507186      False     False  False     False   False  False         False   \n",
       "498175      False     False  False     False   False  False         False   \n",
       "549556      False     False  False     False   False  False         False   \n",
       "200268      False     False  False     False   False  False         False   \n",
       "\n",
       "        saledate  saledate_cleaned  saledate_dt  \n",
       "52310      False             False        False  \n",
       "67886      False             False        False  \n",
       "70475      False             False        False  \n",
       "52753      False             False        False  \n",
       "69201      False             False        False  \n",
       "...          ...               ...          ...  \n",
       "521830     False             False        False  \n",
       "507186     False             False        False  \n",
       "498175     False             False        False  \n",
       "549556     False             False        False  \n",
       "200268     False             False        False  \n",
       "\n",
       "[472325 rows x 18 columns]"
      ]
     },
     "execution_count": 15,
     "metadata": {},
     "output_type": "execute_result"
    }
   ],
   "source": [
    "cleaned2.isnull()"
   ]
  },
  {
   "cell_type": "code",
   "execution_count": 16,
   "id": "43acaf15",
   "metadata": {
    "execution": {
     "iopub.execute_input": "2025-05-29T20:12:32.548252Z",
     "iopub.status.busy": "2025-05-29T20:12:32.547955Z",
     "iopub.status.idle": "2025-05-29T20:12:32.582105Z",
     "shell.execute_reply": "2025-05-29T20:12:32.580616Z"
    },
    "papermill": {
     "duration": 0.051738,
     "end_time": "2025-05-29T20:12:32.585685",
     "exception": false,
     "start_time": "2025-05-29T20:12:32.533947",
     "status": "completed"
    },
    "tags": []
   },
   "outputs": [
    {
     "name": "stdout",
     "output_type": "stream",
     "text": [
      "        year           make             model             trim          body  \\\n",
      "451508  2012          Lexus            IS 250             Base         Sedan   \n",
      "373323  2014            Ram              1500              SLT      Quad Cab   \n",
      "437586  2009      Chevrolet           Equinox               LT           SUV   \n",
      "427234  2012         Nissan            Altima            2.5 S         Sedan   \n",
      "558782  2014            Kia            Optima               SX         Sedan   \n",
      "513037  2015         Nissan        Versa Note           1.6 SV     hatchback   \n",
      "311249  2010           Ford              Edge          Limited           SUV   \n",
      "161147  2014           Ford            Fiesta               SE     Hatchback   \n",
      "466448  2013         Nissan            Altima              2.5         sedan   \n",
      "417949  2014           Ford        Expedition    EL King Ranch           SUV   \n",
      "475608  2012  Mercedes-Benz           M-Class    ML350 BlueTEC           suv   \n",
      "512359  2013       Infiniti           G Sedan             G37x       g sedan   \n",
      "468762  2013         Toyota           Corolla               LE         sedan   \n",
      "332510  2012           Ford             F-150              XLT     SuperCrew   \n",
      "464906  2012     Volkswagen             Jetta          SE PZEV         sedan   \n",
      "478870  2008           Jeep           Patriot            Sport           suv   \n",
      "414173  2011  Mercedes-Benz          GL-Class    GL350 BlueTEC           SUV   \n",
      "400280  2011         Nissan            Murano                S           SUV   \n",
      "346021  2013         Nissan        Pathfinder               SL           SUV   \n",
      "221376  2012           Ford            Fusion              SEL         Sedan   \n",
      "479707  2013           Ford              Edge              SEL           suv   \n",
      "455430  2008         Nissan        Pathfinder               LE           SUV   \n",
      "78832   2014         Toyota             Camry               LE         Sedan   \n",
      "496906  2012           Ford             Focus               SE         sedan   \n",
      "409409  2014         Nissan            Maxima            3.5 S         Sedan   \n",
      "472845  2010       Chrysler               300          Touring         sedan   \n",
      "150568  2014         Toyota             Camry               LE         Sedan   \n",
      "544111  2013          Dodge        Challenger              R/T         coupe   \n",
      "551991  2013            BMW                X3        xDrive28i           suv   \n",
      "536383  2013         Subaru      XV Crosstrek          Premium           suv   \n",
      "492948  2008          Buick           Enclave               CX           suv   \n",
      "127360  2008          Buick           Lucerne              CXS         Sedan   \n",
      "168985  2007         Toyota        FJ Cruiser             Base           SUV   \n",
      "416758  2013          Lexus            RX 350             Base           SUV   \n",
      "40616   2004         Nissan            Maxima           3.5 SL         Sedan   \n",
      "540050  2015     Mitsubishi   Outlander Sport               ES           suv   \n",
      "550211  2012            Ram              1500               ST      crew cab   \n",
      "427067  2012          Honda            Accord               LX         Sedan   \n",
      "538212  2012            Ram              1500               ST      crew cab   \n",
      "456803  2014           Ford        Expedition    EL King Ranch           SUV   \n",
      "209395  2014      Chevrolet             Cruze              2LT         Sedan   \n",
      "123635  2012            BMW          5 Series             535i         Sedan   \n",
      "445242  2014          Dodge           Charger               SE         Sedan   \n",
      "550974  2008           MINI            Cooper                S     hatchback   \n",
      "542864  2014           Ford        Expedition    EL King Ranch           suv   \n",
      "516947  2012           Ford            Fusion                S         sedan   \n",
      "458417  2013  Mercedes-Benz          GL-Class     GL450 4MATIC           SUV   \n",
      "557575  2012         Subaru           Outback     3.6R Limited         Wagon   \n",
      "217419  2011           Saab               9-5   Turbo4 Premium         Sedan   \n",
      "510318  2008           Jeep           Patriot            Sport           suv   \n",
      "305435  2014           Ford            Fusion               SE         Sedan   \n",
      "426218  2014           Ford        Expedition    EL King Ranch           SUV   \n",
      "475247  2012            BMW          3 Series             328i         coupe   \n",
      "281715  2014           Ford        Expedition              XLT           SUV   \n",
      "509649  2011       Infiniti           G Sedan             G37x       g sedan   \n",
      "431077  2014           Ford            Fusion               SE         Sedan   \n",
      "449933  2014           Ford            Fusion         Titanium         Sedan   \n",
      "235164  2015           Ford            Fusion               SE         Sedan   \n",
      "431030  2014           Ford          Explorer              XLT           SUV   \n",
      "431114  2014           Ford     Fusion Hybrid         Titanium         Sedan   \n",
      "235536  2014           Ford     Fusion Hybrid               SE         Sedan   \n",
      "262567  2013           Ford            Escape         Titanium           SUV   \n",
      "438776  2015      Chevrolet             Sonic              LTZ         Sedan   \n",
      "471744  2014           Ford  F-250 Super Duty               XL      supercab   \n",
      "426780  2013         Subaru            Legacy     2.5i Limited         Sedan   \n",
      "382391  2014        Hyundai          Veloster             Base     Hatchback   \n",
      "487812  2007     Volkswagen        New Beetle         2.5 PZEV     Hatchback   \n",
      "478582  2011            GMC     Sierra 2500HD              SLE  extended cab   \n",
      "428044  2014          Dodge        Challenger              SXT         Coupe   \n",
      "318917  2011            BMW          3 Series             328i         Sedan   \n",
      "423917  2009            BMW          1 Series             128i         Coupe   \n",
      "558826  2014           Jeep    Grand Cherokee          Limited           SUV   \n",
      "400422  2009          Dodge     Grand Caravan               SE       Minivan   \n",
      "558804  2007          Volvo              XC90              3.2           suv   \n",
      "421344  2012         Toyota           4Runner              SR5           SUV   \n",
      "433669  2015  Mercedes-Benz         GLK-Class           GLK350           SUV   \n",
      "239460  2013        Hyundai            Accent              GLS         Sedan   \n",
      "366809  2008           Ford             F-150       King Ranch     SuperCrew   \n",
      "558796  2013       Chrysler               200               LX         Sedan   \n",
      "558763  2007         Toyota            Tundra              SR5   crewmax cab   \n",
      "554255  2011         Toyota            Sienna  XLE 8-Passenger       minivan   \n",
      "257863  2011           Ford      Shelby GT500             Base         Coupe   \n",
      "408857  2013         Nissan          Frontier               SV      Crew Cab   \n",
      "365361  2012         Nissan             Versa            1.8 S     Hatchback   \n",
      "479888  2013         Nissan            Maxima            3.5 S         sedan   \n",
      "166137  2003          Mazda            Mazda6                s         Sedan   \n",
      "66531   2007      Chevrolet           Equinox               LT           SUV   \n",
      "376929  2012         Nissan            Sentra           2.0 SR         Sedan   \n",
      "557705  2008           Jeep    Grand Cherokee         Overland           suv   \n",
      "488876  2013            Ram              1500        Tradesman   regular cab   \n",
      "539285  2011         Toyota            Tundra           Tundra    double cab   \n",
      "436247  2013            Ram              1500        Tradesman      Crew Cab   \n",
      "430367  2012            Ram              1500               ST   Regular Cab   \n",
      "452474  2014         Toyota            Tundra               SR    Double Cab   \n",
      "422714  2013           Ford             F-150               XL     SuperCrew   \n",
      "521830  2012      Chevrolet  Silverado 2500HD               LT      crew cab   \n",
      "507186  2013            Ram              2500              SLT      crew cab   \n",
      "498175  2013           Ford             F-150              XLT     supercrew   \n",
      "549556  2013      Chevrolet            Malibu              Eco         sedan   \n",
      "200268  2007      Chevrolet             Tahoe               LT           SUV   \n",
      "\n",
      "       transmission                vin state  condition  odometer     color  \\\n",
      "451508    automatic  jthbf5c20c5175033    fl       28.0   28983.0     white   \n",
      "373323    automatic  1c6rr7lm8es286056    ga       36.0    6270.0     black   \n",
      "437586    automatic  2cndl33f096204114    tx       34.0  100986.0      gray   \n",
      "427234    automatic  1n4al2ap7cc197924    il       19.0   36566.0     white   \n",
      "558782    automatic  5xxgr4a76eg266054    wi       42.0    4067.0       red   \n",
      "513037    automatic  3n1ce2cp2fl369668    ga       23.0    4794.0      blue   \n",
      "311249    automatic  2fmdk3kc4abb26121    pa       19.0   67212.0  charcoal   \n",
      "161147    automatic  3fadp4ej1em103170    il       38.0   43065.0     black   \n",
      "466448    automatic  1n4al3apxdn564648    ga       31.0   48648.0       red   \n",
      "417949    automatic  1fmjk1j55eef46359    il       25.0   33316.0     black   \n",
      "475608    automatic  4jgda2eb4ca060667    nj       37.0   72989.0         —   \n",
      "512359    automatic  jn1cv6ar8dm753467    oh       29.0   25785.0    silver   \n",
      "468762    automatic  2t1bu4ee9dc974855    ga       28.0   99431.0     white   \n",
      "332510    automatic  1ftfw1ef3cfc51429    il       27.0   16336.0    silver   \n",
      "464906       manual  3vwbp7aj7cm029594    ga       41.0   51482.0      gray   \n",
      "478870    automatic  1j8ft28w18d682941    tx       27.0  113701.0    silver   \n",
      "414173    automatic  4jgbf2fe0ba628901    fl       42.0   46660.0      gray   \n",
      "400280    automatic  jn8az1mwxbw180087    ga       28.0   40783.0     black   \n",
      "346021    automatic  5n1ar2mm5dc638599    il       45.0   42984.0      gray   \n",
      "221376    automatic  3fahp0jg5cr197414    fl       44.0   66863.0     black   \n",
      "479707    automatic  2fmdk3jc3dba31328    il       26.0   52634.0      blue   \n",
      "455430    automatic  5n1ar18u88c608572    tx       25.0   88250.0     brown   \n",
      "78832     automatic  4t1bf1fk7eu826667    nc       35.0   22338.0         —   \n",
      "496906       manual  1fahp3f28cl241144    ga       39.0   89290.0     white   \n",
      "409409    automatic  1n4aa5ap1ec457602    tx       28.0   32231.0  burgundy   \n",
      "472845    automatic  2c3ca4cdxah101354    tx       28.0  100721.0     white   \n",
      "150568    automatic  4t1bf1fk9eu403296    nc       37.0   31447.0         —   \n",
      "544111    automatic  2c3cdybt0dh729287    ms       26.0    8015.0      gray   \n",
      "551991    automatic  5uxwx9c5xd0a30941    fl        3.0   28546.0     white   \n",
      "536383    automatic  jf2gpacc7dh852375    tx       42.0   27739.0      gray   \n",
      "492948    automatic  5gaer13738j164697    tx       35.0  141962.0     brown   \n",
      "127360    automatic  1g4he57y98u151853    oh       29.0   92306.0    purple   \n",
      "168985       manual  jtebu11f470032445    tn       32.0  113010.0    purple   \n",
      "416758    automatic  2t2bk1ba7dc180762    fl        4.0   10196.0     black   \n",
      "40616     automatic  1n4ba41e14c812456    tx       23.0       1.0      gold   \n",
      "540050    automatic  4a4ap3au2fe016823    tx       23.0    6143.0     black   \n",
      "550211    automatic  1c6rd6fp6cs331863    tx       27.0   26242.0      gray   \n",
      "427067    automatic  1hgcp2f3xca131328    ga       28.0   55749.0    silver   \n",
      "538212    automatic  1c6rd7kt9cs144660    tx       28.0   31290.0     black   \n",
      "456803    automatic  1fmjk1j59eef50785    tx       19.0   17633.0         —   \n",
      "209395    automatic  1g1pe5sb9e7114047    mn       36.0   37090.0       red   \n",
      "123635    automatic  wbafr7c55cc808179    nv        4.0   67592.0      gray   \n",
      "445242    automatic  2c3cdxbg3eh266074    ga       36.0   38861.0      gray   \n",
      "550974       manual  wmwmf735x8tt90872    tx       34.0   57896.0      gray   \n",
      "542864    automatic  1fmjk1j58eef38983    tx       38.0   34425.0         —   \n",
      "516947    automatic  3fahp0ga9cr310056    tx        4.0   24881.0    silver   \n",
      "458417    automatic  4jgdf7ce0da249166    tx        4.0   35351.0      blue   \n",
      "557575    automatic  4s4brelc0c2241949    tx        3.0   32498.0      gray   \n",
      "217419    automatic  ys3gn4ar9b4004184    fl       19.0   50080.0      gray   \n",
      "510318    automatic  1j8ff28w48d784872    mn       27.0   85290.0    silver   \n",
      "305435    automatic  3fa6p0hd8er236695    tn       44.0   33571.0         —   \n",
      "426218    automatic  1fmjk1j59eef38989    tn       43.0   33474.0         —   \n",
      "475247    automatic  wbake3c51ce769324    fl       41.0   29417.0     black   \n",
      "281715    automatic  1fmju1j58eef20283    tn       44.0   34105.0       red   \n",
      "509649    automatic  jn1cv6ar4bm406506    co       26.0   43120.0      blue   \n",
      "431077    automatic  3fa6p0h9xer279561    tn       43.0   33382.0     white   \n",
      "449933    automatic  3fa6p0k96er320468    tn       41.0   34312.0     white   \n",
      "235164    automatic  3fa6p0h71fr189618    tn       49.0      10.0     white   \n",
      "431030    automatic  1fm5k8d85egc50715    tn       46.0   33444.0         —   \n",
      "431114    automatic  3fa6p0ru0er332819    tn        5.0   33998.0         —   \n",
      "235536    automatic  3fa6p0lu9er308088    tn       45.0   33608.0         —   \n",
      "262567    automatic  1fmcu0j90dua99394    tn        4.0   30616.0      gray   \n",
      "438776    automatic  1g1je5sb0f4122031    il        4.0    9466.0     white   \n",
      "471744    automatic  1ft7x2b62eea54353    tx        3.0   64992.0     white   \n",
      "426780    automatic  4s3bmck61d3033089    tx       36.0   16893.0     white   \n",
      "382391    automatic  kmhtc6ad2eu216582    nv       23.0   13292.0    silver   \n",
      "487812    automatic  3vweg31c47m508472    ca        3.0   85723.0     black   \n",
      "478582    automatic  1gt220cg6bz414166    ca       37.0   79719.0     white   \n",
      "428044    automatic  2c3cdyagxeh195639    tx       36.0   18858.0       red   \n",
      "318917    automatic  wbaph5g56bnm83664    ca       35.0   62830.0      gray   \n",
      "423917       manual  wbaup93589vf45999    tx       41.0   79320.0     black   \n",
      "558826    automatic  1c4rjebg4ec573100    ca       44.0    9024.0      gray   \n",
      "400422    automatic  2d8hn44e29r585346    ca       29.0  103989.0      gray   \n",
      "558804    automatic  yv4cy982971355864    nv       34.0   95769.0     white   \n",
      "421344    automatic  jtebu5jr5c5094399    tx       38.0   62296.0         —   \n",
      "433669    automatic  wdcgg5hb6fg357514    ca       35.0    2188.0     white   \n",
      "239460    automatic  kmhct4ae1du273741    mo       38.0   54295.0     white   \n",
      "366809    automatic  1ftpw12v48kd44698    ca       42.0   87607.0  burgundy   \n",
      "558796    automatic  1c3ccbab2dn734510    ca       42.0   45108.0       red   \n",
      "558763    automatic  5tbev54137s467856    ca       21.0   68553.0      gold   \n",
      "554255    automatic  5tdyk3dc8bs164485    tx       36.0   61895.0    silver   \n",
      "257863       manual  1zvbp8js3b5158208    ca       46.0   17784.0     white   \n",
      "408857    automatic  1n6ad0ev6dn716355    tx        3.0   41644.0     white   \n",
      "365361    automatic  3n1bc1cp3ck271908    ga       19.0   71902.0      blue   \n",
      "479888    automatic  1n4aa5ap1dc839322    ca       32.0   41549.0     black   \n",
      "166137    automatic  1yvhp80d035m41046    md       21.0  111946.0     black   \n",
      "66531     automatic  2cndl73f376003201    wi        4.0       1.0      blue   \n",
      "376929    automatic  3n1ab6ap1cl715473    pa       19.0   36698.0     white   \n",
      "557705    automatic  1j8hr68218c210868    pa       37.0  123059.0     black   \n",
      "488876    automatic  3c6jr6at6dg556750    ms       36.0   29861.0     white   \n",
      "539285    automatic  5tfrm5f11bx028781    tx       38.0   89732.0     green   \n",
      "436247    automatic  1c6rr7kt2ds705350    tx       38.0  110159.0     white   \n",
      "430367    automatic  3c6jd6at0cg136110    ms       36.0   28283.0     black   \n",
      "452474    automatic  5tfum5f12ex057057    fl       45.0   18208.0     white   \n",
      "422714    automatic  1ftfw1ef6dkf58506    tx       41.0   52992.0     white   \n",
      "521830    automatic  1gc1kxcg1cf125803    tx       44.0   89312.0       red   \n",
      "507186    automatic  3c6ur5dl0dg569481    il       39.0   58595.0     white   \n",
      "498175    automatic  1ftfw1ef0dfb68283    ms       44.0   47046.0     white   \n",
      "549556    automatic  1g11d5rr3df108745    oh       36.0   31712.0       red   \n",
      "200268    automatic  1gnfc13007r166874    fl       23.0       1.0     white   \n",
      "\n",
      "       interior                                             seller      mmr  \\\n",
      "451508    black                           lexus financial services  21000.0   \n",
      "373323    brown     remarketing by ge/the credit union loan source  35600.0   \n",
      "437586     gray                     autonation toyota gulf freeway   6625.0   \n",
      "427234      tan                                 nissan-infiniti lt  11400.0   \n",
      "558782    black                            kia motors america  inc  19200.0   \n",
      "513037    black  enterprise vehicle exchange / tra / rental / t...  11300.0   \n",
      "311249    black                       r hollenshead auto sales inc  14550.0   \n",
      "161147      tan                              ars/avis budget group   9050.0   \n",
      "466448    black                                           dtag tra  11400.0   \n",
      "417949    beige                                  avis budget group  31000.0   \n",
      "475608    black                   mercedes-benz financial services  28900.0   \n",
      "512359     gray                        infiniti financial services  21000.0   \n",
      "468762     gray                                arms across america   7850.0   \n",
      "332510     gray                      ford motor credit company llc  29200.0   \n",
      "464906    black                                  alford auto sales   9075.0   \n",
      "478870    black                              dt credit corporation   4175.0   \n",
      "414173      tan                 remarketing by ge/nextgear capital  32700.0   \n",
      "400280    black                                 nissan-infiniti lt  14500.0   \n",
      "346021    black                                 nissan-infiniti lt  22700.0   \n",
      "221376    black                           capital one auto finance   9825.0   \n",
      "479707     gray                      ford motor credit company llc  18200.0   \n",
      "455430      tan                                  texas direct auto  10500.0   \n",
      "78832      gray                 toyota motor sales usa inc/program  14200.0   \n",
      "496906    black              credit acceptance corp/vrs/southfield   6425.0   \n",
      "409409    black                                   avis corporation  15500.0   \n",
      "472845    black             remarketing by ge/ak&y enterprises inc   7700.0   \n",
      "150568     gray                 toyota motor sales usa inc/program  13650.0   \n",
      "544111    black                                   chrysler capital  26100.0   \n",
      "551991    black                                   braman motorcars  27800.0   \n",
      "536383    black                                    td auto finance  18750.0   \n",
      "492948    beige                             fairway ford henderson   7050.0   \n",
      "127360     gray                                       dt inventory   5975.0   \n",
      "168985    black                            sullivan auto group llc  14350.0   \n",
      "416758    black                           lexus financial services  33300.0   \n",
      "40616         —                                 spring motor sport   3975.0   \n",
      "540050    black                                 santander consumer  14400.0   \n",
      "550211    black         remktgedge / cars / carfinance capital llc  18050.0   \n",
      "427067     gray                   ahfc/honda lease trust/hvt  inc.  10750.0   \n",
      "538212    black                                   chrysler capital  23500.0   \n",
      "456803    beige                        ford-lincoln dealer program  33400.0   \n",
      "209395      tan                                   avis corporation  12000.0   \n",
      "123635    black            financial services remarketing - pickup  24700.0   \n",
      "445242    black  enterprise vehicle exchange / tra / rental / t...  15350.0   \n",
      "550974     gray             primeritus remarketing/eurocar imports   9075.0   \n",
      "542864      tan                                  avis budget group  30800.0   \n",
      "516947     gray                      ford motor credit company llc  10650.0   \n",
      "458417    black                              the hertz corporation  42100.0   \n",
      "557575    black                          west houston infiniti ltd  22700.0   \n",
      "217419    black                              tfp international inc  11300.0   \n",
      "510318     gray                                        select lane   6450.0   \n",
      "305435      tan                              ars/avis budget group  18000.0   \n",
      "426218     gray                                  avis budget group  31000.0   \n",
      "475247    black                                      braman motors  21200.0   \n",
      "281715      tan                                  avis budget group  17800.0   \n",
      "509649      tan                        infiniti financial services  16900.0   \n",
      "431077      tan                                  avis budget group  26600.0   \n",
      "449933    black                                  avis budget group  30500.0   \n",
      "235164    black                          ford motor credit company  33900.0   \n",
      "431030    black                                  avis budget group   9225.0   \n",
      "431114    black                                  avis budget group  30500.0   \n",
      "235536    black                                  avis budget group  20200.0   \n",
      "262567    black                      ford motor credit company llc  11800.0   \n",
      "438776    black                                     gm remarketing  12750.0   \n",
      "471744     gray               enterprise fleet management exchange  19450.0   \n",
      "426780      tan                           jpmorgan chase bank n.a.  19150.0   \n",
      "382391    black                                   affordable autos  13650.0   \n",
      "487812    black                                          vw credit   3900.0   \n",
      "478582    black                            aaero sweet corporation  18950.0   \n",
      "428044    black                                   chrysler capital  19000.0   \n",
      "318917    black             financial services remarketing (lease)  14450.0   \n",
      "423917    black                                   tdaf remarketing  11750.0   \n",
      "558826    black  enterprise vehicle exchange / tra / rental / t...  29800.0   \n",
      "400422    black                            nissan of mission hills   5525.0   \n",
      "558804    beige                                       unique autos   5950.0   \n",
      "421344    black                        mike albert fleet solutions  26500.0   \n",
      "433669    black                                        jordan auto  34900.0   \n",
      "239460      tan                                   avis corporation   8275.0   \n",
      "366809    brown                                reliance motors llc  14750.0   \n",
      "558796    black                     enterprise veh exchange/rental   9500.0   \n",
      "558763      tan                                 premier motor/cars  16850.0   \n",
      "554255     gray                                  pro financial inc  21500.0   \n",
      "257863    black   certified preowned ford&lincoln/mercury dlr unit  39900.0   \n",
      "408857     gray                              the hertz corporation  19850.0   \n",
      "365361    black                nissan motor acceptance corporation   6775.0   \n",
      "479888    black                                           cars 911  14400.0   \n",
      "166137    black                          infiniti of tysons corner   2100.0   \n",
      "66531      gray                      dupaco community credit union   6725.0   \n",
      "376929     gray                                 nissan-infiniti lt   9925.0   \n",
      "557705     gray                         charles & son auto sls inc  10650.0   \n",
      "488876     gray                                   chrysler capital  18450.0   \n",
      "539285      tan          consolidated asset recovery systems  inc.  15200.0   \n",
      "436247     gray               enterprise fleet management exchange  23700.0   \n",
      "430367    black                                   chrysler capital  16250.0   \n",
      "452474    black                          toyota financial services  26500.0   \n",
      "422714     gray               enterprise fleet management exchange  24200.0   \n",
      "521830    black                                 donlen corporation  22200.0   \n",
      "507186     gray               ars/express car and truck rental inc  30300.0   \n",
      "498175     gray                              the hertz corporation  24800.0   \n",
      "549556      tan                             nassief auto group inc  13700.0   \n",
      "200268    black                            autonation ford sanford  10450.0   \n",
      "\n",
      "        sellingprice                                 saledate  \\\n",
      "451508       22000.0  Thu Jul 09 2015 07:00:00 GMT-0700 (PDT)   \n",
      "373323       38000.0  Thu Jul 09 2015 07:00:00 GMT-0700 (PDT)   \n",
      "437586        5500.0  Thu Jul 09 2015 07:00:00 GMT-0700 (PDT)   \n",
      "427234        9800.0  Thu Jul 09 2015 07:00:00 GMT-0700 (PDT)   \n",
      "558782       21100.0  Thu Jul 09 2015 07:00:00 GMT-0700 (PDT)   \n",
      "513037        7300.0  Thu Jul 09 2015 07:00:00 GMT-0700 (PDT)   \n",
      "311249       13500.0  Thu Jul 09 2015 07:00:00 GMT-0700 (PDT)   \n",
      "161147        9800.0  Thu Jul 09 2015 07:00:00 GMT-0700 (PDT)   \n",
      "466448        8600.0  Thu Jul 09 2015 07:00:00 GMT-0700 (PDT)   \n",
      "417949       31100.0  Thu Jul 09 2015 07:00:00 GMT-0700 (PDT)   \n",
      "475608       28250.0  Thu Jul 09 2015 07:00:00 GMT-0700 (PDT)   \n",
      "512359       20500.0  Thu Jul 09 2015 07:00:00 GMT-0700 (PDT)   \n",
      "468762       10100.0  Thu Jul 09 2015 07:00:00 GMT-0700 (PDT)   \n",
      "332510       27500.0  Thu Jul 09 2015 07:00:00 GMT-0700 (PDT)   \n",
      "464906        9500.0  Thu Jul 09 2015 07:00:00 GMT-0700 (PDT)   \n",
      "478870        5300.0  Thu Jul 09 2015 07:00:00 GMT-0700 (PDT)   \n",
      "414173       24100.0  Thu Jul 09 2015 07:00:00 GMT-0700 (PDT)   \n",
      "400280       13800.0  Thu Jul 09 2015 07:00:00 GMT-0700 (PDT)   \n",
      "346021       24600.0  Thu Jul 09 2015 07:00:00 GMT-0700 (PDT)   \n",
      "221376       13000.0  Thu Jul 09 2015 07:00:00 GMT-0700 (PDT)   \n",
      "479707       17000.0  Thu Jul 09 2015 07:00:00 GMT-0700 (PDT)   \n",
      "455430        8200.0  Thu Jul 09 2015 07:00:00 GMT-0700 (PDT)   \n",
      "78832        15200.0  Thu Jul 09 2015 07:00:00 GMT-0700 (PDT)   \n",
      "496906        6400.0  Thu Jul 09 2015 07:00:00 GMT-0700 (PDT)   \n",
      "409409       16800.0  Thu Jul 09 2015 07:00:00 GMT-0700 (PDT)   \n",
      "472845        7900.0  Thu Jul 09 2015 07:00:00 GMT-0700 (PDT)   \n",
      "150568       14800.0  Thu Jul 09 2015 07:00:00 GMT-0700 (PDT)   \n",
      "544111       26100.0  Thu Jul 09 2015 07:15:00 GMT-0700 (PDT)   \n",
      "551991       25000.0  Thu Jul 09 2015 07:30:00 GMT-0700 (PDT)   \n",
      "536383       17800.0  Thu Jul 09 2015 07:30:00 GMT-0700 (PDT)   \n",
      "492948        8100.0  Thu Jul 09 2015 07:30:00 GMT-0700 (PDT)   \n",
      "127360        6300.0  Thu Jul 09 2015 07:30:00 GMT-0700 (PDT)   \n",
      "168985       12700.0  Thu Jul 09 2015 07:30:00 GMT-0700 (PDT)   \n",
      "416758       37800.0  Thu Jul 09 2015 07:30:00 GMT-0700 (PDT)   \n",
      "40616         3800.0  Thu Jul 09 2015 07:30:00 GMT-0700 (PDT)   \n",
      "540050       11500.0  Thu Jul 09 2015 07:30:00 GMT-0700 (PDT)   \n",
      "550211       16900.0  Thu Jul 09 2015 07:30:00 GMT-0700 (PDT)   \n",
      "427067        9000.0  Thu Jul 09 2015 07:30:00 GMT-0700 (PDT)   \n",
      "538212       22700.0  Thu Jul 09 2015 07:30:00 GMT-0700 (PDT)   \n",
      "456803       30500.0  Thu Jul 09 2015 07:30:00 GMT-0700 (PDT)   \n",
      "209395       12800.0  Thu Jul 09 2015 07:30:00 GMT-0700 (PDT)   \n",
      "123635       27250.0  Thu Jul 09 2015 07:30:00 GMT-0700 (PDT)   \n",
      "445242       14600.0  Thu Jul 09 2015 07:30:00 GMT-0700 (PDT)   \n",
      "550974        6800.0  Thu Jul 09 2015 07:30:00 GMT-0700 (PDT)   \n",
      "542864       30000.0  Thu Jul 09 2015 07:30:00 GMT-0700 (PDT)   \n",
      "516947       10600.0  Thu Jul 09 2015 07:30:00 GMT-0700 (PDT)   \n",
      "458417       38700.0  Thu Jul 09 2015 07:30:00 GMT-0700 (PDT)   \n",
      "557575       22750.0  Thu Jul 09 2015 07:30:00 GMT-0700 (PDT)   \n",
      "217419       11500.0  Thu Jul 09 2015 07:35:00 GMT-0700 (PDT)   \n",
      "510318        7300.0  Thu Jul 09 2015 07:45:00 GMT-0700 (PDT)   \n",
      "305435       15700.0  Thu Jul 09 2015 08:00:00 GMT-0700 (PDT)   \n",
      "426218       31700.0  Thu Jul 09 2015 08:00:00 GMT-0700 (PDT)   \n",
      "475247       19900.0  Thu Jul 09 2015 08:00:00 GMT-0700 (PDT)   \n",
      "281715       31700.0  Thu Jul 09 2015 08:00:00 GMT-0700 (PDT)   \n",
      "509649       17700.0  Thu Jul 09 2015 08:00:00 GMT-0700 (PDT)   \n",
      "431077       15200.0  Thu Jul 09 2015 08:00:00 GMT-0700 (PDT)   \n",
      "449933       16800.0  Thu Jul 09 2015 08:00:00 GMT-0700 (PDT)   \n",
      "235164       42100.0  Thu Jul 09 2015 08:00:00 GMT-0700 (PDT)   \n",
      "431030       27900.0  Thu Jul 09 2015 08:00:00 GMT-0700 (PDT)   \n",
      "431114       18900.0  Thu Jul 09 2015 08:00:00 GMT-0700 (PDT)   \n",
      "235536       18700.0  Thu Jul 09 2015 08:00:00 GMT-0700 (PDT)   \n",
      "262567       20700.0  Thu Jul 09 2015 08:00:00 GMT-0700 (PDT)   \n",
      "438776       18100.0  Thu Jul 09 2015 08:00:00 GMT-0700 (PDT)   \n",
      "471744       20100.0  Thu Jul 09 2015 08:30:00 GMT-0700 (PDT)   \n",
      "426780       17000.0  Thu Jul 09 2015 09:00:00 GMT-0700 (PDT)   \n",
      "382391       14800.0  Thu Jul 09 2015 09:00:00 GMT-0700 (PDT)   \n",
      "487812        3400.0  Thu Jul 09 2015 09:00:00 GMT-0700 (PDT)   \n",
      "478582       22200.0  Thu Jul 09 2015 09:00:00 GMT-0700 (PDT)   \n",
      "428044       18500.0  Thu Jul 09 2015 09:00:00 GMT-0700 (PDT)   \n",
      "318917       15200.0  Thu Jul 09 2015 09:00:00 GMT-0700 (PDT)   \n",
      "423917       11300.0  Thu Jul 09 2015 09:00:00 GMT-0700 (PDT)   \n",
      "558826       17300.0  Thu Jul 09 2015 09:00:00 GMT-0700 (PDT)   \n",
      "400422        6000.0  Thu Jul 09 2015 09:00:00 GMT-0700 (PDT)   \n",
      "558804        8500.0  Thu Jul 09 2015 09:00:00 GMT-0700 (PDT)   \n",
      "421344       25100.0  Thu Jul 09 2015 09:00:00 GMT-0700 (PDT)   \n",
      "433669       33000.0  Thu Jul 09 2015 09:00:00 GMT-0700 (PDT)   \n",
      "239460        9400.0  Thu Jul 09 2015 09:00:00 GMT-0700 (PDT)   \n",
      "366809       19000.0  Thu Jul 09 2015 09:00:00 GMT-0700 (PDT)   \n",
      "558796       10900.0  Thu Jul 09 2015 09:00:00 GMT-0700 (PDT)   \n",
      "558763       15000.0  Thu Jul 09 2015 09:00:00 GMT-0700 (PDT)   \n",
      "554255       22700.0  Thu Jul 09 2015 09:00:00 GMT-0700 (PDT)   \n",
      "257863       38500.0  Thu Jul 09 2015 09:00:00 GMT-0700 (PDT)   \n",
      "408857       19000.0  Thu Jul 09 2015 09:00:00 GMT-0700 (PDT)   \n",
      "365361        4600.0  Thu Jul 09 2015 09:30:00 GMT-0700 (PDT)   \n",
      "479888       14400.0  Thu Jul 09 2015 13:30:00 GMT-0700 (PDT)   \n",
      "166137        1100.0  Thu Jul 09 2015 17:15:00 GMT-0700 (PDT)   \n",
      "66531         8000.0  Thu Jul 09 2015 17:15:00 GMT-0700 (PDT)   \n",
      "376929       10100.0  Fri Jul 10 2015 06:00:00 GMT-0700 (PDT)   \n",
      "557705       11000.0  Fri Jul 10 2015 06:00:00 GMT-0700 (PDT)   \n",
      "488876       15000.0  Tue Jul 14 2015 06:30:00 GMT-0700 (PDT)   \n",
      "539285       13250.0  Tue Jul 14 2015 06:30:00 GMT-0700 (PDT)   \n",
      "436247       14700.0  Tue Jul 14 2015 06:30:00 GMT-0700 (PDT)   \n",
      "430367       14000.0  Tue Jul 14 2015 06:30:00 GMT-0700 (PDT)   \n",
      "452474       25600.0  Tue Jul 14 2015 06:30:00 GMT-0700 (PDT)   \n",
      "422714       18100.0  Tue Jul 14 2015 06:30:00 GMT-0700 (PDT)   \n",
      "521830       22800.0  Tue Jul 14 2015 06:30:00 GMT-0700 (PDT)   \n",
      "507186       28500.0  Tue Jul 14 2015 06:30:00 GMT-0700 (PDT)   \n",
      "498175       24600.0  Tue Jul 14 2015 06:30:00 GMT-0700 (PDT)   \n",
      "549556       14000.0  Tue Jul 14 2015 06:30:00 GMT-0700 (PDT)   \n",
      "200268        9100.0  Tue Jul 21 2015 02:30:00 GMT-0700 (PDT)   \n",
      "\n",
      "                         saledate_cleaned               saledate_dt  \n",
      "451508  Thu Jul 09 2015 07:00:00 GMT-0700 2015-07-09 14:00:00+00:00  \n",
      "373323  Thu Jul 09 2015 07:00:00 GMT-0700 2015-07-09 14:00:00+00:00  \n",
      "437586  Thu Jul 09 2015 07:00:00 GMT-0700 2015-07-09 14:00:00+00:00  \n",
      "427234  Thu Jul 09 2015 07:00:00 GMT-0700 2015-07-09 14:00:00+00:00  \n",
      "558782  Thu Jul 09 2015 07:00:00 GMT-0700 2015-07-09 14:00:00+00:00  \n",
      "513037  Thu Jul 09 2015 07:00:00 GMT-0700 2015-07-09 14:00:00+00:00  \n",
      "311249  Thu Jul 09 2015 07:00:00 GMT-0700 2015-07-09 14:00:00+00:00  \n",
      "161147  Thu Jul 09 2015 07:00:00 GMT-0700 2015-07-09 14:00:00+00:00  \n",
      "466448  Thu Jul 09 2015 07:00:00 GMT-0700 2015-07-09 14:00:00+00:00  \n",
      "417949  Thu Jul 09 2015 07:00:00 GMT-0700 2015-07-09 14:00:00+00:00  \n",
      "475608  Thu Jul 09 2015 07:00:00 GMT-0700 2015-07-09 14:00:00+00:00  \n",
      "512359  Thu Jul 09 2015 07:00:00 GMT-0700 2015-07-09 14:00:00+00:00  \n",
      "468762  Thu Jul 09 2015 07:00:00 GMT-0700 2015-07-09 14:00:00+00:00  \n",
      "332510  Thu Jul 09 2015 07:00:00 GMT-0700 2015-07-09 14:00:00+00:00  \n",
      "464906  Thu Jul 09 2015 07:00:00 GMT-0700 2015-07-09 14:00:00+00:00  \n",
      "478870  Thu Jul 09 2015 07:00:00 GMT-0700 2015-07-09 14:00:00+00:00  \n",
      "414173  Thu Jul 09 2015 07:00:00 GMT-0700 2015-07-09 14:00:00+00:00  \n",
      "400280  Thu Jul 09 2015 07:00:00 GMT-0700 2015-07-09 14:00:00+00:00  \n",
      "346021  Thu Jul 09 2015 07:00:00 GMT-0700 2015-07-09 14:00:00+00:00  \n",
      "221376  Thu Jul 09 2015 07:00:00 GMT-0700 2015-07-09 14:00:00+00:00  \n",
      "479707  Thu Jul 09 2015 07:00:00 GMT-0700 2015-07-09 14:00:00+00:00  \n",
      "455430  Thu Jul 09 2015 07:00:00 GMT-0700 2015-07-09 14:00:00+00:00  \n",
      "78832   Thu Jul 09 2015 07:00:00 GMT-0700 2015-07-09 14:00:00+00:00  \n",
      "496906  Thu Jul 09 2015 07:00:00 GMT-0700 2015-07-09 14:00:00+00:00  \n",
      "409409  Thu Jul 09 2015 07:00:00 GMT-0700 2015-07-09 14:00:00+00:00  \n",
      "472845  Thu Jul 09 2015 07:00:00 GMT-0700 2015-07-09 14:00:00+00:00  \n",
      "150568  Thu Jul 09 2015 07:00:00 GMT-0700 2015-07-09 14:00:00+00:00  \n",
      "544111  Thu Jul 09 2015 07:15:00 GMT-0700 2015-07-09 14:15:00+00:00  \n",
      "551991  Thu Jul 09 2015 07:30:00 GMT-0700 2015-07-09 14:30:00+00:00  \n",
      "536383  Thu Jul 09 2015 07:30:00 GMT-0700 2015-07-09 14:30:00+00:00  \n",
      "492948  Thu Jul 09 2015 07:30:00 GMT-0700 2015-07-09 14:30:00+00:00  \n",
      "127360  Thu Jul 09 2015 07:30:00 GMT-0700 2015-07-09 14:30:00+00:00  \n",
      "168985  Thu Jul 09 2015 07:30:00 GMT-0700 2015-07-09 14:30:00+00:00  \n",
      "416758  Thu Jul 09 2015 07:30:00 GMT-0700 2015-07-09 14:30:00+00:00  \n",
      "40616   Thu Jul 09 2015 07:30:00 GMT-0700 2015-07-09 14:30:00+00:00  \n",
      "540050  Thu Jul 09 2015 07:30:00 GMT-0700 2015-07-09 14:30:00+00:00  \n",
      "550211  Thu Jul 09 2015 07:30:00 GMT-0700 2015-07-09 14:30:00+00:00  \n",
      "427067  Thu Jul 09 2015 07:30:00 GMT-0700 2015-07-09 14:30:00+00:00  \n",
      "538212  Thu Jul 09 2015 07:30:00 GMT-0700 2015-07-09 14:30:00+00:00  \n",
      "456803  Thu Jul 09 2015 07:30:00 GMT-0700 2015-07-09 14:30:00+00:00  \n",
      "209395  Thu Jul 09 2015 07:30:00 GMT-0700 2015-07-09 14:30:00+00:00  \n",
      "123635  Thu Jul 09 2015 07:30:00 GMT-0700 2015-07-09 14:30:00+00:00  \n",
      "445242  Thu Jul 09 2015 07:30:00 GMT-0700 2015-07-09 14:30:00+00:00  \n",
      "550974  Thu Jul 09 2015 07:30:00 GMT-0700 2015-07-09 14:30:00+00:00  \n",
      "542864  Thu Jul 09 2015 07:30:00 GMT-0700 2015-07-09 14:30:00+00:00  \n",
      "516947  Thu Jul 09 2015 07:30:00 GMT-0700 2015-07-09 14:30:00+00:00  \n",
      "458417  Thu Jul 09 2015 07:30:00 GMT-0700 2015-07-09 14:30:00+00:00  \n",
      "557575  Thu Jul 09 2015 07:30:00 GMT-0700 2015-07-09 14:30:00+00:00  \n",
      "217419  Thu Jul 09 2015 07:35:00 GMT-0700 2015-07-09 14:35:00+00:00  \n",
      "510318  Thu Jul 09 2015 07:45:00 GMT-0700 2015-07-09 14:45:00+00:00  \n",
      "305435  Thu Jul 09 2015 08:00:00 GMT-0700 2015-07-09 15:00:00+00:00  \n",
      "426218  Thu Jul 09 2015 08:00:00 GMT-0700 2015-07-09 15:00:00+00:00  \n",
      "475247  Thu Jul 09 2015 08:00:00 GMT-0700 2015-07-09 15:00:00+00:00  \n",
      "281715  Thu Jul 09 2015 08:00:00 GMT-0700 2015-07-09 15:00:00+00:00  \n",
      "509649  Thu Jul 09 2015 08:00:00 GMT-0700 2015-07-09 15:00:00+00:00  \n",
      "431077  Thu Jul 09 2015 08:00:00 GMT-0700 2015-07-09 15:00:00+00:00  \n",
      "449933  Thu Jul 09 2015 08:00:00 GMT-0700 2015-07-09 15:00:00+00:00  \n",
      "235164  Thu Jul 09 2015 08:00:00 GMT-0700 2015-07-09 15:00:00+00:00  \n",
      "431030  Thu Jul 09 2015 08:00:00 GMT-0700 2015-07-09 15:00:00+00:00  \n",
      "431114  Thu Jul 09 2015 08:00:00 GMT-0700 2015-07-09 15:00:00+00:00  \n",
      "235536  Thu Jul 09 2015 08:00:00 GMT-0700 2015-07-09 15:00:00+00:00  \n",
      "262567  Thu Jul 09 2015 08:00:00 GMT-0700 2015-07-09 15:00:00+00:00  \n",
      "438776  Thu Jul 09 2015 08:00:00 GMT-0700 2015-07-09 15:00:00+00:00  \n",
      "471744  Thu Jul 09 2015 08:30:00 GMT-0700 2015-07-09 15:30:00+00:00  \n",
      "426780  Thu Jul 09 2015 09:00:00 GMT-0700 2015-07-09 16:00:00+00:00  \n",
      "382391  Thu Jul 09 2015 09:00:00 GMT-0700 2015-07-09 16:00:00+00:00  \n",
      "487812  Thu Jul 09 2015 09:00:00 GMT-0700 2015-07-09 16:00:00+00:00  \n",
      "478582  Thu Jul 09 2015 09:00:00 GMT-0700 2015-07-09 16:00:00+00:00  \n",
      "428044  Thu Jul 09 2015 09:00:00 GMT-0700 2015-07-09 16:00:00+00:00  \n",
      "318917  Thu Jul 09 2015 09:00:00 GMT-0700 2015-07-09 16:00:00+00:00  \n",
      "423917  Thu Jul 09 2015 09:00:00 GMT-0700 2015-07-09 16:00:00+00:00  \n",
      "558826  Thu Jul 09 2015 09:00:00 GMT-0700 2015-07-09 16:00:00+00:00  \n",
      "400422  Thu Jul 09 2015 09:00:00 GMT-0700 2015-07-09 16:00:00+00:00  \n",
      "558804  Thu Jul 09 2015 09:00:00 GMT-0700 2015-07-09 16:00:00+00:00  \n",
      "421344  Thu Jul 09 2015 09:00:00 GMT-0700 2015-07-09 16:00:00+00:00  \n",
      "433669  Thu Jul 09 2015 09:00:00 GMT-0700 2015-07-09 16:00:00+00:00  \n",
      "239460  Thu Jul 09 2015 09:00:00 GMT-0700 2015-07-09 16:00:00+00:00  \n",
      "366809  Thu Jul 09 2015 09:00:00 GMT-0700 2015-07-09 16:00:00+00:00  \n",
      "558796  Thu Jul 09 2015 09:00:00 GMT-0700 2015-07-09 16:00:00+00:00  \n",
      "558763  Thu Jul 09 2015 09:00:00 GMT-0700 2015-07-09 16:00:00+00:00  \n",
      "554255  Thu Jul 09 2015 09:00:00 GMT-0700 2015-07-09 16:00:00+00:00  \n",
      "257863  Thu Jul 09 2015 09:00:00 GMT-0700 2015-07-09 16:00:00+00:00  \n",
      "408857  Thu Jul 09 2015 09:00:00 GMT-0700 2015-07-09 16:00:00+00:00  \n",
      "365361  Thu Jul 09 2015 09:30:00 GMT-0700 2015-07-09 16:30:00+00:00  \n",
      "479888  Thu Jul 09 2015 13:30:00 GMT-0700 2015-07-09 20:30:00+00:00  \n",
      "166137  Thu Jul 09 2015 17:15:00 GMT-0700 2015-07-10 00:15:00+00:00  \n",
      "66531   Thu Jul 09 2015 17:15:00 GMT-0700 2015-07-10 00:15:00+00:00  \n",
      "376929  Fri Jul 10 2015 06:00:00 GMT-0700 2015-07-10 13:00:00+00:00  \n",
      "557705  Fri Jul 10 2015 06:00:00 GMT-0700 2015-07-10 13:00:00+00:00  \n",
      "488876  Tue Jul 14 2015 06:30:00 GMT-0700 2015-07-14 13:30:00+00:00  \n",
      "539285  Tue Jul 14 2015 06:30:00 GMT-0700 2015-07-14 13:30:00+00:00  \n",
      "436247  Tue Jul 14 2015 06:30:00 GMT-0700 2015-07-14 13:30:00+00:00  \n",
      "430367  Tue Jul 14 2015 06:30:00 GMT-0700 2015-07-14 13:30:00+00:00  \n",
      "452474  Tue Jul 14 2015 06:30:00 GMT-0700 2015-07-14 13:30:00+00:00  \n",
      "422714  Tue Jul 14 2015 06:30:00 GMT-0700 2015-07-14 13:30:00+00:00  \n",
      "521830  Tue Jul 14 2015 06:30:00 GMT-0700 2015-07-14 13:30:00+00:00  \n",
      "507186  Tue Jul 14 2015 06:30:00 GMT-0700 2015-07-14 13:30:00+00:00  \n",
      "498175  Tue Jul 14 2015 06:30:00 GMT-0700 2015-07-14 13:30:00+00:00  \n",
      "549556  Tue Jul 14 2015 06:30:00 GMT-0700 2015-07-14 13:30:00+00:00  \n",
      "200268  Tue Jul 21 2015 02:30:00 GMT-0700 2015-07-21 09:30:00+00:00  \n"
     ]
    }
   ],
   "source": [
    "with pd.option_context('display.max_rows', None, 'display.max_columns', None):\n",
    "    print(cleaned2.tail(100))"
   ]
  },
  {
   "cell_type": "code",
   "execution_count": 17,
   "id": "99704bab",
   "metadata": {
    "execution": {
     "iopub.execute_input": "2025-05-29T20:12:32.615489Z",
     "iopub.status.busy": "2025-05-29T20:12:32.615199Z",
     "iopub.status.idle": "2025-05-29T20:12:33.159075Z",
     "shell.execute_reply": "2025-05-29T20:12:33.158117Z"
    },
    "papermill": {
     "duration": 0.559903,
     "end_time": "2025-05-29T20:12:33.161006",
     "exception": false,
     "start_time": "2025-05-29T20:12:32.601103",
     "status": "completed"
    },
    "tags": []
   },
   "outputs": [],
   "source": [
    "cleaned2['year_week_iso'] = cleaned2['saledate_dt'].dt.isocalendar().year.astype(str) + '-' + \\\n",
    "                      cleaned2['saledate_dt'].dt.isocalendar().week.astype(str).str.zfill(2)"
   ]
  },
  {
   "cell_type": "code",
   "execution_count": 18,
   "id": "97c0be4f",
   "metadata": {
    "execution": {
     "iopub.execute_input": "2025-05-29T20:12:33.188683Z",
     "iopub.status.busy": "2025-05-29T20:12:33.188399Z",
     "iopub.status.idle": "2025-05-29T20:12:33.195605Z",
     "shell.execute_reply": "2025-05-29T20:12:33.194443Z"
    },
    "papermill": {
     "duration": 0.022748,
     "end_time": "2025-05-29T20:12:33.197295",
     "exception": false,
     "start_time": "2025-05-29T20:12:33.174547",
     "status": "completed"
    },
    "tags": []
   },
   "outputs": [
    {
     "name": "stdout",
     "output_type": "stream",
     "text": [
      "52310     2014-01\n",
      "67886     2014-01\n",
      "70475     2014-01\n",
      "52753     2014-01\n",
      "69201     2014-01\n",
      "           ...   \n",
      "521830    2015-29\n",
      "507186    2015-29\n",
      "498175    2015-29\n",
      "549556    2015-29\n",
      "200268    2015-30\n",
      "Name: year_week_iso, Length: 472325, dtype: object\n"
     ]
    }
   ],
   "source": [
    "print(cleaned2['year_week_iso'])"
   ]
  },
  {
   "cell_type": "code",
   "execution_count": 19,
   "id": "65f96e12",
   "metadata": {
    "execution": {
     "iopub.execute_input": "2025-05-29T20:12:33.223549Z",
     "iopub.status.busy": "2025-05-29T20:12:33.223262Z",
     "iopub.status.idle": "2025-05-29T20:12:33.323285Z",
     "shell.execute_reply": "2025-05-29T20:12:33.322085Z"
    },
    "papermill": {
     "duration": 0.115329,
     "end_time": "2025-05-29T20:12:33.325252",
     "exception": false,
     "start_time": "2025-05-29T20:12:33.209923",
     "status": "completed"
    },
    "tags": []
   },
   "outputs": [],
   "source": [
    "# Grouping overall sales by week\n",
    "weekly_sales = cleaned2.groupby('year_week_iso').agg(\n",
    "    sales_number = ('vin', 'count')\n",
    ").reset_index()"
   ]
  },
  {
   "cell_type": "code",
   "execution_count": 20,
   "id": "38444de0",
   "metadata": {
    "execution": {
     "iopub.execute_input": "2025-05-29T20:12:33.353134Z",
     "iopub.status.busy": "2025-05-29T20:12:33.352829Z",
     "iopub.status.idle": "2025-05-29T20:12:33.360567Z",
     "shell.execute_reply": "2025-05-29T20:12:33.359124Z"
    },
    "papermill": {
     "duration": 0.023384,
     "end_time": "2025-05-29T20:12:33.362446",
     "exception": false,
     "start_time": "2025-05-29T20:12:33.339062",
     "status": "completed"
    },
    "tags": []
   },
   "outputs": [
    {
     "name": "stdout",
     "output_type": "stream",
     "text": [
      "   year_week_iso  sales_number\n",
      "0        2014-01            60\n",
      "1        2014-02           121\n",
      "2        2014-03             6\n",
      "3        2014-05             1\n",
      "4        2014-07             1\n",
      "5        2014-51         14050\n",
      "6        2014-52          9734\n",
      "7        2015-01         13598\n",
      "8        2015-02         24566\n",
      "9        2015-03         32875\n",
      "10       2015-04         33214\n",
      "11       2015-05         29774\n",
      "12       2015-06         33750\n",
      "13       2015-07         40981\n",
      "14       2015-08         35577\n",
      "15       2015-09         32029\n",
      "16       2015-10         33172\n",
      "17       2015-11          7069\n",
      "18       2015-12           159\n",
      "19       2015-13           144\n",
      "20       2015-14           157\n",
      "21       2015-15           211\n",
      "22       2015-16           229\n",
      "23       2015-17           348\n",
      "24       2015-18           376\n",
      "25       2015-19           570\n",
      "26       2015-20          1099\n",
      "27       2015-21         13089\n",
      "28       2015-22         28847\n",
      "29       2015-23         34860\n",
      "30       2015-24         19066\n",
      "31       2015-25         31057\n",
      "32       2015-26           238\n",
      "33       2015-27           590\n",
      "34       2015-28           696\n",
      "35       2015-29            10\n",
      "36       2015-30             1\n"
     ]
    }
   ],
   "source": [
    "print(weekly_sales)"
   ]
  },
  {
   "cell_type": "code",
   "execution_count": 21,
   "id": "8c50970f",
   "metadata": {
    "execution": {
     "iopub.execute_input": "2025-05-29T20:12:33.392593Z",
     "iopub.status.busy": "2025-05-29T20:12:33.392303Z",
     "iopub.status.idle": "2025-05-29T20:12:33.537883Z",
     "shell.execute_reply": "2025-05-29T20:12:33.536909Z"
    },
    "papermill": {
     "duration": 0.163166,
     "end_time": "2025-05-29T20:12:33.539517",
     "exception": false,
     "start_time": "2025-05-29T20:12:33.376351",
     "status": "completed"
    },
    "tags": []
   },
   "outputs": [],
   "source": [
    "# Grouping sales by brand weekly\n",
    "brand_sales = cleaned2.groupby(['year_week_iso', 'make']).agg(\n",
    "    sales_number = ('vin', 'count')\n",
    ").reset_index()"
   ]
  },
  {
   "cell_type": "code",
   "execution_count": 22,
   "id": "a0c77a04",
   "metadata": {
    "execution": {
     "iopub.execute_input": "2025-05-29T20:12:33.571073Z",
     "iopub.status.busy": "2025-05-29T20:12:33.569513Z",
     "iopub.status.idle": "2025-05-29T20:12:33.581738Z",
     "shell.execute_reply": "2025-05-29T20:12:33.580794Z"
    },
    "papermill": {
     "duration": 0.029389,
     "end_time": "2025-05-29T20:12:33.583315",
     "exception": false,
     "start_time": "2025-05-29T20:12:33.553926",
     "status": "completed"
    },
    "tags": []
   },
   "outputs": [
    {
     "data": {
      "text/html": [
       "<div>\n",
       "<style scoped>\n",
       "    .dataframe tbody tr th:only-of-type {\n",
       "        vertical-align: middle;\n",
       "    }\n",
       "\n",
       "    .dataframe tbody tr th {\n",
       "        vertical-align: top;\n",
       "    }\n",
       "\n",
       "    .dataframe thead th {\n",
       "        text-align: right;\n",
       "    }\n",
       "</style>\n",
       "<table border=\"1\" class=\"dataframe\">\n",
       "  <thead>\n",
       "    <tr style=\"text-align: right;\">\n",
       "      <th></th>\n",
       "      <th>year_week_iso</th>\n",
       "      <th>make</th>\n",
       "      <th>sales_number</th>\n",
       "    </tr>\n",
       "  </thead>\n",
       "  <tbody>\n",
       "    <tr>\n",
       "      <th>0</th>\n",
       "      <td>2014-01</td>\n",
       "      <td>Acura</td>\n",
       "      <td>1</td>\n",
       "    </tr>\n",
       "    <tr>\n",
       "      <th>1</th>\n",
       "      <td>2014-01</td>\n",
       "      <td>BMW</td>\n",
       "      <td>1</td>\n",
       "    </tr>\n",
       "    <tr>\n",
       "      <th>2</th>\n",
       "      <td>2014-01</td>\n",
       "      <td>Buick</td>\n",
       "      <td>1</td>\n",
       "    </tr>\n",
       "    <tr>\n",
       "      <th>3</th>\n",
       "      <td>2014-01</td>\n",
       "      <td>Cadillac</td>\n",
       "      <td>2</td>\n",
       "    </tr>\n",
       "    <tr>\n",
       "      <th>4</th>\n",
       "      <td>2014-01</td>\n",
       "      <td>Chevrolet</td>\n",
       "      <td>11</td>\n",
       "    </tr>\n",
       "    <tr>\n",
       "      <th>...</th>\n",
       "      <td>...</td>\n",
       "      <td>...</td>\n",
       "      <td>...</td>\n",
       "    </tr>\n",
       "    <tr>\n",
       "      <th>1268</th>\n",
       "      <td>2015-29</td>\n",
       "      <td>Chevrolet</td>\n",
       "      <td>2</td>\n",
       "    </tr>\n",
       "    <tr>\n",
       "      <th>1269</th>\n",
       "      <td>2015-29</td>\n",
       "      <td>Ford</td>\n",
       "      <td>2</td>\n",
       "    </tr>\n",
       "    <tr>\n",
       "      <th>1270</th>\n",
       "      <td>2015-29</td>\n",
       "      <td>Ram</td>\n",
       "      <td>4</td>\n",
       "    </tr>\n",
       "    <tr>\n",
       "      <th>1271</th>\n",
       "      <td>2015-29</td>\n",
       "      <td>Toyota</td>\n",
       "      <td>2</td>\n",
       "    </tr>\n",
       "    <tr>\n",
       "      <th>1272</th>\n",
       "      <td>2015-30</td>\n",
       "      <td>Chevrolet</td>\n",
       "      <td>1</td>\n",
       "    </tr>\n",
       "  </tbody>\n",
       "</table>\n",
       "<p>1273 rows × 3 columns</p>\n",
       "</div>"
      ],
      "text/plain": [
       "     year_week_iso       make  sales_number\n",
       "0          2014-01      Acura             1\n",
       "1          2014-01        BMW             1\n",
       "2          2014-01      Buick             1\n",
       "3          2014-01   Cadillac             2\n",
       "4          2014-01  Chevrolet            11\n",
       "...            ...        ...           ...\n",
       "1268       2015-29  Chevrolet             2\n",
       "1269       2015-29       Ford             2\n",
       "1270       2015-29        Ram             4\n",
       "1271       2015-29     Toyota             2\n",
       "1272       2015-30  Chevrolet             1\n",
       "\n",
       "[1273 rows x 3 columns]"
      ]
     },
     "execution_count": 22,
     "metadata": {},
     "output_type": "execute_result"
    }
   ],
   "source": [
    "brand_sales"
   ]
  },
  {
   "cell_type": "code",
   "execution_count": 23,
   "id": "9aadc622",
   "metadata": {
    "execution": {
     "iopub.execute_input": "2025-05-29T20:12:33.610837Z",
     "iopub.status.busy": "2025-05-29T20:12:33.610410Z",
     "iopub.status.idle": "2025-05-29T20:12:33.617339Z",
     "shell.execute_reply": "2025-05-29T20:12:33.616046Z"
    },
    "papermill": {
     "duration": 0.022754,
     "end_time": "2025-05-29T20:12:33.619075",
     "exception": false,
     "start_time": "2025-05-29T20:12:33.596321",
     "status": "completed"
    },
    "tags": []
   },
   "outputs": [
    {
     "data": {
      "text/plain": [
       "472325"
      ]
     },
     "execution_count": 23,
     "metadata": {},
     "output_type": "execute_result"
    }
   ],
   "source": [
    "brand_sales['sales_number'].sum()"
   ]
  },
  {
   "cell_type": "code",
   "execution_count": 24,
   "id": "a228cbaf",
   "metadata": {
    "execution": {
     "iopub.execute_input": "2025-05-29T20:12:33.648080Z",
     "iopub.status.busy": "2025-05-29T20:12:33.647670Z",
     "iopub.status.idle": "2025-05-29T20:12:33.718881Z",
     "shell.execute_reply": "2025-05-29T20:12:33.717937Z"
    },
    "papermill": {
     "duration": 0.087083,
     "end_time": "2025-05-29T20:12:33.720539",
     "exception": false,
     "start_time": "2025-05-29T20:12:33.633456",
     "status": "completed"
    },
    "tags": []
   },
   "outputs": [],
   "source": [
    "# Grouping overall sales by daily\n",
    "daily_sales = cleaned2.groupby('saledate_dt').agg(\n",
    "    sales_number = ('vin', 'count')\n",
    ").reset_index()\n",
    "daily_sales.columns = ['date', 'sales']"
   ]
  },
  {
   "cell_type": "code",
   "execution_count": 25,
   "id": "459b25d4",
   "metadata": {
    "execution": {
     "iopub.execute_input": "2025-05-29T20:12:33.749408Z",
     "iopub.status.busy": "2025-05-29T20:12:33.749083Z",
     "iopub.status.idle": "2025-05-29T20:12:33.770128Z",
     "shell.execute_reply": "2025-05-29T20:12:33.769189Z"
    },
    "papermill": {
     "duration": 0.038287,
     "end_time": "2025-05-29T20:12:33.771683",
     "exception": false,
     "start_time": "2025-05-29T20:12:33.733396",
     "status": "completed"
    },
    "tags": []
   },
   "outputs": [],
   "source": [
    "# Daily aggregate\n",
    "cleaned_indexed = daily_sales.set_index('date')\n",
    "\n",
    "daily_agg = cleaned_indexed['sales'].resample('D').sum()\n",
    "daily_agg = daily_agg.fillna(0)"
   ]
  },
  {
   "cell_type": "code",
   "execution_count": 26,
   "id": "2a4e0460",
   "metadata": {
    "execution": {
     "iopub.execute_input": "2025-05-29T20:12:33.800259Z",
     "iopub.status.busy": "2025-05-29T20:12:33.799817Z",
     "iopub.status.idle": "2025-05-29T20:12:33.805762Z",
     "shell.execute_reply": "2025-05-29T20:12:33.804895Z"
    },
    "papermill": {
     "duration": 0.021894,
     "end_time": "2025-05-29T20:12:33.807181",
     "exception": false,
     "start_time": "2025-05-29T20:12:33.785287",
     "status": "completed"
    },
    "tags": []
   },
   "outputs": [
    {
     "data": {
      "text/plain": [
       "(567,)"
      ]
     },
     "execution_count": 26,
     "metadata": {},
     "output_type": "execute_result"
    }
   ],
   "source": [
    "daily_agg.shape"
   ]
  },
  {
   "cell_type": "code",
   "execution_count": 27,
   "id": "2918a53f",
   "metadata": {
    "execution": {
     "iopub.execute_input": "2025-05-29T20:12:33.835224Z",
     "iopub.status.busy": "2025-05-29T20:12:33.834258Z",
     "iopub.status.idle": "2025-05-29T20:12:33.848088Z",
     "shell.execute_reply": "2025-05-29T20:12:33.847116Z"
    },
    "papermill": {
     "duration": 0.029307,
     "end_time": "2025-05-29T20:12:33.849578",
     "exception": false,
     "start_time": "2025-05-29T20:12:33.820271",
     "status": "completed"
    },
    "tags": []
   },
   "outputs": [
    {
     "data": {
      "text/html": [
       "<div>\n",
       "<style scoped>\n",
       "    .dataframe tbody tr th:only-of-type {\n",
       "        vertical-align: middle;\n",
       "    }\n",
       "\n",
       "    .dataframe tbody tr th {\n",
       "        vertical-align: top;\n",
       "    }\n",
       "\n",
       "    .dataframe thead th {\n",
       "        text-align: right;\n",
       "    }\n",
       "</style>\n",
       "<table border=\"1\" class=\"dataframe\">\n",
       "  <thead>\n",
       "    <tr style=\"text-align: right;\">\n",
       "      <th></th>\n",
       "      <th>date</th>\n",
       "      <th>sales</th>\n",
       "    </tr>\n",
       "  </thead>\n",
       "  <tbody>\n",
       "    <tr>\n",
       "      <th>0</th>\n",
       "      <td>2014-01-01 00:00:00+00:00</td>\n",
       "      <td>48</td>\n",
       "    </tr>\n",
       "    <tr>\n",
       "      <th>1</th>\n",
       "      <td>2014-01-02 00:00:00+00:00</td>\n",
       "      <td>10</td>\n",
       "    </tr>\n",
       "    <tr>\n",
       "      <th>2</th>\n",
       "      <td>2014-01-05 00:00:00+00:00</td>\n",
       "      <td>2</td>\n",
       "    </tr>\n",
       "    <tr>\n",
       "      <th>3</th>\n",
       "      <td>2014-01-06 00:00:00+00:00</td>\n",
       "      <td>45</td>\n",
       "    </tr>\n",
       "    <tr>\n",
       "      <th>4</th>\n",
       "      <td>2014-01-07 00:00:00+00:00</td>\n",
       "      <td>40</td>\n",
       "    </tr>\n",
       "    <tr>\n",
       "      <th>5</th>\n",
       "      <td>2014-01-08 00:00:00+00:00</td>\n",
       "      <td>15</td>\n",
       "    </tr>\n",
       "    <tr>\n",
       "      <th>6</th>\n",
       "      <td>2014-01-12 00:00:00+00:00</td>\n",
       "      <td>21</td>\n",
       "    </tr>\n",
       "    <tr>\n",
       "      <th>7</th>\n",
       "      <td>2014-01-13 00:00:00+00:00</td>\n",
       "      <td>3</td>\n",
       "    </tr>\n",
       "    <tr>\n",
       "      <th>8</th>\n",
       "      <td>2014-01-14 00:00:00+00:00</td>\n",
       "      <td>2</td>\n",
       "    </tr>\n",
       "    <tr>\n",
       "      <th>9</th>\n",
       "      <td>2014-01-15 00:00:00+00:00</td>\n",
       "      <td>1</td>\n",
       "    </tr>\n",
       "    <tr>\n",
       "      <th>10</th>\n",
       "      <td>2014-01-29 00:00:00+00:00</td>\n",
       "      <td>1</td>\n",
       "    </tr>\n",
       "    <tr>\n",
       "      <th>11</th>\n",
       "      <td>2014-02-14 00:00:00+00:00</td>\n",
       "      <td>1</td>\n",
       "    </tr>\n",
       "    <tr>\n",
       "      <th>12</th>\n",
       "      <td>2014-12-16 00:00:00+00:00</td>\n",
       "      <td>1350</td>\n",
       "    </tr>\n",
       "    <tr>\n",
       "      <th>13</th>\n",
       "      <td>2014-12-17 00:00:00+00:00</td>\n",
       "      <td>2030</td>\n",
       "    </tr>\n",
       "    <tr>\n",
       "      <th>14</th>\n",
       "      <td>2014-12-18 00:00:00+00:00</td>\n",
       "      <td>8920</td>\n",
       "    </tr>\n",
       "    <tr>\n",
       "      <th>15</th>\n",
       "      <td>2014-12-19 00:00:00+00:00</td>\n",
       "      <td>1750</td>\n",
       "    </tr>\n",
       "    <tr>\n",
       "      <th>16</th>\n",
       "      <td>2014-12-22 00:00:00+00:00</td>\n",
       "      <td>1188</td>\n",
       "    </tr>\n",
       "    <tr>\n",
       "      <th>17</th>\n",
       "      <td>2014-12-23 00:00:00+00:00</td>\n",
       "      <td>8193</td>\n",
       "    </tr>\n",
       "    <tr>\n",
       "      <th>18</th>\n",
       "      <td>2014-12-24 00:00:00+00:00</td>\n",
       "      <td>181</td>\n",
       "    </tr>\n",
       "    <tr>\n",
       "      <th>19</th>\n",
       "      <td>2014-12-26 00:00:00+00:00</td>\n",
       "      <td>172</td>\n",
       "    </tr>\n",
       "    <tr>\n",
       "      <th>20</th>\n",
       "      <td>2014-12-29 00:00:00+00:00</td>\n",
       "      <td>517</td>\n",
       "    </tr>\n",
       "    <tr>\n",
       "      <th>21</th>\n",
       "      <td>2014-12-30 00:00:00+00:00</td>\n",
       "      <td>6783</td>\n",
       "    </tr>\n",
       "    <tr>\n",
       "      <th>22</th>\n",
       "      <td>2014-12-31 00:00:00+00:00</td>\n",
       "      <td>5514</td>\n",
       "    </tr>\n",
       "    <tr>\n",
       "      <th>23</th>\n",
       "      <td>2015-01-01 00:00:00+00:00</td>\n",
       "      <td>11</td>\n",
       "    </tr>\n",
       "    <tr>\n",
       "      <th>24</th>\n",
       "      <td>2015-01-02 00:00:00+00:00</td>\n",
       "      <td>773</td>\n",
       "    </tr>\n",
       "    <tr>\n",
       "      <th>25</th>\n",
       "      <td>2015-01-05 00:00:00+00:00</td>\n",
       "      <td>733</td>\n",
       "    </tr>\n",
       "    <tr>\n",
       "      <th>26</th>\n",
       "      <td>2015-01-06 00:00:00+00:00</td>\n",
       "      <td>6318</td>\n",
       "    </tr>\n",
       "    <tr>\n",
       "      <th>27</th>\n",
       "      <td>2015-01-07 00:00:00+00:00</td>\n",
       "      <td>8180</td>\n",
       "    </tr>\n",
       "    <tr>\n",
       "      <th>28</th>\n",
       "      <td>2015-01-08 00:00:00+00:00</td>\n",
       "      <td>7414</td>\n",
       "    </tr>\n",
       "    <tr>\n",
       "      <th>29</th>\n",
       "      <td>2015-01-09 00:00:00+00:00</td>\n",
       "      <td>1921</td>\n",
       "    </tr>\n",
       "  </tbody>\n",
       "</table>\n",
       "</div>"
      ],
      "text/plain": [
       "                        date  sales\n",
       "0  2014-01-01 00:00:00+00:00     48\n",
       "1  2014-01-02 00:00:00+00:00     10\n",
       "2  2014-01-05 00:00:00+00:00      2\n",
       "3  2014-01-06 00:00:00+00:00     45\n",
       "4  2014-01-07 00:00:00+00:00     40\n",
       "5  2014-01-08 00:00:00+00:00     15\n",
       "6  2014-01-12 00:00:00+00:00     21\n",
       "7  2014-01-13 00:00:00+00:00      3\n",
       "8  2014-01-14 00:00:00+00:00      2\n",
       "9  2014-01-15 00:00:00+00:00      1\n",
       "10 2014-01-29 00:00:00+00:00      1\n",
       "11 2014-02-14 00:00:00+00:00      1\n",
       "12 2014-12-16 00:00:00+00:00   1350\n",
       "13 2014-12-17 00:00:00+00:00   2030\n",
       "14 2014-12-18 00:00:00+00:00   8920\n",
       "15 2014-12-19 00:00:00+00:00   1750\n",
       "16 2014-12-22 00:00:00+00:00   1188\n",
       "17 2014-12-23 00:00:00+00:00   8193\n",
       "18 2014-12-24 00:00:00+00:00    181\n",
       "19 2014-12-26 00:00:00+00:00    172\n",
       "20 2014-12-29 00:00:00+00:00    517\n",
       "21 2014-12-30 00:00:00+00:00   6783\n",
       "22 2014-12-31 00:00:00+00:00   5514\n",
       "23 2015-01-01 00:00:00+00:00     11\n",
       "24 2015-01-02 00:00:00+00:00    773\n",
       "25 2015-01-05 00:00:00+00:00    733\n",
       "26 2015-01-06 00:00:00+00:00   6318\n",
       "27 2015-01-07 00:00:00+00:00   8180\n",
       "28 2015-01-08 00:00:00+00:00   7414\n",
       "29 2015-01-09 00:00:00+00:00   1921"
      ]
     },
     "execution_count": 27,
     "metadata": {},
     "output_type": "execute_result"
    }
   ],
   "source": [
    "daily = daily_agg.reset_index()\n",
    "daily = daily[(daily[['sales']] != 0).all(axis=1)].reset_index(drop = True)\n",
    "daily.head(30)"
   ]
  },
  {
   "cell_type": "code",
   "execution_count": 28,
   "id": "25ff3dcc",
   "metadata": {
    "execution": {
     "iopub.execute_input": "2025-05-29T20:12:33.878034Z",
     "iopub.status.busy": "2025-05-29T20:12:33.877584Z",
     "iopub.status.idle": "2025-05-29T20:12:33.892111Z",
     "shell.execute_reply": "2025-05-29T20:12:33.891186Z"
    },
    "papermill": {
     "duration": 0.030583,
     "end_time": "2025-05-29T20:12:33.894069",
     "exception": false,
     "start_time": "2025-05-29T20:12:33.863486",
     "status": "completed"
    },
    "tags": []
   },
   "outputs": [
    {
     "data": {
      "text/html": [
       "<div>\n",
       "<style scoped>\n",
       "    .dataframe tbody tr th:only-of-type {\n",
       "        vertical-align: middle;\n",
       "    }\n",
       "\n",
       "    .dataframe tbody tr th {\n",
       "        vertical-align: top;\n",
       "    }\n",
       "\n",
       "    .dataframe thead th {\n",
       "        text-align: right;\n",
       "    }\n",
       "</style>\n",
       "<table border=\"1\" class=\"dataframe\">\n",
       "  <thead>\n",
       "    <tr style=\"text-align: right;\">\n",
       "      <th></th>\n",
       "      <th>date</th>\n",
       "      <th>sales</th>\n",
       "    </tr>\n",
       "  </thead>\n",
       "  <tbody>\n",
       "    <tr>\n",
       "      <th>0</th>\n",
       "      <td>2014-12-16 00:00:00+00:00</td>\n",
       "      <td>1350</td>\n",
       "    </tr>\n",
       "    <tr>\n",
       "      <th>1</th>\n",
       "      <td>2014-12-17 00:00:00+00:00</td>\n",
       "      <td>2030</td>\n",
       "    </tr>\n",
       "    <tr>\n",
       "      <th>2</th>\n",
       "      <td>2014-12-18 00:00:00+00:00</td>\n",
       "      <td>8920</td>\n",
       "    </tr>\n",
       "    <tr>\n",
       "      <th>3</th>\n",
       "      <td>2014-12-19 00:00:00+00:00</td>\n",
       "      <td>1750</td>\n",
       "    </tr>\n",
       "    <tr>\n",
       "      <th>4</th>\n",
       "      <td>2014-12-22 00:00:00+00:00</td>\n",
       "      <td>1188</td>\n",
       "    </tr>\n",
       "  </tbody>\n",
       "</table>\n",
       "</div>"
      ],
      "text/plain": [
       "                       date  sales\n",
       "0 2014-12-16 00:00:00+00:00   1350\n",
       "1 2014-12-17 00:00:00+00:00   2030\n",
       "2 2014-12-18 00:00:00+00:00   8920\n",
       "3 2014-12-19 00:00:00+00:00   1750\n",
       "4 2014-12-22 00:00:00+00:00   1188"
      ]
     },
     "execution_count": 28,
     "metadata": {},
     "output_type": "execute_result"
    }
   ],
   "source": [
    "daily2 = daily.iloc[12:,:].reset_index(drop = True)\n",
    "daily2.head()"
   ]
  },
  {
   "cell_type": "markdown",
   "id": "46e11f0d",
   "metadata": {
    "papermill": {
     "duration": 0.013787,
     "end_time": "2025-05-29T20:12:33.921805",
     "exception": false,
     "start_time": "2025-05-29T20:12:33.908018",
     "status": "completed"
    },
    "tags": []
   },
   "source": [
    "## ARIMA Modeling"
   ]
  },
  {
   "cell_type": "code",
   "execution_count": 29,
   "id": "7eeca8ca",
   "metadata": {
    "execution": {
     "iopub.execute_input": "2025-05-29T20:12:33.950838Z",
     "iopub.status.busy": "2025-05-29T20:12:33.950502Z",
     "iopub.status.idle": "2025-05-29T20:12:36.767564Z",
     "shell.execute_reply": "2025-05-29T20:12:36.766115Z"
    },
    "papermill": {
     "duration": 2.835535,
     "end_time": "2025-05-29T20:12:36.771098",
     "exception": false,
     "start_time": "2025-05-29T20:12:33.935563",
     "status": "completed"
    },
    "tags": []
   },
   "outputs": [],
   "source": [
    "import pandas as pd\n",
    "import numpy as np\n",
    "import matplotlib.pyplot as plt\n",
    "import seaborn as sns\n",
    "\n",
    "from scipy.stats import boxcox\n",
    "from statsmodels.tsa.stattools import adfuller\n",
    "from statsmodels.graphics.tsaplots import plot_acf, plot_pacf\n",
    "from statsmodels.tsa.arima.model import ARIMA\n",
    "from statsmodels.tools.eval_measures import aic"
   ]
  },
  {
   "cell_type": "code",
   "execution_count": 30,
   "id": "62e015e1",
   "metadata": {
    "execution": {
     "iopub.execute_input": "2025-05-29T20:12:36.805503Z",
     "iopub.status.busy": "2025-05-29T20:12:36.805062Z",
     "iopub.status.idle": "2025-05-29T20:12:36.810528Z",
     "shell.execute_reply": "2025-05-29T20:12:36.809497Z"
    },
    "papermill": {
     "duration": 0.022628,
     "end_time": "2025-05-29T20:12:36.812301",
     "exception": false,
     "start_time": "2025-05-29T20:12:36.789673",
     "status": "completed"
    },
    "tags": []
   },
   "outputs": [],
   "source": [
    "# Filtering the data\n",
    "daily_agg2 = daily_agg[349:556]"
   ]
  },
  {
   "cell_type": "code",
   "execution_count": 31,
   "id": "d11fe3e5",
   "metadata": {
    "execution": {
     "iopub.execute_input": "2025-05-29T20:12:36.843007Z",
     "iopub.status.busy": "2025-05-29T20:12:36.842653Z",
     "iopub.status.idle": "2025-05-29T20:12:36.850610Z",
     "shell.execute_reply": "2025-05-29T20:12:36.849492Z"
    },
    "papermill": {
     "duration": 0.025321,
     "end_time": "2025-05-29T20:12:36.852424",
     "exception": false,
     "start_time": "2025-05-29T20:12:36.827103",
     "status": "completed"
    },
    "tags": []
   },
   "outputs": [
    {
     "name": "stdout",
     "output_type": "stream",
     "text": [
      "date\n",
      "2014-12-16 00:00:00+00:00    1350\n",
      "2014-12-17 00:00:00+00:00    2030\n",
      "2014-12-18 00:00:00+00:00    8920\n",
      "2014-12-19 00:00:00+00:00    1750\n",
      "2014-12-20 00:00:00+00:00       0\n",
      "                             ... \n",
      "2015-07-06 00:00:00+00:00      18\n",
      "2015-07-07 00:00:00+00:00     325\n",
      "2015-07-08 00:00:00+00:00     220\n",
      "2015-07-09 00:00:00+00:00     129\n",
      "2015-07-10 00:00:00+00:00       4\n",
      "Freq: D, Name: sales, Length: 207, dtype: int64\n",
      "(207,)\n"
     ]
    }
   ],
   "source": [
    "daily3 = daily_agg2.asfreq('D')\n",
    "print(daily3)\n",
    "print(daily3.shape)"
   ]
  },
  {
   "cell_type": "code",
   "execution_count": 32,
   "id": "470c6a38",
   "metadata": {
    "execution": {
     "iopub.execute_input": "2025-05-29T20:12:36.880687Z",
     "iopub.status.busy": "2025-05-29T20:12:36.880384Z",
     "iopub.status.idle": "2025-05-29T20:12:37.214771Z",
     "shell.execute_reply": "2025-05-29T20:12:37.213644Z"
    },
    "papermill": {
     "duration": 0.35065,
     "end_time": "2025-05-29T20:12:37.216507",
     "exception": false,
     "start_time": "2025-05-29T20:12:36.865857",
     "status": "completed"
    },
    "tags": []
   },
   "outputs": [
    {
     "data": {
      "image/png": "[encoded data removed]",
      "text/plain": [
       "<Figure size 1000x400 with 1 Axes>"
      ]
     },
     "metadata": {},
     "output_type": "display_data"
    }
   ],
   "source": [
    "import matplotlib.pyplot as plt\n",
    "\n",
    "plt.figure(figsize=(10, 4))\n",
    "plt.plot(daily3)\n",
    "plt.title('Sales Plot')\n",
    "plt.show()"
   ]
  },
  {
   "cell_type": "markdown",
   "id": "cfd35843",
   "metadata": {
    "papermill": {
     "duration": 0.014498,
     "end_time": "2025-05-29T20:12:37.246351",
     "exception": false,
     "start_time": "2025-05-29T20:12:37.231853",
     "status": "completed"
    },
    "tags": []
   },
   "source": [
    "### Stationarity Checking"
   ]
  },
  {
   "cell_type": "code",
   "execution_count": 33,
   "id": "3c9f7be7",
   "metadata": {
    "execution": {
     "iopub.execute_input": "2025-05-29T20:12:37.277493Z",
     "iopub.status.busy": "2025-05-29T20:12:37.277221Z",
     "iopub.status.idle": "2025-05-29T20:12:37.504796Z",
     "shell.execute_reply": "2025-05-29T20:12:37.503742Z"
    },
    "papermill": {
     "duration": 0.245084,
     "end_time": "2025-05-29T20:12:37.506639",
     "exception": false,
     "start_time": "2025-05-29T20:12:37.261555",
     "status": "completed"
    },
    "tags": []
   },
   "outputs": [
    {
     "data": {
      "image/png": "[encoded data removed]",
      "text/plain": [
       "<Figure size 1000x400 with 1 Axes>"
      ]
     },
     "metadata": {},
     "output_type": "display_data"
    }
   ],
   "source": [
    "# Boxcox Transformation\n",
    "daily3_nonzero = daily3 + 1e-3  # Avoid log(0) issues\n",
    "sales_boxcox, fitted_lambda = boxcox(daily3_nonzero)\n",
    "\n",
    "plt.figure(figsize=(10, 4))\n",
    "plt.plot(sales_boxcox)\n",
    "plt.title(f'Box-Cox Transformed Series (λ={fitted_lambda:.2f})')\n",
    "plt.show()"
   ]
  },
  {
   "cell_type": "code",
   "execution_count": 34,
   "id": "3ff6d3c4",
   "metadata": {
    "execution": {
     "iopub.execute_input": "2025-05-29T20:12:37.541258Z",
     "iopub.status.busy": "2025-05-29T20:12:37.540890Z",
     "iopub.status.idle": "2025-05-29T20:12:37.590363Z",
     "shell.execute_reply": "2025-05-29T20:12:37.589353Z"
    },
    "papermill": {
     "duration": 0.068597,
     "end_time": "2025-05-29T20:12:37.592045",
     "exception": false,
     "start_time": "2025-05-29T20:12:37.523448",
     "status": "completed"
    },
    "tags": []
   },
   "outputs": [
    {
     "name": "stdout",
     "output_type": "stream",
     "text": [
      "ADF Statistic: -2.002084278404974\n",
      "p-value: 0.2856599641798259\n",
      "Not stationary\n"
     ]
    }
   ],
   "source": [
    "# ADF Test\n",
    "adfresult = adfuller(sales_boxcox)\n",
    "print('ADF Statistic:', adfresult[0])\n",
    "print('p-value:', adfresult[1])\n",
    "\n",
    "if adfresult[1] < 0.05:\n",
    "    print(\"Stationary\")\n",
    "else:\n",
    "    print(\"Not stationary\")"
   ]
  },
  {
   "cell_type": "code",
   "execution_count": 35,
   "id": "103ec2d4",
   "metadata": {
    "execution": {
     "iopub.execute_input": "2025-05-29T20:12:37.627311Z",
     "iopub.status.busy": "2025-05-29T20:12:37.627018Z",
     "iopub.status.idle": "2025-05-29T20:12:37.817791Z",
     "shell.execute_reply": "2025-05-29T20:12:37.815942Z"
    },
    "papermill": {
     "duration": 0.210552,
     "end_time": "2025-05-29T20:12:37.819431",
     "exception": false,
     "start_time": "2025-05-29T20:12:37.608879",
     "status": "completed"
    },
    "tags": []
   },
   "outputs": [
    {
     "data": {
      "image/png": "[encoded data removed]",
      "text/plain": [
       "<Figure size 1000x400 with 1 Axes>"
      ]
     },
     "metadata": {},
     "output_type": "display_data"
    },
    {
     "name": "stdout",
     "output_type": "stream",
     "text": [
      "ADF after differencing: -6.564199879848627\n",
      "p-value: 8.236882232510096e-09\n",
      "Stationary\n"
     ]
    }
   ],
   "source": [
    "sales_boxcox_diff = np.diff(sales_boxcox, n=1)\n",
    "\n",
    "plt.figure(figsize=(10, 4))\n",
    "plt.plot(sales_boxcox_diff)\n",
    "plt.title('Differenced Series')\n",
    "plt.show()\n",
    "\n",
    "# Re-check ADF\n",
    "result_diff = adfuller(sales_boxcox_diff)\n",
    "print('ADF after differencing:', result_diff[0])\n",
    "print('p-value:', result_diff[1])\n",
    "\n",
    "if result_diff[1] < 0.05:\n",
    "    print(\"Stationary\")\n",
    "else:\n",
    "    print(\"Not stationary\")"
   ]
  },
  {
   "cell_type": "markdown",
   "id": "4ebe5dd8",
   "metadata": {
    "papermill": {
     "duration": 0.018827,
     "end_time": "2025-05-29T20:12:37.859127",
     "exception": false,
     "start_time": "2025-05-29T20:12:37.840300",
     "status": "completed"
    },
    "tags": []
   },
   "source": [
    "### ACF and PACF"
   ]
  },
  {
   "cell_type": "code",
   "execution_count": 36,
   "id": "64b0a87b",
   "metadata": {
    "execution": {
     "iopub.execute_input": "2025-05-29T20:12:37.897104Z",
     "iopub.status.busy": "2025-05-29T20:12:37.896808Z",
     "iopub.status.idle": "2025-05-29T20:12:38.299174Z",
     "shell.execute_reply": "2025-05-29T20:12:38.298117Z"
    },
    "papermill": {
     "duration": 0.423434,
     "end_time": "2025-05-29T20:12:38.300942",
     "exception": false,
     "start_time": "2025-05-29T20:12:37.877508",
     "status": "completed"
    },
    "tags": []
   },
   "outputs": [
    {
     "data": {
      "image/png": "[encoded data removed]",
      "text/plain": [
       "<Figure size 1400x400 with 2 Axes>"
      ]
     },
     "metadata": {},
     "output_type": "display_data"
    }
   ],
   "source": [
    "fig, ax = plt.subplots(1, 2, figsize=(14, 4))\n",
    "plot_acf(sales_boxcox_diff, ax=ax[0], lags=40)\n",
    "plot_pacf(sales_boxcox_diff, ax=ax[1], lags=40)\n",
    "plt.show()"
   ]
  },
  {
   "cell_type": "markdown",
   "id": "c5333d84",
   "metadata": {
    "papermill": {
     "duration": 0.018227,
     "end_time": "2025-05-29T20:12:38.338582",
     "exception": false,
     "start_time": "2025-05-29T20:12:38.320355",
     "status": "completed"
    },
    "tags": []
   },
   "source": [
    "### Fit Model"
   ]
  },
  {
   "cell_type": "code",
   "execution_count": 37,
   "id": "eb42a3b4",
   "metadata": {
    "execution": {
     "iopub.execute_input": "2025-05-29T20:12:38.377849Z",
     "iopub.status.busy": "2025-05-29T20:12:38.377475Z",
     "iopub.status.idle": "2025-05-29T20:12:44.510261Z",
     "shell.execute_reply": "2025-05-29T20:12:44.509120Z"
    },
    "papermill": {
     "duration": 6.15564,
     "end_time": "2025-05-29T20:12:44.512776",
     "exception": false,
     "start_time": "2025-05-29T20:12:38.357136",
     "status": "completed"
    },
    "tags": []
   },
   "outputs": [
    {
     "name": "stdout",
     "output_type": "stream",
     "text": [
      "\u001b[2K   \u001b[90m━━━━━━━━━━━━━━━━━━━━━━━━━━━━━━━━━━━━━━━━\u001b[0m \u001b[32m2.2/2.2 MB\u001b[0m \u001b[31m50.6 MB/s\u001b[0m eta \u001b[36m0:00:00\u001b[0m\r\n",
      "\u001b[?25hNote: you may need to restart the kernel to use updated packages.\n"
     ]
    }
   ],
   "source": [
    "pip install -q pmdarima"
   ]
  },
  {
   "cell_type": "code",
   "execution_count": 38,
   "id": "e0e8893f",
   "metadata": {
    "execution": {
     "iopub.execute_input": "2025-05-29T20:12:44.553586Z",
     "iopub.status.busy": "2025-05-29T20:12:44.552596Z",
     "iopub.status.idle": "2025-05-29T20:12:56.694030Z",
     "shell.execute_reply": "2025-05-29T20:12:56.692795Z"
    },
    "papermill": {
     "duration": 12.165189,
     "end_time": "2025-05-29T20:12:56.696969",
     "exception": false,
     "start_time": "2025-05-29T20:12:44.531780",
     "status": "completed"
    },
    "tags": []
   },
   "outputs": [
    {
     "name": "stdout",
     "output_type": "stream",
     "text": [
      "Performing stepwise search to minimize aic\n",
      " ARIMA(1,1,1)(1,1,1)[7]             : AIC=937.111, Time=0.53 sec\n",
      " ARIMA(0,1,0)(0,1,0)[7]             : AIC=1021.217, Time=0.03 sec\n",
      " ARIMA(1,1,0)(1,1,0)[7]             : AIC=994.865, Time=0.07 sec\n",
      " ARIMA(0,1,1)(0,1,1)[7]             : AIC=965.178, Time=0.10 sec\n",
      " ARIMA(1,1,1)(0,1,1)[7]             : AIC=946.494, Time=0.22 sec\n",
      " ARIMA(1,1,1)(1,1,0)[7]             : AIC=inf, Time=0.49 sec\n",
      " ARIMA(1,1,1)(2,1,1)[7]             : AIC=939.105, Time=1.04 sec\n",
      " ARIMA(1,1,1)(1,1,2)[7]             : AIC=939.100, Time=0.88 sec\n",
      " ARIMA(1,1,1)(0,1,0)[7]             : AIC=inf, Time=0.33 sec\n",
      " ARIMA(1,1,1)(0,1,2)[7]             : AIC=938.608, Time=0.47 sec\n",
      " ARIMA(1,1,1)(2,1,0)[7]             : AIC=947.566, Time=0.34 sec\n",
      " ARIMA(1,1,1)(2,1,2)[7]             : AIC=940.011, Time=0.97 sec\n",
      " ARIMA(0,1,1)(1,1,1)[7]             : AIC=955.433, Time=0.29 sec\n",
      " ARIMA(1,1,0)(1,1,1)[7]             : AIC=969.719, Time=0.21 sec\n",
      " ARIMA(2,1,1)(1,1,1)[7]             : AIC=938.294, Time=0.52 sec\n",
      " ARIMA(1,1,2)(1,1,1)[7]             : AIC=938.420, Time=0.48 sec\n",
      " ARIMA(0,1,0)(1,1,1)[7]             : AIC=977.828, Time=0.19 sec\n",
      " ARIMA(0,1,2)(1,1,1)[7]             : AIC=939.062, Time=0.32 sec\n",
      " ARIMA(2,1,0)(1,1,1)[7]             : AIC=960.597, Time=0.31 sec\n",
      " ARIMA(2,1,2)(1,1,1)[7]             : AIC=940.836, Time=1.14 sec\n",
      " ARIMA(1,1,1)(1,1,1)[7] intercept   : AIC=939.019, Time=1.17 sec\n",
      "\n",
      "Best model:  ARIMA(1,1,1)(1,1,1)[7]          \n",
      "Total fit time: 10.070 seconds\n",
      "                                     SARIMAX Results                                     \n",
      "=========================================================================================\n",
      "Dep. Variable:                                 y   No. Observations:                  207\n",
      "Model:             SARIMAX(1, 1, 1)x(1, 1, 1, 7)   Log Likelihood                -463.555\n",
      "Date:                           Thu, 29 May 2025   AIC                            937.111\n",
      "Time:                                   20:12:56   BIC                            953.577\n",
      "Sample:                                        0   HQIC                           943.775\n",
      "                                           - 207                                         \n",
      "Covariance Type:                             opg                                         \n",
      "==============================================================================\n",
      "                 coef    std err          z      P>|z|      [0.025      0.975]\n",
      "------------------------------------------------------------------------------\n",
      "ar.L1          0.4502      0.059      7.654      0.000       0.335       0.565\n",
      "ma.L1         -0.9133      0.038    -23.851      0.000      -0.988      -0.838\n",
      "ar.S.L7        0.4270      0.112      3.820      0.000       0.208       0.646\n",
      "ma.S.L7       -0.9234      0.081    -11.373      0.000      -1.083      -0.764\n",
      "sigma2         5.8889      0.325     18.129      0.000       5.252       6.526\n",
      "===================================================================================\n",
      "Ljung-Box (L1) (Q):                   0.23   Jarque-Bera (JB):               745.29\n",
      "Prob(Q):                              0.63   Prob(JB):                         0.00\n",
      "Heteroskedasticity (H):               0.91   Skew:                            -1.45\n",
      "Prob(H) (two-sided):                  0.70   Kurtosis:                        12.02\n",
      "===================================================================================\n",
      "\n",
      "Warnings:\n",
      "[1] Covariance matrix calculated using the outer product of gradients (complex-step).\n"
     ]
    }
   ],
   "source": [
    "import pmdarima as pm\n",
    "\n",
    "auto_model = pm.auto_arima(sales_boxcox, \n",
    "                      seasonal=True,\n",
    "                      m=7,\n",
    "                      start_p=1, start_q=1,\n",
    "                      #max_p=3, max_q=3,\n",
    "                      d=1, D=1,\n",
    "                      trace=True,\n",
    "                      suppress_warnings=True,\n",
    "                      stepwise=True)\n",
    "\n",
    "print(auto_model.summary())"
   ]
  },
  {
   "cell_type": "code",
   "execution_count": 39,
   "id": "39cf7fe3",
   "metadata": {
    "execution": {
     "iopub.execute_input": "2025-05-29T20:12:56.794689Z",
     "iopub.status.busy": "2025-05-29T20:12:56.793836Z",
     "iopub.status.idle": "2025-05-29T20:12:57.036945Z",
     "shell.execute_reply": "2025-05-29T20:12:57.036091Z"
    },
    "papermill": {
     "duration": 0.284909,
     "end_time": "2025-05-29T20:12:57.039221",
     "exception": false,
     "start_time": "2025-05-29T20:12:56.754312",
     "status": "completed"
    },
    "tags": []
   },
   "outputs": [
    {
     "name": "stdout",
     "output_type": "stream",
     "text": [
      "                                     SARIMAX Results                                     \n",
      "=========================================================================================\n",
      "Dep. Variable:                                 y   No. Observations:                  207\n",
      "Model:             SARIMAX(1, 1, 1)x(1, 1, 1, 7)   Log Likelihood                -428.770\n",
      "Date:                           Thu, 29 May 2025   AIC                            867.541\n",
      "Time:                                   20:12:57   BIC                            883.776\n",
      "Sample:                                        0   HQIC                           874.117\n",
      "                                           - 207                                         \n",
      "Covariance Type:                             opg                                         \n",
      "==============================================================================\n",
      "                 coef    std err          z      P>|z|      [0.025      0.975]\n",
      "------------------------------------------------------------------------------\n",
      "ar.L1          0.4552      0.064      7.059      0.000       0.329       0.582\n",
      "ma.L1         -0.9204      0.032    -28.957      0.000      -0.983      -0.858\n",
      "ar.S.L7       -0.1632      0.174     -0.940      0.347      -0.503       0.177\n",
      "ma.S.L7       -0.1268      0.196     -0.647      0.518      -0.511       0.258\n",
      "sigma2         5.3206      0.239     22.268      0.000       4.852       5.789\n",
      "===================================================================================\n",
      "Ljung-Box (L1) (Q):                   0.07   Jarque-Bera (JB):               715.72\n",
      "Prob(Q):                              0.79   Prob(JB):                         0.00\n",
      "Heteroskedasticity (H):               1.85   Skew:                            -0.75\n",
      "Prob(H) (two-sided):                  0.02   Kurtosis:                        12.39\n",
      "===================================================================================\n",
      "\n",
      "Warnings:\n",
      "[1] Covariance matrix calculated using the outer product of gradients (complex-step).\n"
     ]
    }
   ],
   "source": [
    "from statsmodels.tsa.statespace.sarimax import SARIMAX\n",
    "\n",
    "model = SARIMAX(sales_boxcox,\n",
    "                order=(1, 1, 1), # p, d, q\n",
    "                seasonal_order=(1, 1, 1, 7), #P, D, Q, s\n",
    "                enforce_stationarity=False,\n",
    "                enforce_invertibility=False)\n",
    "\n",
    "results = model.fit()\n",
    "print(results.summary())"
   ]
  },
  {
   "cell_type": "code",
   "execution_count": 40,
   "id": "4d48a29a",
   "metadata": {
    "execution": {
     "iopub.execute_input": "2025-05-29T20:12:57.106013Z",
     "iopub.status.busy": "2025-05-29T20:12:57.105053Z",
     "iopub.status.idle": "2025-05-29T20:12:58.652788Z",
     "shell.execute_reply": "2025-05-29T20:12:58.651778Z"
    },
    "papermill": {
     "duration": 1.58218,
     "end_time": "2025-05-29T20:12:58.655115",
     "exception": false,
     "start_time": "2025-05-29T20:12:57.072935",
     "status": "completed"
    },
    "tags": []
   },
   "outputs": [
    {
     "data": {
      "image/png": "[encoded data removed]",
      "text/plain": [
       "<Figure size 1200x800 with 4 Axes>"
      ]
     },
     "execution_count": 40,
     "metadata": {},
     "output_type": "execute_result"
    },
    {
     "data": {
      "image/png": "[encoded data removed]",
      "text/plain": [
       "<Figure size 1200x800 with 4 Axes>"
      ]
     },
     "metadata": {},
     "output_type": "display_data"
    }
   ],
   "source": [
    "results.plot_diagnostics(figsize=(12, 8))"
   ]
  },
  {
   "cell_type": "markdown",
   "id": "36af204d",
   "metadata": {
    "papermill": {
     "duration": 0.024204,
     "end_time": "2025-05-29T20:12:58.705441",
     "exception": false,
     "start_time": "2025-05-29T20:12:58.681237",
     "status": "completed"
    },
    "tags": []
   },
   "source": [
    "### Predicted In-Sample"
   ]
  },
  {
   "cell_type": "code",
   "execution_count": 41,
   "id": "9e8b1fa0",
   "metadata": {
    "execution": {
     "iopub.execute_input": "2025-05-29T20:12:58.757827Z",
     "iopub.status.busy": "2025-05-29T20:12:58.757465Z",
     "iopub.status.idle": "2025-05-29T20:12:58.764812Z",
     "shell.execute_reply": "2025-05-29T20:12:58.763417Z"
    },
    "papermill": {
     "duration": 0.03549,
     "end_time": "2025-05-29T20:12:58.766432",
     "exception": false,
     "start_time": "2025-05-29T20:12:58.730942",
     "status": "completed"
    },
    "tags": []
   },
   "outputs": [
    {
     "name": "stdout",
     "output_type": "stream",
     "text": [
      "[ 0.         11.2896457  11.0450895  14.27783156  9.68269703 -9.13630507\n",
      " -6.11603346 18.92664275 13.71142621  5.894849  ]\n",
      "(207,)\n"
     ]
    }
   ],
   "source": [
    "fitted_values = results.fittedvalues\n",
    "print(fitted_values[:10])\n",
    "print(fitted_values.shape)"
   ]
  },
  {
   "cell_type": "code",
   "execution_count": 42,
   "id": "2d61d417",
   "metadata": {
    "execution": {
     "iopub.execute_input": "2025-05-29T20:12:58.814670Z",
     "iopub.status.busy": "2025-05-29T20:12:58.814330Z",
     "iopub.status.idle": "2025-05-29T20:12:58.825430Z",
     "shell.execute_reply": "2025-05-29T20:12:58.823773Z"
    },
    "papermill": {
     "duration": 0.037778,
     "end_time": "2025-05-29T20:12:58.827648",
     "exception": false,
     "start_time": "2025-05-29T20:12:58.789870",
     "status": "completed"
    },
    "tags": []
   },
   "outputs": [
    {
     "name": "stdout",
     "output_type": "stream",
     "text": [
      "2014-12-16        1.000000\n",
      "2014-12-17     3007.061081\n",
      "2014-12-18     2645.381447\n",
      "2014-12-19    13034.193131\n",
      "2014-12-20     1262.869349\n",
      "                  ...     \n",
      "2015-07-06        1.368963\n",
      "2015-07-07      319.409992\n",
      "2015-07-08      203.978271\n",
      "2015-07-09      123.612148\n",
      "2015-07-10       41.699013\n",
      "Freq: D, Name: sales, Length: 207, dtype: float64\n",
      "(207,)\n"
     ]
    }
   ],
   "source": [
    "from scipy.special import inv_boxcox\n",
    "\n",
    "fitted_values = inv_boxcox(fitted_values, fitted_lambda)\n",
    "\n",
    "start_date = \"2014-12-16\"\n",
    "dates = pd.date_range(start=start_date, periods=len(fitted_values), freq='D')\n",
    "\n",
    "# Create the time series\n",
    "fitted_values = pd.Series(fitted_values, index=dates, name=\"sales\")\n",
    "\n",
    "# Display the time series\n",
    "print(fitted_values)\n",
    "print(fitted_values.shape)"
   ]
  },
  {
   "cell_type": "code",
   "execution_count": 43,
   "id": "968e6bb8",
   "metadata": {
    "execution": {
     "iopub.execute_input": "2025-05-29T20:12:58.878987Z",
     "iopub.status.busy": "2025-05-29T20:12:58.878531Z",
     "iopub.status.idle": "2025-05-29T20:12:58.886152Z",
     "shell.execute_reply": "2025-05-29T20:12:58.884809Z"
    },
    "papermill": {
     "duration": 0.033964,
     "end_time": "2025-05-29T20:12:58.888023",
     "exception": false,
     "start_time": "2025-05-29T20:12:58.854059",
     "status": "completed"
    },
    "tags": []
   },
   "outputs": [
    {
     "name": "stdout",
     "output_type": "stream",
     "text": [
      "date\n",
      "2014-12-16 00:00:00+00:00    1350.001\n",
      "2014-12-17 00:00:00+00:00    2030.001\n",
      "2014-12-18 00:00:00+00:00    8920.001\n",
      "2014-12-19 00:00:00+00:00    1750.001\n",
      "2014-12-20 00:00:00+00:00       0.001\n",
      "                               ...   \n",
      "2015-07-06 00:00:00+00:00      18.001\n",
      "2015-07-07 00:00:00+00:00     325.001\n",
      "2015-07-08 00:00:00+00:00     220.001\n",
      "2015-07-09 00:00:00+00:00     129.001\n",
      "2015-07-10 00:00:00+00:00       4.001\n",
      "Freq: D, Name: sales, Length: 207, dtype: float64\n",
      "(207,)\n"
     ]
    }
   ],
   "source": [
    "print(daily3_nonzero)\n",
    "print(daily3_nonzero.shape)"
   ]
  },
  {
   "cell_type": "code",
   "execution_count": 44,
   "id": "0d48a55a",
   "metadata": {
    "execution": {
     "iopub.execute_input": "2025-05-29T20:12:58.937315Z",
     "iopub.status.busy": "2025-05-29T20:12:58.936990Z",
     "iopub.status.idle": "2025-05-29T20:12:58.944209Z",
     "shell.execute_reply": "2025-05-29T20:12:58.942828Z"
    },
    "papermill": {
     "duration": 0.033091,
     "end_time": "2025-05-29T20:12:58.945851",
     "exception": false,
     "start_time": "2025-05-29T20:12:58.912760",
     "status": "completed"
    },
    "tags": []
   },
   "outputs": [
    {
     "name": "stdout",
     "output_type": "stream",
     "text": [
      "SMAPE : 79.61879915637333 %\n"
     ]
    }
   ],
   "source": [
    "# SMAPE\n",
    "def smape(y_true, y_pred):\n",
    "    denominator = (np.abs(y_true) + np.abs(y_pred)) / 2\n",
    "    diff = np.abs(y_true - y_pred)\n",
    "    smape = np.mean(np.where(denominator == 0, 0, diff / denominator)) * 100\n",
    "    return smape\n",
    "smape_value = smape(daily3_nonzero.values, fitted_values.values)\n",
    "\n",
    "print('SMAPE :', smape_value, '%')"
   ]
  },
  {
   "cell_type": "code",
   "execution_count": 45,
   "id": "4509c081",
   "metadata": {
    "execution": {
     "iopub.execute_input": "2025-05-29T20:12:58.997902Z",
     "iopub.status.busy": "2025-05-29T20:12:58.996798Z",
     "iopub.status.idle": "2025-05-29T20:12:59.245866Z",
     "shell.execute_reply": "2025-05-29T20:12:59.244773Z"
    },
    "papermill": {
     "duration": 0.277362,
     "end_time": "2025-05-29T20:12:59.247568",
     "exception": false,
     "start_time": "2025-05-29T20:12:58.970206",
     "status": "completed"
    },
    "tags": []
   },
   "outputs": [
    {
     "data": {
      "image/png": "[encoded data removed]",
      "text/plain": [
       "<Figure size 1200x500 with 1 Axes>"
      ]
     },
     "metadata": {},
     "output_type": "display_data"
    }
   ],
   "source": [
    "plt.figure(figsize=(12, 5))\n",
    "plt.plot(daily3_nonzero, label='Actual values')\n",
    "plt.plot(fitted_values, label='Fitted Values')\n",
    "plt.xlabel('Time Step')\n",
    "plt.ylabel('Sales')\n",
    "plt.legend()\n",
    "plt.grid(True)\n",
    "plt.show()"
   ]
  },
  {
   "cell_type": "markdown",
   "id": "42eb506a",
   "metadata": {
    "papermill": {
     "duration": 0.024793,
     "end_time": "2025-05-29T20:12:59.298072",
     "exception": false,
     "start_time": "2025-05-29T20:12:59.273279",
     "status": "completed"
    },
    "tags": []
   },
   "source": [
    "### Forecasting"
   ]
  },
  {
   "cell_type": "code",
   "execution_count": 46,
   "id": "abccc662",
   "metadata": {
    "execution": {
     "iopub.execute_input": "2025-05-29T20:12:59.349586Z",
     "iopub.status.busy": "2025-05-29T20:12:59.349278Z",
     "iopub.status.idle": "2025-05-29T20:12:59.357923Z",
     "shell.execute_reply": "2025-05-29T20:12:59.356287Z"
    },
    "papermill": {
     "duration": 0.037002,
     "end_time": "2025-05-29T20:12:59.359729",
     "exception": false,
     "start_time": "2025-05-29T20:12:59.322727",
     "status": "completed"
    },
    "tags": []
   },
   "outputs": [
    {
     "data": {
      "text/plain": [
       "array([ 9.80229049e+00,  1.05477919e+01,  1.34705626e+01,  1.02736845e+01,\n",
       "       -5.28467642e+00, -5.28467642e+00,  9.57371793e+00,  1.32930046e+01,\n",
       "        6.47045112e+00, -5.28467642e+00,  6.39276572e+00, -5.28467642e+00,\n",
       "       -5.28467642e+00,  8.14277818e+00,  1.29029299e+01,  1.24819574e+01,\n",
       "        2.64784473e+00,  8.82250296e+00, -5.28467642e+00, -5.28467642e+00,\n",
       "        8.73143478e+00,  1.27577945e+01,  1.32896997e+01,  1.30859029e+01,\n",
       "        1.04454785e+01, -5.28467642e+00, -5.28467642e+00,  8.46059014e+00,\n",
       "        1.33657497e+01,  1.39436361e+01,  1.37620396e+01,  1.08349486e+01,\n",
       "       -5.28467642e+00, -5.28467642e+00,  9.27467891e+00,  1.37558237e+01,\n",
       "        1.38794331e+01,  1.34564218e+01,  1.07915713e+01, -5.28467642e+00,\n",
       "       -5.28467642e+00,  9.09312299e+00,  1.38851297e+01,  1.37202800e+01,\n",
       "        1.29672619e+01,  9.22326578e+00, -5.28467642e+00, -5.28467642e+00,\n",
       "        9.19611845e+00,  1.36639717e+01,  1.41459830e+01,  1.33553933e+01,\n",
       "        1.07834365e+01,  1.92910878e+00, -5.28467642e+00,  9.48172708e+00,\n",
       "        1.40866499e+01,  1.44833295e+01,  1.39221100e+01,  1.09777048e+01,\n",
       "       -5.28467642e+00, -5.28467642e+00,  9.16857820e+00,  1.39170842e+01,\n",
       "        1.41336720e+01,  1.35246600e+01,  1.07571853e+01, -5.28467642e+00,\n",
       "       -5.28467642e+00,  9.47228224e+00,  1.26340976e+01,  1.41540380e+01,\n",
       "        1.37889881e+01,  1.07654251e+01, -5.28467642e+00, -5.28467642e+00,\n",
       "        8.77524683e+00,  1.38317432e+01,  1.38689857e+01,  1.34916108e+01,\n",
       "        1.05687344e+01, -5.28467642e+00, -5.28467642e+00,  8.77752445e+00,\n",
       "        1.26900034e+01,  5.90196046e+00,  5.15373910e+00,  2.10854416e+00,\n",
       "       -5.28467642e+00, -5.28467642e+00,  1.71977124e+00,  4.52128492e+00,\n",
       "        4.94890736e+00,  4.00364212e+00,  2.64784473e+00, -5.28467642e+00,\n",
       "       -5.28467642e+00,  2.40595588e+00,  4.08420673e+00,  4.52128492e+00,\n",
       "        4.49189545e+00,  2.26581027e+00, -5.28467642e+00, -5.28467642e+00,\n",
       "        1.71977124e+00,  4.33551731e+00,  4.92683371e+00,  4.16052993e+00,\n",
       "        2.75396320e+00, -5.28467642e+00, -5.28467642e+00,  7.13589733e-01,\n",
       "        4.99212009e+00,  5.36833035e+00,  4.43131230e+00,  2.85224887e+00,\n",
       "       -5.28467642e+00, -5.28467642e+00,  1.92910878e+00,  4.81139207e+00,\n",
       "        5.36833035e+00,  4.94890736e+00,  3.02956866e+00, -5.28467642e+00,\n",
       "       -5.28467642e+00,  2.10854416e+00,  5.40138958e+00,  5.84114503e+00,\n",
       "        5.73877565e+00,  3.57169267e+00, -5.28467642e+00, -5.28467642e+00,\n",
       "        2.53246471e+00,  5.35153501e+00,  6.00596230e+00,  5.84114503e+00,\n",
       "        3.87366790e+00, -5.28467642e+00, -5.28467642e+00,  1.92910878e+00,\n",
       "        6.10368902e+00,  6.52845704e+00,  6.64635414e+00,  3.96160929e+00,\n",
       "       -5.28467642e+00, -5.28467642e+00,  3.45472872e+00,  7.10833739e+00,\n",
       "        7.14267824e+00,  7.88759353e+00,  5.31739261e+00, -5.28467642e+00,\n",
       "       -5.28467642e+00,  4.16052993e+00,  1.04541258e+01,  8.83799315e+00,\n",
       "        1.32625707e+01,  1.07555334e+01, -5.28467642e+00, -5.28467642e+00,\n",
       "        7.70020251e+00,  1.30010614e+01,  1.38616643e+01,  1.33588506e+01,\n",
       "        1.06512747e+01, -5.28467642e+00, -5.28467642e+00,  9.00850796e+00,\n",
       "        1.38819885e+01,  1.42241262e+01,  1.33215303e+01,  1.06469215e+01,\n",
       "       -5.28467642e+00, -5.28467642e+00,  8.61592312e+00,  1.25672668e+01,\n",
       "        1.18507639e+01,  1.29856818e+01,  1.00531697e+01,  9.99540966e-04,\n",
       "       -5.28467642e+00,  8.70085291e+00,  1.35504420e+01,  1.39398067e+01,\n",
       "        1.32212574e+01,  1.05386184e+01, -5.28467642e+00, -5.28467642e+00,\n",
       "       -5.28467642e+00,  5.57173643e+00,  5.43376566e+00,  4.40006584e+00,\n",
       "        1.92910878e+00, -5.28467642e+00, -5.28467642e+00,  2.53246471e+00,\n",
       "        6.41034654e+00,  6.44495818e+00,  6.15554890e+00,  5.21023027e+00,\n",
       "        1.46776173e+00, -5.28467642e+00,  3.25850094e+00,  7.38546608e+00,\n",
       "        6.77066088e+00,  5.96056351e+00,  1.46776173e+00])"
      ]
     },
     "execution_count": 46,
     "metadata": {},
     "output_type": "execute_result"
    }
   ],
   "source": [
    "sales_boxcox"
   ]
  },
  {
   "cell_type": "code",
   "execution_count": 47,
   "id": "4c355a5b",
   "metadata": {
    "execution": {
     "iopub.execute_input": "2025-05-29T20:12:59.411176Z",
     "iopub.status.busy": "2025-05-29T20:12:59.410823Z",
     "iopub.status.idle": "2025-05-29T20:12:59.419691Z",
     "shell.execute_reply": "2025-05-29T20:12:59.418797Z"
    },
    "papermill": {
     "duration": 0.036162,
     "end_time": "2025-05-29T20:12:59.421322",
     "exception": false,
     "start_time": "2025-05-29T20:12:59.385160",
     "status": "completed"
    },
    "tags": []
   },
   "outputs": [],
   "source": [
    "forecast = results.get_forecast(steps=30)\n",
    "forecast_mean = forecast.predicted_mean"
   ]
  },
  {
   "cell_type": "code",
   "execution_count": 48,
   "id": "8f62d9d1",
   "metadata": {
    "execution": {
     "iopub.execute_input": "2025-05-29T20:12:59.478749Z",
     "iopub.status.busy": "2025-05-29T20:12:59.478384Z",
     "iopub.status.idle": "2025-05-29T20:12:59.485248Z",
     "shell.execute_reply": "2025-05-29T20:12:59.484265Z"
    },
    "papermill": {
     "duration": 0.037562,
     "end_time": "2025-05-29T20:12:59.486621",
     "exception": false,
     "start_time": "2025-05-29T20:12:59.449059",
     "status": "completed"
    },
    "tags": []
   },
   "outputs": [
    {
     "data": {
      "text/plain": [
       "array([-2.32343177, -6.56987671,  1.79973737,  6.20058803,  5.82335354,\n",
       "        5.16375102,  1.65356161, -2.28322591, -7.00851231,  1.35760854,\n",
       "        5.69928142,  5.27668557,  4.58952309,  0.91761755, -2.99603271,\n",
       "       -7.64346127,  0.72310078,  5.07437207,  4.65915192,  3.97647473,\n",
       "        0.3309537 , -3.58647479, -8.24660992,  0.11987961,  4.46958432,\n",
       "        4.05316044,  3.36975126, -0.28007541, -4.19688735, -8.85494894])"
      ]
     },
     "execution_count": 48,
     "metadata": {},
     "output_type": "execute_result"
    }
   ],
   "source": [
    "forecast_mean"
   ]
  },
  {
   "cell_type": "code",
   "execution_count": 49,
   "id": "025a829b",
   "metadata": {
    "execution": {
     "iopub.execute_input": "2025-05-29T20:12:59.540766Z",
     "iopub.status.busy": "2025-05-29T20:12:59.540279Z",
     "iopub.status.idle": "2025-05-29T20:12:59.547895Z",
     "shell.execute_reply": "2025-05-29T20:12:59.546797Z"
    },
    "papermill": {
     "duration": 0.036972,
     "end_time": "2025-05-29T20:12:59.549557",
     "exception": false,
     "start_time": "2025-05-29T20:12:59.512585",
     "status": "completed"
    },
    "tags": []
   },
   "outputs": [
    {
     "data": {
      "text/plain": [
       "array([7.61320750e-02, 8.28854998e-05, 5.36336038e+00, 1.51474071e+02,\n",
       "       1.17573674e+02, 7.45247330e+01, 4.71814747e+00, 7.99935151e-02,\n",
       "       3.11017324e-05, 3.62460071e+00, 1.08048975e+02, 8.06729896e+01,\n",
       "       4.94003517e+01, 2.42294729e+00, 3.22598188e-02, 6.44775976e-06,\n",
       "       2.01906194e+00, 6.99673291e+01, 5.19641405e+01, 3.13513336e+01,\n",
       "       1.38621528e+00, 1.43998804e-02, 1.16859094e-06, 1.12670661e+00,\n",
       "       4.52549389e+01, 3.32170667e+01, 1.96495584e+01, 7.53282357e-01,\n",
       "       5.89243420e-03, 1.57733484e-07])"
      ]
     },
     "execution_count": 49,
     "metadata": {},
     "output_type": "execute_result"
    }
   ],
   "source": [
    "forecast_orig = inv_boxcox(forecast_mean, fitted_lambda)\n",
    "forecast_orig"
   ]
  },
  {
   "cell_type": "code",
   "execution_count": 50,
   "id": "d6b9c321",
   "metadata": {
    "execution": {
     "iopub.execute_input": "2025-05-29T20:12:59.601641Z",
     "iopub.status.busy": "2025-05-29T20:12:59.601329Z",
     "iopub.status.idle": "2025-05-29T20:12:59.609270Z",
     "shell.execute_reply": "2025-05-29T20:12:59.608107Z"
    },
    "papermill": {
     "duration": 0.036154,
     "end_time": "2025-05-29T20:12:59.611085",
     "exception": false,
     "start_time": "2025-05-29T20:12:59.574931",
     "status": "completed"
    },
    "tags": []
   },
   "outputs": [
    {
     "name": "stdout",
     "output_type": "stream",
     "text": [
      "2015-07-11 00:00:00+00:00    7.613208e-02\n",
      "2015-07-12 00:00:00+00:00    8.288550e-05\n",
      "2015-07-13 00:00:00+00:00    5.363360e+00\n",
      "2015-07-14 00:00:00+00:00    1.514741e+02\n",
      "2015-07-15 00:00:00+00:00    1.175737e+02\n",
      "2015-07-16 00:00:00+00:00    7.452473e+01\n",
      "2015-07-17 00:00:00+00:00    4.718147e+00\n",
      "2015-07-18 00:00:00+00:00    7.999352e-02\n",
      "2015-07-19 00:00:00+00:00    3.110173e-05\n",
      "2015-07-20 00:00:00+00:00    3.624601e+00\n",
      "2015-07-21 00:00:00+00:00    1.080490e+02\n",
      "2015-07-22 00:00:00+00:00    8.067299e+01\n",
      "2015-07-23 00:00:00+00:00    4.940035e+01\n",
      "2015-07-24 00:00:00+00:00    2.422947e+00\n",
      "2015-07-25 00:00:00+00:00    3.225982e-02\n",
      "2015-07-26 00:00:00+00:00    6.447760e-06\n",
      "2015-07-27 00:00:00+00:00    2.019062e+00\n",
      "2015-07-28 00:00:00+00:00    6.996733e+01\n",
      "2015-07-29 00:00:00+00:00    5.196414e+01\n",
      "2015-07-30 00:00:00+00:00    3.135133e+01\n",
      "2015-07-31 00:00:00+00:00    1.386215e+00\n",
      "2015-08-01 00:00:00+00:00    1.439988e-02\n",
      "2015-08-02 00:00:00+00:00    1.168591e-06\n",
      "2015-08-03 00:00:00+00:00    1.126707e+00\n",
      "2015-08-04 00:00:00+00:00    4.525494e+01\n",
      "2015-08-05 00:00:00+00:00    3.321707e+01\n",
      "2015-08-06 00:00:00+00:00    1.964956e+01\n",
      "2015-08-07 00:00:00+00:00    7.532824e-01\n",
      "2015-08-08 00:00:00+00:00    5.892434e-03\n",
      "2015-08-09 00:00:00+00:00    1.577335e-07\n",
      "Freq: D, Name: sales, dtype: float64\n"
     ]
    }
   ],
   "source": [
    "start_date = \"2015-07-11\"\n",
    "dates = pd.date_range(start=start_date, periods=len(forecast_orig), freq='D', tz='UTC')\n",
    "\n",
    "# Create the time series\n",
    "forecast_orig = pd.Series(forecast_orig, index=dates, name=\"sales\")\n",
    "\n",
    "print(forecast_orig)"
   ]
  },
  {
   "cell_type": "code",
   "execution_count": 51,
   "id": "c55bdcac",
   "metadata": {
    "execution": {
     "iopub.execute_input": "2025-05-29T20:12:59.663530Z",
     "iopub.status.busy": "2025-05-29T20:12:59.663228Z",
     "iopub.status.idle": "2025-05-29T20:12:59.670679Z",
     "shell.execute_reply": "2025-05-29T20:12:59.669639Z"
    },
    "papermill": {
     "duration": 0.036089,
     "end_time": "2025-05-29T20:12:59.672304",
     "exception": false,
     "start_time": "2025-05-29T20:12:59.636215",
     "status": "completed"
    },
    "tags": []
   },
   "outputs": [
    {
     "data": {
      "text/plain": [
       "date\n",
       "2014-12-16 00:00:00+00:00    1350\n",
       "2014-12-17 00:00:00+00:00    2030\n",
       "2014-12-18 00:00:00+00:00    8920\n",
       "2014-12-19 00:00:00+00:00    1750\n",
       "2014-12-20 00:00:00+00:00       0\n",
       "                             ... \n",
       "2015-07-06 00:00:00+00:00      18\n",
       "2015-07-07 00:00:00+00:00     325\n",
       "2015-07-08 00:00:00+00:00     220\n",
       "2015-07-09 00:00:00+00:00     129\n",
       "2015-07-10 00:00:00+00:00       4\n",
       "Freq: D, Name: sales, Length: 207, dtype: int64"
      ]
     },
     "execution_count": 51,
     "metadata": {},
     "output_type": "execute_result"
    }
   ],
   "source": [
    "daily3"
   ]
  },
  {
   "cell_type": "code",
   "execution_count": 52,
   "id": "ba18b97d",
   "metadata": {
    "execution": {
     "iopub.execute_input": "2025-05-29T20:12:59.726842Z",
     "iopub.status.busy": "2025-05-29T20:12:59.726470Z",
     "iopub.status.idle": "2025-05-29T20:12:59.999162Z",
     "shell.execute_reply": "2025-05-29T20:12:59.998093Z"
    },
    "papermill": {
     "duration": 0.303337,
     "end_time": "2025-05-29T20:13:00.000907",
     "exception": false,
     "start_time": "2025-05-29T20:12:59.697570",
     "status": "completed"
    },
    "tags": []
   },
   "outputs": [
    {
     "data": {
      "image/png": "[encoded data removed]",
      "text/plain": [
       "<Figure size 1200x500 with 1 Axes>"
      ]
     },
     "metadata": {},
     "output_type": "display_data"
    }
   ],
   "source": [
    "plt.figure(figsize=(12, 5))\n",
    "plt.plot(daily3, label='Actual data')\n",
    "plt.plot(forecast_orig, label='Forecast', linestyle='--')\n",
    "plt.legend()\n",
    "plt.title('30-Day Forecast of Vehicle Sales')\n",
    "plt.show()"
   ]
  },
  {
   "cell_type": "code",
   "execution_count": 53,
   "id": "14f7d745",
   "metadata": {
    "execution": {
     "iopub.execute_input": "2025-05-29T20:13:00.057731Z",
     "iopub.status.busy": "2025-05-29T20:13:00.057401Z",
     "iopub.status.idle": "2025-05-29T20:13:00.320978Z",
     "shell.execute_reply": "2025-05-29T20:13:00.320017Z"
    },
    "papermill": {
     "duration": 0.293964,
     "end_time": "2025-05-29T20:13:00.322532",
     "exception": false,
     "start_time": "2025-05-29T20:13:00.028568",
     "status": "completed"
    },
    "tags": []
   },
   "outputs": [
    {
     "data": {
      "image/png": "[encoded data removed]",
      "text/plain": [
       "<Figure size 1200x500 with 1 Axes>"
      ]
     },
     "metadata": {},
     "output_type": "display_data"
    }
   ],
   "source": [
    "plt.figure(figsize=(12, 5))\n",
    "plt.plot(forecast_orig, label='Forecast', linestyle='--')\n",
    "plt.legend()\n",
    "plt.title('30-Day Forecast of Vehicle Sales')\n",
    "plt.show()"
   ]
  },
  {
   "cell_type": "code",
   "execution_count": null,
   "id": "e9d5e433",
   "metadata": {
    "papermill": {
     "duration": 0.029218,
     "end_time": "2025-05-29T20:13:00.381122",
     "exception": false,
     "start_time": "2025-05-29T20:13:00.351904",
     "status": "completed"
    },
    "tags": []
   },
   "outputs": [],
   "source": []
  }
 ],
 "metadata": {
  "kaggle": {
   "accelerator": "none",
   "dataSources": [
    {
     "datasetId": 4476093,
     "sourceId": 7673611,
     "sourceType": "datasetVersion"
    }
   ],
   "dockerImageVersionId": 31040,
   "isGpuEnabled": false,
   "isInternetEnabled": true,
   "language": "python",
   "sourceType": "notebook"
  },
  "kernelspec": {
   "display_name": "Python 3",
   "language": "python",
   "name": "python3"
  },
  "language_info": {
   "codemirror_mode": {
    "name": "ipython",
    "version": 3
   },
   "file_extension": ".py",
   "mimetype": "text/x-python",
   "name": "python",
   "nbconvert_exporter": "python",
   "pygments_lexer": "ipython3",
   "version": "3.11.11"
  },
  "papermill": {
   "default_parameters": {},
   "duration": 43.698646,
   "end_time": "2025-05-29T20:13:01.532763",
   "environment_variables": {},
   "exception": null,
   "input_path": "__notebook__.ipynb",
   "output_path": "__notebook__.ipynb",
   "parameters": {},
   "start_time": "2025-05-29T20:12:17.834117",
   "version": "2.6.0"
  }
 },
 "nbformat": 4,
 "nbformat_minor": 5
}
